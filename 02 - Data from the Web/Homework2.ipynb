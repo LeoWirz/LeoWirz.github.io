{
 "cells": [
  {
   "cell_type": "code",
   "execution_count": 1,
   "metadata": {
    "collapsed": true
   },
   "outputs": [],
   "source": [
    "from bs4 import BeautifulSoup\n",
    "import requests\n",
    "import json\n",
    "import pandas as pd\n",
    "import numpy as np\n",
    "pd.options.mode.chained_assignment = None  # default='warn'"
   ]
  },
  {
   "cell_type": "code",
   "execution_count": 2,
   "metadata": {
    "collapsed": true
   },
   "outputs": [],
   "source": [
    "def soup_from_url(url):\n",
    "    page = requests.get(url)\n",
    "    return BeautifulSoup(page.content, 'html.parser')\n",
    "\n",
    "def get_json_ranks_dataframe(url, n):\n",
    "    soup = soup_from_url(url)\n",
    "    newDictionary=json.loads(str(soup))\n",
    "    return pd.DataFrame.from_dict(newDictionary[\"data\"]).head(n)"
   ]
  },
  {
   "cell_type": "code",
   "execution_count": 3,
   "metadata": {
    "collapsed": true
   },
   "outputs": [],
   "source": [
    "# urls directly to get the JSON files\n",
    "url1 = \"https://www.topuniversities.com/sites/default/files/qs-rankings-data/357051.txt?_=1508356628355\"\n",
    "url2 = \"https://www.timeshighereducation.com/sites/default/files/the_data_rankings/world_university_rankings_2018_limit0_369a9045a203e176392b9fb8f8c1cb2a.json\"\n",
    "\n",
    "# dataframes with all ranks from JSON, 200 first positions\n",
    "df1 = get_json_ranks_dataframe(url1,200)\n",
    "df2 = get_json_ranks_dataframe(url2,200)"
   ]
  },
  {
   "cell_type": "code",
   "execution_count": 25,
   "metadata": {
    "collapsed": true
   },
   "outputs": [],
   "source": [
    "def get_missing_values_tu(url):\n",
    "    soup = soup_from_url(url)\n",
    "    \n",
    "    def get_div_number(c):\n",
    "        container = soup.find(\"div\", { \"class\" : c })\n",
    "        if not container:\n",
    "            return np.nan\n",
    "        num_str = container.find(\"div\", {\"class\": \"number\"}).contents[0]\n",
    "        num = ''.join([i for i in num_str if i.isdigit()])\n",
    "        return num\n",
    "    \n",
    "    # get total faculty staff\n",
    "    num_staff_total = get_div_number(\"total faculty\")\n",
    "    \n",
    "    # get total international faculty staff\n",
    "    num_staff_inter = get_div_number(\"inter faculty\")\n",
    "    \n",
    "    # get total faculty student\n",
    "    num_student_total = get_div_number(\"total student\")\n",
    "    \n",
    "    # get total international faculty student\n",
    "    num_student_inter = get_div_number(\"total inter\")\n",
    "    \n",
    "    return [num_staff_total, num_staff_inter, num_student_total, num_student_inter, url]\n",
    "\n",
    "# apparently it is not necessary for this website, I let it there for now\n",
    "def get_missing_values_the(url):\n",
    "    soup = soup_from_url(url)\n",
    "    \n",
    "    region = soup.find(\"meta\",  property=\"og:locality\")\n",
    "    address = soup.find(\"meta\", property=\"og:street_address\")\n",
    "    \n",
    "    ret_val = \"\"\n",
    "    if region:\n",
    "        ret_val = region[\"content\"]\n",
    "    elif address:\n",
    "        ret_val = address[\"content\"].replace(',','').strip()\n",
    "    else:\n",
    "        ret_val = np.nan\n",
    "        \n",
    "    return [ret_val, url]\n",
    "\n",
    "def get_missing(col, domain, urls, f):\n",
    "    missing_values = pd.DataFrame(columns=col)\n",
    "    for idx,url in enumerate(urls):\n",
    "        miss_value = f(domain + url)\n",
    "        missing_values.loc[idx] = miss_value\n",
    "    return missing_values"
   ]
  },
  {
   "cell_type": "code",
   "execution_count": null,
   "metadata": {
    "collapsed": true
   },
   "outputs": [],
   "source": [
    "df1_m = get_missing(['num_staff_total', 'num_staff_inter', 'num_student_total', 'num_student_inter', 'url'], \n",
    "           \"https://www.topuniversities.com\",\n",
    "            df1.url,\n",
    "            get_missing_values_tu)\n",
    "\n",
    "#not necessary\n",
    "#df2_m = get_missing(['region', 'url'],\n",
    "#           \"https://www.timeshighereducation.com\",\n",
    "#           df2.url,\n",
    "#           get_missing_values_the)"
   ]
  },
  {
   "cell_type": "code",
   "execution_count": 41,
   "metadata": {},
   "outputs": [],
   "source": [
    "mapping = pd.read_csv('Countries-Continents.csv')\n",
    "mapping.columns = [['region', 'location']]"
   ]
  },
  {
   "cell_type": "code",
   "execution_count": 42,
   "metadata": {},
   "outputs": [],
   "source": [
    "# concatenate with the missing values\n",
    "top_uni = pd.concat([df1, df1_m], axis=1)\n",
    "# not necessary\n",
    "#high_educ = pd.concat([df2, df2_m], axis=1)\n",
    "high_educ = pd.merge(df2, mapping, on='location')\n",
    "\n",
    "\n",
    "top_uni_clean = top_uni[['title', 'rank_display', 'country', 'region',\n",
    "                        'num_staff_total', 'num_staff_inter',\n",
    "                         'num_student_total', 'num_student_inter']]\n",
    "\n",
    "top_uni_clean.columns = ['name', 'rank_top', 'country', 'region',\n",
    "                        'numb_staff_total', 'num_staff_inter',\n",
    "                         'num_student_total', 'num_student_inter']\n",
    "\n",
    "high_educ_clean = high_educ[['name', 'rank', 'location', 'region',\n",
    "                             'stats_student_staff_ratio',\n",
    "                             'stats_number_students', 'stats_pc_intl_students']]\n",
    "\n",
    "high_educ_clean.columns = ['name', 'rank_high', 'country', 'region',\n",
    "                        'numb_staff_total',\n",
    "                         'num_student_total', 'num_student_inter']\n",
    "\n",
    "top_uni_clean.rank_top = top_uni_clean.rank_top.apply(lambda x: x.replace('=', ''))\n",
    "high_educ_clean.num_student_total = high_educ_clean.num_student_total.apply(lambda x: x.replace(',','') )\n",
    "high_educ_clean.num_student_inter = high_educ_clean.num_student_inter.apply(lambda x: x.replace('%','') )\n",
    "high_educ_clean.rank_high = high_educ_clean.rank_high.apply(lambda x: x.replace('=',''))\n",
    "\n",
    "top_uni_clean = top_uni_clean.apply(pd.to_numeric, errors=\"ignore\")\n",
    "high_educ_clean = high_educ_clean.apply(pd.to_numeric, errors=\"ignore\")\n",
    "\n",
    "# change staff/student ratio to number of staff\n",
    "# change international students percentage to the actual value\n",
    "high_educ_clean.numb_staff_total =  (high_educ_clean.num_student_total / high_educ_clean.numb_staff_total).round()\n",
    "high_educ_clean.num_student_inter = (high_educ_clean.num_student_inter * high_educ_clean.num_student_total).apply(lambda x : x/100).round()"
   ]
  },
  {
   "cell_type": "code",
   "execution_count": 44,
   "metadata": {
    "scrolled": false
   },
   "outputs": [],
   "source": [
    "pd.set_option('precision', 0)\n",
    "concat_lists = pd.concat([top_uni_clean, high_educ_clean]).sort_values(['name'])"
   ]
  },
  {
   "cell_type": "code",
   "execution_count": 16,
   "metadata": {},
   "outputs": [
    {
     "data": {
      "text/plain": [
       "name\n",
       "Aalto University                                             12446\n",
       "Aarhus University                                            25696\n",
       "Albert-Ludwigs-Universitaet Freiburg                         23214\n",
       "Alma Mater Studiorum - University of Bologna                 63399\n",
       "Arizona State University                                     44475\n",
       "Australian National University                               15986\n",
       "Autonomous University of Barcelona                           32309\n",
       "Boston University                                            25248\n",
       "Brown University                                              9074\n",
       "California Institute of Technology                            2209\n",
       "California Institute of Technology (Caltech)                  2255\n",
       "Cardiff University                                           24376\n",
       "Carnegie Mellon University                                   13016\n",
       "Case Western Reserve University                              10130\n",
       "CentraleSupélec                                               3877\n",
       "Chalmers University of Technology                             9257\n",
       "Charité - Universitätsmedizin Berlin                          6792\n",
       "Chinese University of Hong Kong                              18072\n",
       "City University of Hong Kong                                  9240\n",
       "Columbia University                                          25816\n",
       "Cornell University                                           21877\n",
       "Dartmouth College                                             6162\n",
       "Delft University of Technology                               16792\n",
       "Duke University                                              15288\n",
       "Durham University                                            16528\n",
       "ETH Zurich - Swiss Federal Institute of Technology           19815\n",
       "ETH Zurich – Swiss Federal Institute of Technology Zurich    19233\n",
       "Eberhard Karls Universität Tübingen                          27366\n",
       "Ecole Polytechnique                                           3126\n",
       "Ecole Polytechnique Fédérale de Lausanne (EPFL)              10343\n",
       "                                                             ...  \n",
       "University of Virginia                                       22808\n",
       "University of Warwick                                        18424\n",
       "University of Washington                                     50959\n",
       "University of Waterloo                                       35541\n",
       "University of Western Australia                              18787\n",
       "University of Wisconsin-Madison                              38972\n",
       "University of Würzburg                                       22537\n",
       "University of York                                           15480\n",
       "University of Zurich                                         26214\n",
       "Université Catholique de Louvain                             24451\n",
       "Université Libre de Bruxelles                                25343\n",
       "Université Pierre et Marie Curie (UPMC)                      24305\n",
       "Université catholique de Louvain (UCL)                       24277\n",
       "Université de Montréal                                       39112\n",
       "Uppsala University                                           25272\n",
       "Utrecht University                                           31638\n",
       "Vanderbilt University                                        12011\n",
       "Vienna University of Technology                              17479\n",
       "Vrije Universiteit Amsterdam                                 24554\n",
       "Vrije Universiteit Brussel (VUB)                              9284\n",
       "Wageningen University                                        12695\n",
       "Wageningen University & Research                             12326\n",
       "Washington University in St Louis                            12600\n",
       "Washington University in St. Louis                           13474\n",
       "Yale University                                              12278\n",
       "Yonsei University                                            25903\n",
       "Zhejiang University                                          45460\n",
       "École Normale Supérieure de Lyon                              2120\n",
       "École Polytechnique                                           2799\n",
       "École Polytechnique Fédérale de Lausanne                      9928\n",
       "Name: num_student_total, Length: 295, dtype: float64"
      ]
     },
     "execution_count": 16,
     "metadata": {},
     "output_type": "execute_result"
    }
   ],
   "source": [
    "t = concat_lists.groupby(['name'])['num_student_total'].mean()\n",
    "t"
   ]
  },
  {
   "cell_type": "code",
   "execution_count": 5,
   "metadata": {},
   "outputs": [
    {
     "data": {
      "text/plain": [
       "0.5333333333333333"
      ]
     },
     "execution_count": 5,
     "metadata": {},
     "output_type": "execute_result"
    }
   ],
   "source": [
    "from difflib import SequenceMatcher\n",
    "\n",
    "def similar(a, b):\n",
    "    return SequenceMatcher(None, a, b).ratio()\n",
    "\n",
    "similar(\"epfl\", \"the is epfl\")"
   ]
  },
  {
   "cell_type": "code",
   "execution_count": null,
   "metadata": {
    "collapsed": true
   },
   "outputs": [],
   "source": [
    "def diff_rows(r1, r2):\n",
    "    \"\"\"gives the overall difference between 2 rows\"\"\""
   ]
  }
 ],
 "metadata": {
  "kernelspec": {
   "display_name": "Python 3",
   "language": "python",
   "name": "python3"
  },
  "language_info": {
   "codemirror_mode": {
    "name": "ipython",
    "version": 3
   },
   "file_extension": ".py",
   "mimetype": "text/x-python",
   "name": "python",
   "nbconvert_exporter": "python",
   "pygments_lexer": "ipython3",
   "version": "3.6.2"
  }
 },
 "nbformat": 4,
 "nbformat_minor": 2
}
