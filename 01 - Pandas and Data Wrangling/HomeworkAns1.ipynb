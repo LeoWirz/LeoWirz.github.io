{
 "cells": [
  {
   "cell_type": "markdown",
   "metadata": {},
   "source": [
    "# Table of Contents\n",
    " <p><div class=\"lev1\"><a href=\"#Task-1.-Compiling-Ebola-Data\"><span class=\"toc-item-num\">Task 1.&nbsp;&nbsp;</span>Compiling Ebola Data</a></div>\n",
    " <div class=\"lev1\"><a href=\"#Task-2.-RNA-Sequences\"><span class=\"toc-item-num\">Task 2.&nbsp;&nbsp;</span>RNA Sequences</a></div>\n",
    " <div class=\"lev1\"><a href=\"#Task-3.-Class-War-in-Titanic\"><span class=\"toc-item-num\">Task 3.&nbsp;&nbsp;</span>Class War in Titanic</a></div></p>"
   ]
  },
  {
   "cell_type": "code",
   "execution_count": 196,
   "metadata": {
    "collapsed": true
   },
   "outputs": [],
   "source": [
    "DATA_FOLDER = 'ebola/' # Use the data folder provided in Tutorial 02 - Intro to Pandas."
   ]
  },
  {
   "cell_type": "markdown",
   "metadata": {},
   "source": [
    "## Task 1. Compiling Ebola Data\n",
    "\n",
    "The `DATA_FOLDER/ebola` folder contains summarized reports of Ebola cases from three countries (Guinea, Liberia and Sierra Leone) during the recent outbreak of the disease in West Africa. For each country, there are daily reports that contain various information about the outbreak in several cities in each country.\n",
    "\n",
    "Use pandas to import these data files into a single `Dataframe`.\n",
    "Using this `DataFrame`, calculate for *each country*, the *daily average per month* of *new cases* and *deaths*.\n",
    "Make sure you handle all the different expressions for *new cases* and *deaths* that are used in the reports."
   ]
  },
  {
   "cell_type": "code",
   "execution_count": 276,
   "metadata": {
    "collapsed": true
   },
   "outputs": [],
   "source": [
    "# Write your answer here\n",
    "import glob\n",
    "import pandas as pd\n",
    "import numpy as np\n",
    "import os\n",
    "\n",
    "def import_from_forder(folder_path):\n",
    "    allFiles = glob.glob(folder_path + '/*.csv')\n",
    "    frame = pd.DataFrame()\n",
    "    list_ = []\n",
    "\n",
    "    for file_ in allFiles:\n",
    "        df = pd.read_csv(file_, header=0)\n",
    "        list_.append(df)\n",
    "    frame = pd.concat(list_)\n",
    "    return frame"
   ]
  },
  {
   "cell_type": "code",
   "execution_count": 308,
   "metadata": {
    "collapsed": true
   },
   "outputs": [],
   "source": [
    "folders = [x[0] for x in os.walk(DATA_FOLDER)][1:]\n",
    "\n",
    "#dataframes from 3 different folders\n",
    "df1,df2,df3 = [import_from_forder(x) for x in folders]\n",
    "\n",
    "# put date and description and total first (it was just for vision, it's useless)\n",
    "df1 = df1[['Date', 'Description', 'Totals', 'Beyla', 'Boffa', 'Conakry', 'Coyah', 'Dabola', \n",
    "       'Dalaba', 'Dinguiraye', 'Dubreka', 'Forecariah', 'Gueckedou',\n",
    "       'Kerouane', 'Kindia', 'Kissidougou', 'Kouroussa', 'Lola', 'Macenta',\n",
    "       'Mzerekore', 'Nzerekore', 'Pita', 'Siguiri', 'Telimele', \n",
    "        'Yomou']]\n",
    "\n",
    "df2 = df2[['Date', 'Variable', 'National', 'Bomi County', 'Bong County','Gbarpolu County', 'Grand Bassa',\n",
    "       'Grand Cape Mount', 'Grand Gedeh', 'Grand Kru', 'Lofa County',\n",
    "       'Margibi County', 'Maryland County', 'Montserrado County', \n",
    "       'Nimba County', 'River Gee County', 'RiverCess County', 'Sinoe County',\n",
    "       'Unnamed: 18']]\n",
    "\n",
    "df3 = df3[['date', 'variable', 'National','34 Military Hospital', 'Bo', 'Bo EMC', 'Bombali', 'Bonthe',\n",
    "       'Hastings-F/Town', 'Kailahun', 'Kambia', 'Kenema', 'Kenema (IFRC)',\n",
    "       'Kenema (KGH)', 'Koinadugu', 'Kono', 'Moyamba',\n",
    "       'Police training School', 'Police traning School', 'Port Loko',\n",
    "       'Pujehun', 'Tonkolili', 'Unnamed: 18', 'Western area',\n",
    "       'Western area combined', 'Western area rural', 'Western area urban']]\n",
    "\n",
    "# get same notation for the 3 dataframes\n",
    "df1 = df1.rename(columns = {'Totals':'Totals1'})\n",
    "df2 = df2.rename(columns = {'Variable':'Description', 'National':'Totals2'})\n",
    "df3 = df3.rename(columns = {'date':'Date', 'variable':'Description', 'National':'Totals3'})"
   ]
  },
  {
   "cell_type": "code",
   "execution_count": 340,
   "metadata": {},
   "outputs": [
    {
     "data": {
      "text/plain": [
       "['New deaths registered today',\n",
       " 'New deaths registered today (confirmed)',\n",
       " 'New deaths registered today (probables)',\n",
       " 'New deaths registered today (suspects)',\n",
       " 'New deaths registered',\n",
       " 'New deaths registered among health workers']"
      ]
     },
     "execution_count": 340,
     "metadata": {},
     "output_type": "execute_result"
    }
   ],
   "source": [
    "t = df1.Description.unique()\n",
    "\n",
    "[s for s in t if all(x in s for x in ['death', 'New'])]"
   ]
  },
  {
   "cell_type": "code",
   "execution_count": 341,
   "metadata": {},
   "outputs": [],
   "source": [
    "# take row we're interested in, new death and case\n",
    "def filter_by_terms(df, terms, match=True):\n",
    "    if match:\n",
    "        return df.loc[df.Description.str.match('|'.join(terms))]\n",
    "    else:\n",
    "        return df.loc[df.Description.str.contains('|'.join(terms))]\n",
    "\n",
    "df1 = filter_by_terms(df1, ['Total new cases registered so far', 'New deaths registered', 'New deaths registered today', 'New deaths registered among health workers'])\n",
    "\n",
    "df2 = filter_by_terms(df2, ['Newly reported deaths', 'Newly Reported deaths in HCW, ',\n",
    "                           'New Case/s (Suspected)', 'New Case/s (Probable)', 'New case/s (confirmed)'])\n",
    "\n",
    "df3 = filter_by_terms(df3, ['new_noncase', 'etc_new_deaths', 'new_suspected', 'new_probable', 'new_confirmed',\n",
    "                            'death_suspected', 'death_probable', 'death_confirmed',])\n",
    "\n",
    "# fill NaN in totals with the sum of the row\n",
    "df1[\"Totals1\"] = df1[\"Totals1\"].fillna(df1[df1.columns[3:]].sum(axis=1))\n",
    "df2[\"Totals2\"] = df2[\"Totals2\"].fillna(df2[df2.columns[3:]].sum(axis=1))\n",
    "df3[\"Totals3\"] = df3[\"Totals3\"].fillna(df3[df3.columns[3:]].sum(axis=1))"
   ]
  },
  {
   "cell_type": "code",
   "execution_count": 342,
   "metadata": {
    "scrolled": false
   },
   "outputs": [
    {
     "data": {
      "text/html": [
       "<div>\n",
       "<style>\n",
       "    .dataframe thead tr:only-child th {\n",
       "        text-align: right;\n",
       "    }\n",
       "\n",
       "    .dataframe thead th {\n",
       "        text-align: left;\n",
       "    }\n",
       "\n",
       "    .dataframe tbody tr th {\n",
       "        vertical-align: top;\n",
       "    }\n",
       "</style>\n",
       "<table border=\"1\" class=\"dataframe\">\n",
       "  <thead>\n",
       "    <tr style=\"text-align: right;\">\n",
       "      <th></th>\n",
       "      <th>Totals1</th>\n",
       "      <th>Totals2</th>\n",
       "      <th>Totals3</th>\n",
       "    </tr>\n",
       "    <tr>\n",
       "      <th>Date</th>\n",
       "      <th></th>\n",
       "      <th></th>\n",
       "      <th></th>\n",
       "    </tr>\n",
       "  </thead>\n",
       "  <tbody>\n",
       "    <tr>\n",
       "      <th>2014-06</th>\n",
       "      <td></td>\n",
       "      <td>2.000000</td>\n",
       "      <td></td>\n",
       "    </tr>\n",
       "    <tr>\n",
       "      <th>2014-07</th>\n",
       "      <td></td>\n",
       "      <td>4.272727</td>\n",
       "      <td></td>\n",
       "    </tr>\n",
       "    <tr>\n",
       "      <th>2014-08</th>\n",
       "      <td>1.58333</td>\n",
       "      <td>23.222222</td>\n",
       "      <td>0</td>\n",
       "    </tr>\n",
       "    <tr>\n",
       "      <th>2014-09</th>\n",
       "      <td>1.78125</td>\n",
       "      <td>36.041667</td>\n",
       "      <td>0.965517</td>\n",
       "    </tr>\n",
       "    <tr>\n",
       "      <th>2014-10</th>\n",
       "      <td>7.5</td>\n",
       "      <td>28.040000</td>\n",
       "      <td>3.67857</td>\n",
       "    </tr>\n",
       "    <tr>\n",
       "      <th>2014-11</th>\n",
       "      <td></td>\n",
       "      <td>13.466667</td>\n",
       "      <td>0.571429</td>\n",
       "    </tr>\n",
       "    <tr>\n",
       "      <th>2014-12</th>\n",
       "      <td></td>\n",
       "      <td>0.000000</td>\n",
       "      <td>2.2</td>\n",
       "    </tr>\n",
       "  </tbody>\n",
       "</table>\n",
       "</div>"
      ],
      "text/plain": [
       "         Totals1    Totals2   Totals3\n",
       "Date                                 \n",
       "2014-06            2.000000          \n",
       "2014-07            4.272727          \n",
       "2014-08  1.58333  23.222222         0\n",
       "2014-09  1.78125  36.041667  0.965517\n",
       "2014-10      7.5  28.040000   3.67857\n",
       "2014-11           13.466667  0.571429\n",
       "2014-12            0.000000       2.2"
      ]
     },
     "execution_count": 342,
     "metadata": {},
     "output_type": "execute_result"
    }
   ],
   "source": [
    "# concatenate the three dataframes and reorder columns\n",
    "df = pd.concat([df1,df2,df3])\n",
    "df = df[['Date', 'Description', 'Totals1', 'Totals2', 'Totals3']]\n",
    "\n",
    "# cast right types\n",
    "df.Date = pd.to_datetime(df.Date)\n",
    "df.Totals1 = pd.to_numeric(df.Totals1)\n",
    "df.Totals2 = pd.to_numeric(df.Totals2)\n",
    "df.Totals3 = pd.to_numeric(df.Totals3)\n",
    "\n",
    "\n",
    "Total_death = filter_by_terms(Totals, ['death', 'Death', 'deaths', 'Deaths'], False)\n",
    "Total_death.groupby(Total_death.Date.dt.to_period(\"M\")).mean().fillna(\"\")"
   ]
  },
  {
   "cell_type": "markdown",
   "metadata": {},
   "source": [
    "## Task 2. RNA Sequences\n",
    "\n",
    "In the `DATA_FOLDER/microbiome` subdirectory, there are 9 spreadsheets of microbiome data that was acquired from high-throughput RNA sequencing procedures, along with a 10<sup>th</sup> file that describes the content of each. \n",
    "\n",
    "Use pandas to import the first 9 spreadsheets into a single `DataFrame`.\n",
    "Then, add the metadata information from the 10<sup>th</sup> spreadsheet as columns in the combined `DataFrame`.\n",
    "Make sure that the final `DataFrame` has a unique index and all the `NaN` values have been replaced by the tag `unknown`."
   ]
  },
  {
   "cell_type": "code",
   "execution_count": null,
   "metadata": {
    "collapsed": true
   },
   "outputs": [],
   "source": [
    "# Write your answer here"
   ]
  },
  {
   "cell_type": "markdown",
   "metadata": {},
   "source": [
    "## Task 3. Class War in Titanic\n",
    "\n",
    "Use pandas to import the data file `Data/titanic.xls`. It contains data on all the passengers that travelled on the Titanic."
   ]
  },
  {
   "cell_type": "code",
   "execution_count": null,
   "metadata": {
    "collapsed": true
   },
   "outputs": [],
   "source": [
    "from IPython.core.display import HTML\n",
    "HTML(filename=DATA_FOLDER+'/titanic.html')"
   ]
  },
  {
   "cell_type": "markdown",
   "metadata": {},
   "source": [
    "For each of the following questions state clearly your assumptions and discuss your findings:\n",
    "1. Describe the *type* and the *value range* of each attribute. Indicate and transform the attributes that can be `Categorical`. \n",
    "2. Plot histograms for the *travel class*, *embarkation port*, *sex* and *age* attributes. For the latter one, use *discrete decade intervals*. \n",
    "3. Calculate the proportion of passengers by *cabin floor*. Present your results in a *pie chart*.\n",
    "4. For each *travel class*, calculate the proportion of the passengers that survived. Present your results in *pie charts*.\n",
    "5. Calculate the proportion of the passengers that survived by *travel class* and *sex*. Present your results in *a single histogram*.\n",
    "6. Create 2 equally populated *age categories* and calculate survival proportions by *age category*, *travel class* and *sex*. Present your results in a `DataFrame` with unique index."
   ]
  },
  {
   "cell_type": "code",
   "execution_count": null,
   "metadata": {
    "collapsed": true
   },
   "outputs": [],
   "source": [
    "# Write your answer here"
   ]
  }
 ],
 "metadata": {
  "kernelspec": {
   "display_name": "Python 3",
   "language": "python",
   "name": "python3"
  },
  "language_info": {
   "codemirror_mode": {
    "name": "ipython",
    "version": 3
   },
   "file_extension": ".py",
   "mimetype": "text/x-python",
   "name": "python",
   "nbconvert_exporter": "python",
   "pygments_lexer": "ipython3",
   "version": "3.6.1"
  }
 },
 "nbformat": 4,
 "nbformat_minor": 2
}
