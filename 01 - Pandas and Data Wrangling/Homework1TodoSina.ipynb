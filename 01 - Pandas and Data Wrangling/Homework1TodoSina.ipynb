{
 "cells": [
  {
   "cell_type": "markdown",
   "metadata": {},
   "source": [
    "# Table of Contents\n",
    " <p><div class=\"lev1\"><a href=\"#Task-1.-Compiling-Ebola-Data\"><span class=\"toc-item-num\">Task 1.&nbsp;&nbsp;</span>Compiling Ebola Data</a></div>\n",
    " <div class=\"lev1\"><a href=\"#Task-2.-RNA-Sequences\"><span class=\"toc-item-num\">Task 2.&nbsp;&nbsp;</span>RNA Sequences</a></div>\n",
    " <div class=\"lev1\"><a href=\"#Task-3.-Class-War-in-Titanic\"><span class=\"toc-item-num\">Task 3.&nbsp;&nbsp;</span>Class War in Titanic</a></div></p>"
   ]
  },
  {
   "cell_type": "code",
   "execution_count": 1,
   "metadata": {
    "collapsed": true
   },
   "outputs": [],
   "source": [
    "DATA_FOLDER = 'Data/' # Use the data folder provided in Tutorial 02 - Intro to Pandas."
   ]
  },
  {
   "cell_type": "markdown",
   "metadata": {},
   "source": [
    "## Task 1. Compiling Ebola Data\n",
    "\n",
    "The `DATA_FOLDER/ebola` folder contains summarized reports of Ebola cases from three countries (Guinea, Liberia and Sierra Leone) during the recent outbreak of the disease in West Africa. For each country, there are daily reports that contain various information about the outbreak in several cities in each country.\n",
    "\n",
    "Use pandas to import these data files into a single `Dataframe`.\n",
    "Using this `DataFrame`, calculate for *each country*, the *daily average per month* of *new cases* and *deaths*.\n",
    "Make sure you handle all the different expressions for *new cases* and *deaths* that are used in the reports."
   ]
  },
  {
   "cell_type": "code",
   "execution_count": 86,
   "metadata": {
    "collapsed": true
   },
   "outputs": [],
   "source": [
    "# Write your answer here\n",
    "import glob\n",
    "import numpy as np\n",
    "import pandas as pd\n",
    "from os import listdir\n",
    "from os.path import isfile, join\n",
    "EBOLA_FOLDER= DATA_FOLDER+'ebola/'\n",
    "GUINEA_FOLDER= EBOLA_FOLDER+'guinea_data'\n",
    "LIBERIA_FOLDER= EBOLA_FOLDER+'liberia_data'\n",
    "SIERRALEONE_FOLDER = EBOLA_FOLDER+'sl_data'\n",
    "\n",
    "GUINEA_FILES = glob.glob(join(GUINEA_FOLDER, \"*.csv\"))\n",
    "LIBERIA_FILES = glob.glob(join(LIBERIA_FOLDER, \"*.csv\"))\n",
    "SIERRALEONE_FILES = glob.glob(join(SIERRALEONE_FOLDER, \"*.csv\"))\n",
    "GUINEA_DFS = pd.concat([pd.read_csv(f) for f in GUINEA_FILES], ignore_index=True)\n",
    "LIBERIA_DFS = pd.concat([pd.read_csv(f) for f in LIBERIA_FILES], ignore_index=True)\n",
    "SIERRALEONE_DFS = pd.concat([pd.read_csv(f) for f in SIERRALEONE_FILES], ignore_index=True)\n"
   ]
  },
  {
   "cell_type": "code",
   "execution_count": 58,
   "metadata": {},
   "outputs": [
    {
     "name": "stdout",
     "output_type": "stream",
     "text": [
      "Index(['Beyla', 'Boffa', 'Conakry', 'Coyah', 'Dabola', 'Dalaba', 'Date',\n",
      "       'Description', 'Dinguiraye', 'Dubreka', 'Forecariah', 'Gueckedou',\n",
      "       'Kerouane', 'Kindia', 'Kissidougou', 'Kouroussa', 'Lola', 'Macenta',\n",
      "       'Mzerekore', 'Nzerekore', 'Pita', 'Siguiri', 'Telimele', 'Totals',\n",
      "       'Yomou'],\n",
      "      dtype='object')\n",
      "Index(['Bomi County', 'Bong County', 'Date', 'Gbarpolu County', 'Grand Bassa',\n",
      "       'Grand Cape Mount', 'Grand Gedeh', 'Grand Kru', 'Lofa County',\n",
      "       'Margibi County', 'Maryland County', 'Montserrado County', 'National',\n",
      "       'Nimba County', 'River Gee County', 'RiverCess County', 'Sinoe County',\n",
      "       'Unnamed: 18', 'Variable'],\n",
      "      dtype='object')\n",
      "Index(['34 Military Hospital', 'Bo', 'Bo EMC', 'Bombali', 'Bonthe',\n",
      "       'Hastings-F/Town', 'Kailahun', 'Kambia', 'Kenema', 'Kenema (IFRC)',\n",
      "       'Kenema (KGH)', 'Koinadugu', 'Kono', 'Moyamba', 'National',\n",
      "       'Police training School', 'Police traning School', 'Port Loko',\n",
      "       'Pujehun', 'Tonkolili', 'Unnamed: 18', 'Western area',\n",
      "       'Western area combined', 'Western area rural', 'Western area urban',\n",
      "       'date', 'variable'],\n",
      "      dtype='object')\n"
     ]
    },
    {
     "data": {
      "text/plain": [
       "0          5\n",
       "1          0\n",
       "2          4\n",
       "3          9\n",
       "4         11\n",
       "5        133\n",
       "6        351\n",
       "7        495\n",
       "8          2\n",
       "9          2\n",
       "10         0\n",
       "11         0\n",
       "12         2\n",
       "13       133\n",
       "14       228\n",
       "15       363\n",
       "16        31\n",
       "17        18\n",
       "18         0\n",
       "19        13\n",
       "20       138\n",
       "21        89\n",
       "22       161\n",
       "23       190\n",
       "24        52\n",
       "25        81\n",
       "26         7\n",
       "27         6\n",
       "28       220\n",
       "29       277\n",
       "       ...  \n",
       "684        6\n",
       "685       34\n",
       "686       45\n",
       "687      177\n",
       "688      977\n",
       "689     1199\n",
       "690      974\n",
       "691       15\n",
       "692        0\n",
       "693      177\n",
       "694      562\n",
       "695      739\n",
       "696      62%\n",
       "697        2\n",
       "698       69\n",
       "699        0\n",
       "700       35\n",
       "701       25\n",
       "702      114\n",
       "703       29\n",
       "704     1576\n",
       "705        0\n",
       "706    11772\n",
       "707     2661\n",
       "708     2595\n",
       "709     9110\n",
       "710        1\n",
       "711       25\n",
       "712        0\n",
       "713     2832\n",
       "Name: Totals, Length: 714, dtype: object"
      ]
     },
     "execution_count": 58,
     "metadata": {},
     "output_type": "execute_result"
    }
   ],
   "source": [
    "#GUINEA_DFS.head()\n",
    "print(GUINEA_DFS.columns)\n",
    "print(LIBERIA_DFS.columns)\n",
    "print(SIERRALEONE_DFS.columns)\n",
    "type(SIERRALEONE_DFS.date)\n",
    "GUINEA_DFS.set_index('Date')\n",
    "GUINEA_DFS.Totals"
   ]
  },
  {
   "cell_type": "code",
   "execution_count": 59,
   "metadata": {},
   "outputs": [
    {
     "name": "stdout",
     "output_type": "stream",
     "text": [
      "September\n"
     ]
    }
   ],
   "source": [
    "import calendar\n",
    "from datetime import datetime\n",
    "dt = datetime.strptime(\"2014-09-26\", \"%Y-%m-%d\")\n",
    "print(calendar.month_name[dt.month])"
   ]
  },
  {
   "cell_type": "markdown",
   "metadata": {},
   "source": [
    "# Daily average per month of new cases and deaths"
   ]
  },
  {
   "cell_type": "code",
   "execution_count": 80,
   "metadata": {},
   "outputs": [
    {
     "name": "stdout",
     "output_type": "stream",
     "text": [
      "Guinea [Date\n",
      "8     12.4\n",
      "9     13.0\n",
      "10     6.0\n",
      "Name: New Case, dtype: float64, Date\n",
      "8      5\n",
      "9     16\n",
      "10     1\n",
      "Name: New Case, dtype: int64]\n",
      "Guinea [Date\n",
      "8      3.4000\n",
      "9      3.5625\n",
      "10    15.0000\n",
      "Name: New Death, dtype: float64, Date\n",
      "8      5\n",
      "9     16\n",
      "10     1\n",
      "Name: New Death, dtype: int64]\n",
      "#######\n",
      " Liberia [Date\n",
      "6        2.142857\n",
      "7        1.818182\n",
      "8        5.444444\n",
      "9        6.166667\n",
      "10       1.360000\n",
      "11       2.600000\n",
      "12    1928.333333\n",
      "Name: New Case, dtype: float64, Date\n",
      "6      7\n",
      "7     11\n",
      "8      9\n",
      "9     24\n",
      "10    25\n",
      "11    15\n",
      "12     9\n",
      "Name: New Case, dtype: int64]\n",
      "Liberia [Date\n",
      "6      2.000000\n",
      "7      4.272727\n",
      "8     23.222222\n",
      "9     36.041667\n",
      "10    28.040000\n",
      "11    13.466667\n",
      "12     0.000000\n",
      "Name: New Death, dtype: float64, Date\n",
      "6      7\n",
      "7     11\n",
      "8      9\n",
      "9     24\n",
      "10    25\n",
      "11    15\n",
      "12     9\n",
      "Name: New Death, dtype: int64]\n",
      "booooooooooomba latina       New Case  New Death\n",
      "date                     \n",
      "12        11.0        8.0\n",
      "8         15.0        6.0\n",
      "8         13.0        7.0\n",
      "8         10.0        7.0\n",
      "8         18.0       10.0\n",
      "#######\n",
      " SL, [date\n",
      "8     21.176471\n",
      "9     36.962963\n",
      "10    56.714286\n",
      "11    66.210526\n",
      "12    43.500000\n",
      "Name: New Case, dtype: float64, date\n",
      "8     17\n",
      "9     27\n",
      "10    28\n",
      "11    19\n",
      "12     4\n",
      "Name: New Case, dtype: int64]\n",
      "SL [date\n",
      "8     5.421053\n",
      "9     4.413793\n",
      "10    3.714286\n",
      "11    0.571429\n",
      "12    3.166667\n",
      "Name: New Death, dtype: float64, date\n",
      "8     19\n",
      "9     29\n",
      "10    28\n",
      "11    21\n",
      "12     6\n",
      "Name: New Death, dtype: int64]\n"
     ]
    }
   ],
   "source": [
    "#print(GUINEA_DFS.loc[:'Total cases of confirmed'])\n",
    "#GUINEA_DFS.reset_index().groupby(\"Description\").mean()\n",
    "import math\n",
    "\n",
    "NewCasesGuinea= [int(k) for k in GUINEA_DFS[GUINEA_DFS.Description == 'New cases of confirmed'].Totals]\n",
    "NewDeathGuinea= [int(k) for k in GUINEA_DFS[(GUINEA_DFS.Description == 'New deaths registered today') | (GUINEA_DFS.Description == 'New deaths registered')].Totals]\n",
    "DateFieldG = pd.DatetimeIndex(GUINEA_DFS['Date']).normalize().unique().month\n",
    "\n",
    "GuineaSummary = pd.DataFrame({'Location': 'Guinea', 'New Case': NewCasesGuinea, 'New Death': NewDeathGuinea},index=DateFieldG).fillna(0)\n",
    "print('Guinea', [GuineaSummary.groupby(['Date'])['New Case'].mean() , GuineaSummary.groupby(['Date'])['New Case'].count() ])\n",
    "print('Guinea',[GuineaSummary.groupby(['Date'])['New Death'].mean() ,GuineaSummary.groupby(['Date'])['New Death'].count() ])\n",
    "\n",
    "\n",
    "\n",
    "NewCasesLiberia=[float(k) for k in (LIBERIA_DFS[LIBERIA_DFS.Variable == 'New case/s (confirmed)'].National)]\n",
    "NewDeathLiberia=[float(k) for k in (LIBERIA_DFS[LIBERIA_DFS.Variable == 'Newly reported deaths'].National) ]\n",
    "DateFieldL = pd.DatetimeIndex(LIBERIA_DFS['Date']).normalize().unique().month\n",
    "LiberiaSummary = pd.DataFrame({'Location': 'Liberia', 'New Case': NewCasesLiberia, 'Location': 'Liberia', 'New Death': NewDeathLiberia},index=DateFieldL).fillna(0)\n",
    "print('#######\\n Liberia',[LiberiaSummary.groupby(['Date'])['New Case'].mean() , LiberiaSummary.groupby(['Date'])['New Case'].count() ])\n",
    "print('Liberia',[LiberiaSummary.groupby(['Date'])['New Death'].mean() ,LiberiaSummary.groupby(['Date'])['New Death'].count() ])\n",
    "\n",
    "\n",
    "\n",
    "NewCasesSierraLeone = [float(k) for k in (SIERRALEONE_DFS[SIERRALEONE_DFS.variable == 'new_confirmed'].National)]\n",
    "SIERRALEONE_DFS.ix[SIERRALEONE_DFS.Kenema == '-', 'Kenema'] = 0\n",
    "\n",
    "modify_DeathSL = SIERRALEONE_DFS[SIERRALEONE_DFS.variable == 'etc_new_deaths'][\n",
    "    [col for col in SIERRALEONE_DFS.columns.values if col not in ['National', 'date', 'variable']]\n",
    "].apply(pd.to_numeric).sum(axis=1)\n",
    "NewDeathSierraLeone = SIERRALEONE_DFS[SIERRALEONE_DFS.variable == 'etc_new_deaths'].National.copy()\n",
    "NewDeathSierraLeone[NewDeathSierraLeone.isnull()] = modify_DeathSL[NewDeathSierraLeone.isnull()]\n",
    "DateFieldSL = pd.DatetimeIndex(SIERRALEONE_DFS['date']).normalize().unique().month\n",
    "SierraLeoneSummary = pd.DataFrame({'New Case': NewCasesSierraLeone,'New Death': NewDeathSierraLeone.values},index=DateFieldSL, dtype=float)\n",
    "\n",
    "\n",
    "print('#######\\n SL,',[SierraLeoneSummary.groupby(['date'])['New Case'].mean() , SierraLeoneSummary.groupby(['date'])['New Case'].count() ])\n",
    "print('SL',[SierraLeoneSummary.groupby(['date'])['New Death'].mean(),SierraLeoneSummary.groupby(['date'])['New Death'].count() ])\n",
    "\n",
    "\n",
    "\n",
    "\n",
    "\n",
    "\n",
    "#print(\"Average number of new cases per day in Guinea: {:.3f}\".format(np.average(NewCasesGuinea)))\n",
    "#print(\"Average number of new death cases per day in Guinea: {:.3f} \\n\".format(np.average(NewDeathGuinea)))\n",
    "\n",
    "#print(\"Average number of new cases per day in Liberia: {:.3f}\".format(np.average(NewCasesLiberia)))\n",
    "#print(\"Average number of new death cases per day in Liberia: {:.3f} \\n\".format(np.average(NewDeathLiberia)))\n",
    "\n",
    "\n",
    "#print(\"Average number of new cases per day in Sierra Leone: {:.3f}\".format(np.average(NewCasesSierraLeone)))\n",
    "#print(\"Average number of new death cases per day in Sierra Leone: {:.3f} \\n\".format(np.average(NewDeathSierraLeone)))"
   ]
  },
  {
   "cell_type": "markdown",
   "metadata": {},
   "source": [
    "## Task 2. RNA Sequences\n",
    "\n",
    "In the `DATA_FOLDER/microbiome` subdirectory, there are 9 spreadsheets of microbiome data that was acquired from high-throughput RNA sequencing procedures, along with a 10<sup>th</sup> file that describes the content of each. \n",
    "\n",
    "Use pandas to import the first 9 spreadsheets into a single `DataFrame`.\n",
    "Then, add the metadata information from the 10<sup>th</sup> spreadsheet as columns in the combined `DataFrame`.\n",
    "Make sure that the final `DataFrame` has a unique index and all the `NaN` values have been replaced by the tag `unknown`."
   ]
  },
  {
   "cell_type": "code",
   "execution_count": 178,
   "metadata": {},
   "outputs": [
    {
     "name": "stdout",
     "output_type": "stream",
     "text": [
      "                                                Microbe  Counts BARCODE  \\\n",
      "0     Archaea \"Crenarchaeota\" Thermoprotei Desulfuro...       7    MID1   \n",
      "1     Archaea \"Crenarchaeota\" Thermoprotei Desulfuro...       2    MID1   \n",
      "2     Archaea \"Crenarchaeota\" Thermoprotei Sulfoloba...       3    MID1   \n",
      "3     Archaea \"Crenarchaeota\" Thermoprotei Thermopro...       3    MID1   \n",
      "4     Archaea \"Euryarchaeota\" \"Methanomicrobia\" Meth...       7    MID1   \n",
      "5     Archaea \"Euryarchaeota\" \"Methanomicrobia\" Meth...       1    MID1   \n",
      "6     Archaea \"Euryarchaeota\" \"Methanomicrobia\" Meth...       1    MID1   \n",
      "7     Archaea \"Euryarchaeota\" Archaeoglobi Archaeogl...       1    MID1   \n",
      "8     Archaea \"Euryarchaeota\" Archaeoglobi Archaeogl...       1    MID1   \n",
      "9     Archaea \"Euryarchaeota\" Halobacteria Halobacte...       1    MID1   \n",
      "10    Archaea \"Euryarchaeota\" Halobacteria Halobacte...       4    MID1   \n",
      "11    Archaea \"Euryarchaeota\" Halobacteria Halobacte...       1    MID1   \n",
      "12    Archaea \"Euryarchaeota\" Halobacteria Halobacte...       2    MID1   \n",
      "13    Archaea \"Euryarchaeota\" Halobacteria Halobacte...       4    MID1   \n",
      "14    Archaea \"Euryarchaeota\" Methanococci Methanoco...       1    MID1   \n",
      "15    Archaea \"Euryarchaeota\" Methanopyri Methanopyr...      12    MID1   \n",
      "16    Archaea \"Euryarchaeota\" Thermoplasmata Thermop...       2    MID1   \n",
      "17    Bacteria \"Actinobacteria\" Actinobacteria Actin...       2    MID1   \n",
      "18    Bacteria \"Actinobacteria\" Actinobacteria Actin...       1    MID1   \n",
      "19    Bacteria \"Actinobacteria\" Actinobacteria Actin...       1    MID1   \n",
      "20    Bacteria \"Actinobacteria\" Actinobacteria Actin...       1    MID1   \n",
      "21    Bacteria \"Actinobacteria\" Actinobacteria Actin...       2    MID1   \n",
      "22    Bacteria \"Actinobacteria\" Actinobacteria Actin...      53    MID1   \n",
      "23    Bacteria \"Actinobacteria\" Actinobacteria Actin...       1    MID1   \n",
      "24    Bacteria \"Actinobacteria\" Actinobacteria Actin...       2    MID1   \n",
      "25    Bacteria \"Actinobacteria\" Actinobacteria Actin...       3    MID1   \n",
      "26    Bacteria \"Actinobacteria\" Actinobacteria Actin...       1    MID1   \n",
      "27    Bacteria \"Actinobacteria\" Actinobacteria Actin...      99    MID1   \n",
      "28    Bacteria \"Actinobacteria\" Actinobacteria Actin...      17    MID1   \n",
      "29    Bacteria \"Actinobacteria\" Actinobacteria Actin...       2    MID1   \n",
      "...                                                 ...     ...     ...   \n",
      "2366  Bacteria \"Proteobacteria\" Gammaproteobacteria ...      10    MID9   \n",
      "2367  Bacteria \"Proteobacteria\" Gammaproteobacteria ...       1    MID9   \n",
      "2368  Bacteria \"Proteobacteria\" Gammaproteobacteria ...       1    MID9   \n",
      "2369  Bacteria \"Proteobacteria\" Gammaproteobacteria ...       1    MID9   \n",
      "2370  Bacteria \"Proteobacteria\" Gammaproteobacteria ...      12    MID9   \n",
      "2371  Bacteria \"Proteobacteria\" Gammaproteobacteria ...       4    MID9   \n",
      "2372  Bacteria \"Proteobacteria\" Gammaproteobacteria ...     805    MID9   \n",
      "2373  Bacteria \"Proteobacteria\" Gammaproteobacteria ...     862    MID9   \n",
      "2374  Bacteria \"Proteobacteria\" Gammaproteobacteria ...      12    MID9   \n",
      "2375  Bacteria \"Proteobacteria\" Gammaproteobacteria ...    3534    MID9   \n",
      "2376  Bacteria \"Proteobacteria\" Gammaproteobacteria ...       4    MID9   \n",
      "2377  Bacteria \"Proteobacteria\" Gammaproteobacteria ...       1    MID9   \n",
      "2378  Bacteria \"Proteobacteria\" Gammaproteobacteria ...      25    MID9   \n",
      "2379  Bacteria \"Proteobacteria\" Gammaproteobacteria ...       2    MID9   \n",
      "2380  Bacteria \"Proteobacteria\" Gammaproteobacteria ...       3    MID9   \n",
      "2381  Bacteria \"Proteobacteria\" Gammaproteobacteria ...       2    MID9   \n",
      "2382  Bacteria \"Proteobacteria\" Gammaproteobacteria ...       1    MID9   \n",
      "2383  Bacteria \"Proteobacteria\" Gammaproteobacteria ...       3    MID9   \n",
      "2384  Bacteria \"Proteobacteria\" Gammaproteobacteria ...       2    MID9   \n",
      "2385  Bacteria \"Proteobacteria\" Gammaproteobacteria ...       1    MID9   \n",
      "2386  Bacteria \"Synergistetes\" Synergistia Synergist...       3    MID9   \n",
      "2387  Bacteria \"Tenericutes\" Mollicutes Anaeroplasma...       1    MID9   \n",
      "2388  Bacteria \"Tenericutes\" Mollicutes Haloplasmata...      11    MID9   \n",
      "2389  Bacteria \"Thermodesulfobacteria\" Thermodesulfo...       1    MID9   \n",
      "2390  Bacteria \"Thermodesulfobacteria\" Thermodesulfo...       1    MID9   \n",
      "2391  Bacteria \"Thermotogae\" Thermotogae Thermotogal...      43    MID9   \n",
      "2392  Bacteria \"Thermotogae\" Thermotogae Thermotogal...      16    MID9   \n",
      "2393  Bacteria \"Verrucomicrobia\" Opitutae Opitutales...       1    MID9   \n",
      "2394  Bacteria Cyanobacteria Cyanobacteria  Chloropl...       1    MID9   \n",
      "2395  Bacteria Cyanobacteria Cyanobacteria  Chloropl...      10    MID9   \n",
      "\n",
      "                   Group  Sample  \n",
      "0     EXTRACTION CONTROL  unkown  \n",
      "1     EXTRACTION CONTROL  unkown  \n",
      "2     EXTRACTION CONTROL  unkown  \n",
      "3     EXTRACTION CONTROL  unkown  \n",
      "4     EXTRACTION CONTROL  unkown  \n",
      "5     EXTRACTION CONTROL  unkown  \n",
      "6     EXTRACTION CONTROL  unkown  \n",
      "7     EXTRACTION CONTROL  unkown  \n",
      "8     EXTRACTION CONTROL  unkown  \n",
      "9     EXTRACTION CONTROL  unkown  \n",
      "10    EXTRACTION CONTROL  unkown  \n",
      "11    EXTRACTION CONTROL  unkown  \n",
      "12    EXTRACTION CONTROL  unkown  \n",
      "13    EXTRACTION CONTROL  unkown  \n",
      "14    EXTRACTION CONTROL  unkown  \n",
      "15    EXTRACTION CONTROL  unkown  \n",
      "16    EXTRACTION CONTROL  unkown  \n",
      "17    EXTRACTION CONTROL  unkown  \n",
      "18    EXTRACTION CONTROL  unkown  \n",
      "19    EXTRACTION CONTROL  unkown  \n",
      "20    EXTRACTION CONTROL  unkown  \n",
      "21    EXTRACTION CONTROL  unkown  \n",
      "22    EXTRACTION CONTROL  unkown  \n",
      "23    EXTRACTION CONTROL  unkown  \n",
      "24    EXTRACTION CONTROL  unkown  \n",
      "25    EXTRACTION CONTROL  unkown  \n",
      "26    EXTRACTION CONTROL  unkown  \n",
      "27    EXTRACTION CONTROL  unkown  \n",
      "28    EXTRACTION CONTROL  unkown  \n",
      "29    EXTRACTION CONTROL  unkown  \n",
      "...                  ...     ...  \n",
      "2366           Control 2   stool  \n",
      "2367           Control 2   stool  \n",
      "2368           Control 2   stool  \n",
      "2369           Control 2   stool  \n",
      "2370           Control 2   stool  \n",
      "2371           Control 2   stool  \n",
      "2372           Control 2   stool  \n",
      "2373           Control 2   stool  \n",
      "2374           Control 2   stool  \n",
      "2375           Control 2   stool  \n",
      "2376           Control 2   stool  \n",
      "2377           Control 2   stool  \n",
      "2378           Control 2   stool  \n",
      "2379           Control 2   stool  \n",
      "2380           Control 2   stool  \n",
      "2381           Control 2   stool  \n",
      "2382           Control 2   stool  \n",
      "2383           Control 2   stool  \n",
      "2384           Control 2   stool  \n",
      "2385           Control 2   stool  \n",
      "2386           Control 2   stool  \n",
      "2387           Control 2   stool  \n",
      "2388           Control 2   stool  \n",
      "2389           Control 2   stool  \n",
      "2390           Control 2   stool  \n",
      "2391           Control 2   stool  \n",
      "2392           Control 2   stool  \n",
      "2393           Control 2   stool  \n",
      "2394           Control 2   stool  \n",
      "2395           Control 2   stool  \n",
      "\n",
      "[2396 rows x 5 columns]\n"
     ]
    }
   ],
   "source": [
    "MICROBIOME_FOLDER= DATA_FOLDER+'microbiome/'\n",
    "MICROBIOME_FILES = glob.glob(join(MICROBIOME_FOLDER, \"MID*.xls\"))\n",
    "metadata = pd.read_excel(MICROBIOME_FOLDER + 'metadata.xls')\n",
    "\n",
    "MICROBIOME_DFS = pd.concat([pd.read_excel(f,header=None, names = ['Microbe', 'Counts']).assign(BARCODE=metadata.BARCODE[idx],Group=metadata.GROUP[idx],Sample = metadata.SAMPLE[idx]) for idx,f in enumerate(MICROBIOME_FILES)] ,ignore_index=True).fillna('unkown')\n",
    "print(MICROBIOME_DFS)"
   ]
  },
  {
   "cell_type": "markdown",
   "metadata": {},
   "source": [
    "## Task 3. Class War in Titanic\n",
    "\n",
    "Use pandas to import the data file `Data/titanic.xls`. It contains data on all the passengers that travelled on the Titanic."
   ]
  },
  {
   "cell_type": "code",
   "execution_count": 303,
   "metadata": {},
   "outputs": [
    {
     "name": "stdout",
     "output_type": "stream",
     "text": [
      "   pclass  survived                                             name     sex  \\\n",
      "0       1         1                    Allen, Miss. Elisabeth Walton  female   \n",
      "1       1         1                   Allison, Master. Hudson Trevor    male   \n",
      "2       1         0                     Allison, Miss. Helen Loraine  female   \n",
      "3       1         0             Allison, Mr. Hudson Joshua Creighton    male   \n",
      "4       1         0  Allison, Mrs. Hudson J C (Bessie Waldo Daniels)  female   \n",
      "\n",
      "       age  sibsp  parch  ticket      fare    cabin embarked boat   body  \\\n",
      "0  29.0000      0      0   24160  211.3375       B5        S    2    NaN   \n",
      "1   0.9167      1      2  113781  151.5500  C22 C26        S   11    NaN   \n",
      "2   2.0000      1      2  113781  151.5500  C22 C26        S  NaN    NaN   \n",
      "3  30.0000      1      2  113781  151.5500  C22 C26        S  NaN  135.0   \n",
      "4  25.0000      1      2  113781  151.5500  C22 C26        S  NaN    NaN   \n",
      "\n",
      "                         home.dest  \n",
      "0                     St Louis, MO  \n",
      "1  Montreal, PQ / Chesterville, ON  \n",
      "2  Montreal, PQ / Chesterville, ON  \n",
      "3  Montreal, PQ / Chesterville, ON  \n",
      "4  Montreal, PQ / Chesterville, ON  \n"
     ]
    }
   ],
   "source": [
    "from IPython.core.display import HTML\n",
    "HTML(filename=DATA_FOLDER+'/titanic.html')\n",
    "titanic = pd.read_excel(DATA_FOLDER+'titanic.xls')\n",
    "titanic.dropna(axis=1)\n",
    "print(titanic.head())\n"
   ]
  },
  {
   "cell_type": "code",
   "execution_count": 245,
   "metadata": {},
   "outputs": [
    {
     "name": "stdout",
     "output_type": "stream",
     "text": [
      "pclass        int64\n",
      "survived      int64\n",
      "name         object\n",
      "sex          object\n",
      "age          object\n",
      "sibsp         int64\n",
      "parch         int64\n",
      "ticket       object\n",
      "fare         object\n",
      "cabin        object\n",
      "embarked     object\n",
      "boat         object\n",
      "body         object\n",
      "home.dest    object\n",
      "dtype: object\n",
      "pclass 1 3\n",
      "survived 0 1\n",
      "name Abbing, Mr. Anthony van Melkebeke, Mr. Philemon\n",
      "sex 0 1\n",
      "hex age <class 'str'>\n",
      "sibsp 0 8\n",
      "parch 0 9\n",
      "hex ticket <class 'str'>\n",
      "hex fare <class 'str'>\n",
      "cabin A10 unknown\n",
      "embarked C unknown\n",
      "hex boat <class 'str'>\n",
      "hex body <class 'str'>\n",
      "home.dest ?Havana, Cuba unknown\n"
     ]
    }
   ],
   "source": [
    "print(titanic.dtypes)\n",
    "transformedTitanic= titanic\n",
    "transformedTitanic['sex'].replace('female', 0,inplace=True)\n",
    "transformedTitanic['sex'].replace('male',1 ,inplace=True)\n",
    "for el in transformedTitanic:\n",
    "    try:\n",
    "        print(el, transformedTitanic[el].min(),transformedTitanic[el].max())\n",
    "    except:\n",
    "        print('hex', el, type(el))"
   ]
  },
  {
   "cell_type": "code",
   "execution_count": 305,
   "metadata": {},
   "outputs": [
    {
     "name": "stdout",
     "output_type": "stream",
     "text": [
      "29.0\n"
     ]
    },
    {
     "data": {
      "text/plain": [
       "<matplotlib.axes._subplots.AxesSubplot at 0x1172bcf28>"
      ]
     },
     "execution_count": 305,
     "metadata": {},
     "output_type": "execute_result"
    },
    {
     "data": {
      "image/png": "[encoded data removed]",
      "text/plain": [
       "<matplotlib.figure.Figure at 0x10f6cba58>"
      ]
     },
     "metadata": {},
     "output_type": "display_data"
    },
    {
     "data": {
      "image/png": "[encoded data removed]",
      "text/plain": [
       "<matplotlib.figure.Figure at 0x116f6e550>"
      ]
     },
     "metadata": {},
     "output_type": "display_data"
    },
    {
     "data": {
      "image/png": "[encoded data removed]",
      "text/plain": [
       "<matplotlib.figure.Figure at 0x116f7bb70>"
      ]
     },
     "metadata": {},
     "output_type": "display_data"
    },
    {
     "data": {
      "image/png": "[encoded data removed]",
      "text/plain": [
       "<matplotlib.figure.Figure at 0x11729fd68>"
      ]
     },
     "metadata": {},
     "output_type": "display_data"
    }
   ],
   "source": [
    "%matplotlib inline\n",
    "import matplotlib.pyplot as plt\n",
    "\n",
    "\n",
    "print(transformedTitanic.age[0])\n",
    "plt.figure();\n",
    "transformedTitanic['pclass'].value_counts().plot(kind='bar')\n",
    "#transformedTitanic.hist(column=\"sex\",bins=3)\n",
    "plt.figure();\n",
    "transformedTitanic['embarked'].value_counts().plot(kind='bar')\n",
    "\n",
    "plt.figure();\n",
    "transformedTitanic['sex'].value_counts().plot(kind='bar')\n",
    "plt.figure();\n",
    "titanic_age=titanic.age.dropna(axis=0)\n",
    "titanic_age.hist(bins=10)"
   ]
  },
  {
   "cell_type": "code",
   "execution_count": 344,
   "metadata": {},
   "outputs": [
    {
     "data": {
      "image/png": "[encoded data removed]",
      "text/plain": [
       "<matplotlib.figure.Figure at 0x117f7a278>"
      ]
     },
     "metadata": {},
     "output_type": "display_data"
    }
   ],
   "source": [
    "#plt.figure();\n",
    "#transformedTitanic['cabin'].value_counts().plot(kind='bar')\n",
    "titanic_cabin=titanic.cabin.dropna(axis=0)\n",
    "titanic_cabinFloor = [k[0] for k in titanic_cabin]\n",
    "plt.figure();\n",
    "titanic_cabinFloor.count('G')\n",
    "from pylab import *\n",
    "\n",
    "# make a square figure and axes\n",
    "figure(1, figsize=(6,6))\n",
    "\n",
    "# The slices will be ordered and plotted counter-clockwise.\n",
    "labels = ['A', 'B', 'C', 'D', 'E', 'F', 'G']\n",
    "fracs = [titanic_cabinFloor.count(el) for el in labels]\n",
    "\n",
    "pie(fracs,  labels=labels,autopct='%1.1f%%', startangle=90)\n",
    "        \n",
    "title('proportion of passengers by cabin floor', bbox={'facecolor':'0.8', 'pad':5})\n",
    "\n",
    "show()\n"
   ]
  },
  {
   "cell_type": "code",
   "execution_count": 375,
   "metadata": {},
   "outputs": [
    {
     "name": "stdout",
     "output_type": "stream",
     "text": [
      "kjdfl survived\n",
      "0    0.618029\n",
      "1    0.381971\n",
      "Name: sex, dtype: float64 <class 'pandas.core.series.Series'>\n"
     ]
    },
    {
     "data": {
      "text/plain": [
       "<matplotlib.axes._subplots.AxesSubplot at 0x1108c3048>"
      ]
     },
     "execution_count": 375,
     "metadata": {},
     "output_type": "execute_result"
    },
    {
     "data": {
      "image/png": "[encoded data removed]",
      "text/plain": [
       "<matplotlib.figure.Figure at 0x110482748>"
      ]
     },
     "metadata": {},
     "output_type": "display_data"
    }
   ],
   "source": [
    "\n",
    "survivedSex= titanic.groupby(['survived'])['sex'].count()/titanic.shape[0]\n",
    "print(\"kjdfl\", survivedSex.T, type(survivedSex.T))\n",
    "\n",
    "\n",
    "survivedClass= titanic.groupby(['survived'])['pclass'].count()\n",
    "plt.figure();\n",
    "survivedSex.value_counts().plot(kind='bar')\n"
   ]
  },
  {
   "cell_type": "markdown",
   "metadata": {},
   "source": [
    "For each of the following questions state clearly your assumptions and discuss your findings:\n",
    "1. Describe the *type* and the *value range* of each attribute. Indicate and transform the attributes that can be `Categorical`. \n",
    "2. Plot histograms for the *travel class*, *embarkation port*, *sex* and *age* attributes. For the latter one, use *discrete decade intervals*. \n",
    "3. Calculate the proportion of passengers by *cabin floor*. Present your results in a *pie chart*.\n",
    "4. For each *travel class*, calculate the proportion of the passengers that survived. Present your results in *pie charts*.\n",
    "5. Calculate the proportion of the passengers that survived by *travel class* and *sex*. Present your results in *a single histogram*.\n",
    "6. Create 2 equally populated *age categories* and calculate survival proportions by *age category*, *travel class* and *sex*. Present your results in a `DataFrame` with unique index."
   ]
  },
  {
   "cell_type": "code",
   "execution_count": null,
   "metadata": {
    "collapsed": true
   },
   "outputs": [],
   "source": [
    "# Write your answer here"
   ]
  }
 ],
 "metadata": {
  "kernelspec": {
   "display_name": "Python 3",
   "language": "python",
   "name": "python3"
  },
  "language_info": {
   "codemirror_mode": {
    "name": "ipython",
    "version": 3
   },
   "file_extension": ".py",
   "mimetype": "text/x-python",
   "name": "python",
   "nbconvert_exporter": "python",
   "pygments_lexer": "ipython3",
   "version": "3.6.2"
  }
 },
 "nbformat": 4,
 "nbformat_minor": 2
}
