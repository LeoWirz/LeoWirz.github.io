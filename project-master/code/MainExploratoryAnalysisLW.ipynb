{
 "cells": [
  {
   "cell_type": "code",
   "execution_count": 1,
   "metadata": {},
   "outputs": [],
   "source": [
    "%load_ext autoreload\n",
    "%autoreload 2\n",
    "%matplotlib inline\n",
    "\n",
    "import pandas as pd\n",
    "import numpy as np\n",
    "import matplotlib.pyplot as plt\n",
    "import progressbar\n",
    "import types\n",
    "\n",
    "from json_data_getter import get_all_json"
   ]
  },
  {
   "cell_type": "markdown",
   "metadata": {},
   "source": [
    "# Data preparation"
   ]
  },
  {
   "cell_type": "markdown",
   "metadata": {},
   "source": [
    "## Loading"
   ]
  },
  {
   "cell_type": "code",
   "execution_count": 2,
   "metadata": {},
   "outputs": [
    {
     "name": "stderr",
     "output_type": "stream",
     "text": [
      "100% (109 of 109) |#######################| Elapsed Time: 0:00:36 Time: 0:00:36\n"
     ]
    }
   ],
   "source": [
    "# gets all the json files toghether, may take a minute\n",
    "number_documents, keys, documents = get_all_json()\n",
    "df = pd.DataFrame.from_dict(documents)"
   ]
  },
  {
   "cell_type": "markdown",
   "metadata": {},
   "source": [
    "## Cleaning"
   ]
  },
  {
   "cell_type": "code",
   "execution_count": 3,
   "metadata": {
    "scrolled": true
   },
   "outputs": [],
   "source": [
    "# keep NaN for float columns, empty strings for string columns\n",
    "for col in df:\n",
    "    # get dtype for column\n",
    "    dt = df[col].dtype\n",
    "    # check if it is a number\n",
    "    if dt == int or dt == float:\n",
    "        pass\n",
    "    else:\n",
    "        df[col].fillna(\"\", inplace=True)\n",
    "\n",
    "# set dates to datetime type\n",
    "df['publicationDate'] = pd.to_datetime(\n",
    "    df['publicationDate'], format='%Y-%m-%dT%H:%M:%SZ')"
   ]
  },
  {
   "cell_type": "code",
   "execution_count": 4,
   "metadata": {},
   "outputs": [],
   "source": [
    "# some columns contain list of strings and strings, so we change list of string to sentences\n",
    "# furthermore, some words are not separated by commas, we do a littre workaround to add commas if they don't exist\n",
    "def stringlist_to_string(s):\n",
    "    temp = ''\n",
    "    if isinstance(s, str):\n",
    "        if ',' not in s:\n",
    "            temp = s.replace(' ', ', ')\n",
    "        else:\n",
    "            temp = s\n",
    "    else:\n",
    "        temp = ', '.join(s)\n",
    "\n",
    "    # and lowercase because some of theme are uppercases only\n",
    "    return temp.lower()\n",
    "\n",
    "\n",
    "for t in [\n",
    "        'genres', 'thematicCorporations', 'thematicGeographicals',\n",
    "        'thematicPersons', 'thematicThemes', 'visualCorporations',\n",
    "        'visualGeographicals', 'visualPersons', 'visualThemes'\n",
    "]:\n",
    "    df[t] = df[t].apply(stringlist_to_string)"
   ]
  },
  {
   "cell_type": "markdown",
   "metadata": {},
   "source": [
    "## distribution in time"
   ]
  },
  {
   "cell_type": "code",
   "execution_count": 5,
   "metadata": {
    "scrolled": false
   },
   "outputs": [
    {
     "data": {
      "image/png": "[encoded data removed]",
      "text/plain": [
       "<matplotlib.figure.Figure at 0x1a6568eaf28>"
      ]
     },
     "metadata": {},
     "output_type": "display_data"
    }
   ],
   "source": [
    "doc_per_year = df.groupby(df.publicationDate.map(lambda x: x.year)).size()\n",
    "doc_per_year.plot()\n",
    "plt.show()"
   ]
  },
  {
   "cell_type": "markdown",
   "metadata": {},
   "source": [
    "We have a lot more data since the ~90's, and way more of the couple of last years. This mean that our event analysis would make more sense on recent event"
   ]
  },
  {
   "cell_type": "markdown",
   "metadata": {},
   "source": [
    "## Programs lifespan"
   ]
  },
  {
   "cell_type": "code",
   "execution_count": 6,
   "metadata": {},
   "outputs": [],
   "source": [
    "def get_program_lifespan(df):\n",
    "    program_groups = df.groupby(df.program)\n",
    "    df_lifespan = program_groups.publicationDate.agg(['min', 'max', 'size'])\n",
    "    df_lifespan['lifespan_days'] = (\n",
    "        df_lifespan['max'] - df_lifespan['min']).astype('timedelta64[D]')\n",
    "    return df_lifespan"
   ]
  },
  {
   "cell_type": "code",
   "execution_count": 7,
   "metadata": {
    "scrolled": true
   },
   "outputs": [
    {
     "data": {
      "text/html": [
       "<div>\n",
       "<style scoped>\n",
       "    .dataframe tbody tr th:only-of-type {\n",
       "        vertical-align: middle;\n",
       "    }\n",
       "\n",
       "    .dataframe tbody tr th {\n",
       "        vertical-align: top;\n",
       "    }\n",
       "\n",
       "    .dataframe thead th {\n",
       "        text-align: right;\n",
       "    }\n",
       "</style>\n",
       "<table border=\"1\" class=\"dataframe\">\n",
       "  <thead>\n",
       "    <tr style=\"text-align: right;\">\n",
       "      <th></th>\n",
       "      <th>min</th>\n",
       "      <th>max</th>\n",
       "      <th>size</th>\n",
       "      <th>lifespan_days</th>\n",
       "    </tr>\n",
       "    <tr>\n",
       "      <th>program</th>\n",
       "      <th></th>\n",
       "      <th></th>\n",
       "      <th></th>\n",
       "      <th></th>\n",
       "    </tr>\n",
       "  </thead>\n",
       "  <tbody>\n",
       "    <tr>\n",
       "      <th></th>\n",
       "      <td>1900-01-01 00:00:00</td>\n",
       "      <td>2017-11-15 00:00:00</td>\n",
       "      <td>20458</td>\n",
       "      <td>43052.0</td>\n",
       "    </tr>\n",
       "    <tr>\n",
       "      <th>TJ midi</th>\n",
       "      <td>1900-01-01 19:00:00</td>\n",
       "      <td>2011-12-04 11:45:00</td>\n",
       "      <td>204</td>\n",
       "      <td>40878.0</td>\n",
       "    </tr>\n",
       "    <tr>\n",
       "      <th>Marabout de ficelle</th>\n",
       "      <td>1900-01-01 00:00:00</td>\n",
       "      <td>1998-05-20 00:00:00</td>\n",
       "      <td>148</td>\n",
       "      <td>35933.0</td>\n",
       "    </tr>\n",
       "    <tr>\n",
       "      <th>Mémoires de la musique</th>\n",
       "      <td>1922-06-05 00:00:00</td>\n",
       "      <td>2004-01-23 00:00:00</td>\n",
       "      <td>2086</td>\n",
       "      <td>29817.0</td>\n",
       "    </tr>\n",
       "    <tr>\n",
       "      <th>Archives</th>\n",
       "      <td>1939-11-30 02:00:00</td>\n",
       "      <td>2017-10-03 13:10:37</td>\n",
       "      <td>120</td>\n",
       "      <td>28432.0</td>\n",
       "    </tr>\n",
       "  </tbody>\n",
       "</table>\n",
       "</div>"
      ],
      "text/plain": [
       "                                       min                 max   size  \\\n",
       "program                                                                 \n",
       "                       1900-01-01 00:00:00 2017-11-15 00:00:00  20458   \n",
       "TJ midi                1900-01-01 19:00:00 2011-12-04 11:45:00    204   \n",
       "Marabout de ficelle    1900-01-01 00:00:00 1998-05-20 00:00:00    148   \n",
       "Mémoires de la musique 1922-06-05 00:00:00 2004-01-23 00:00:00   2086   \n",
       "Archives               1939-11-30 02:00:00 2017-10-03 13:10:37    120   \n",
       "\n",
       "                        lifespan_days  \n",
       "program                                \n",
       "                              43052.0  \n",
       "TJ midi                       40878.0  \n",
       "Marabout de ficelle           35933.0  \n",
       "Mémoires de la musique        29817.0  \n",
       "Archives                      28432.0  "
      ]
     },
     "execution_count": 7,
     "metadata": {},
     "output_type": "execute_result"
    }
   ],
   "source": [
    "get_program_lifespan(df).sort_values('lifespan_days', ascending=False).head()"
   ]
  },
  {
   "cell_type": "markdown",
   "metadata": {},
   "source": [
    "The first row is the group of unnamed programs. Some duration seem a bit too long, maybe there are errors in the dates. Let's take TJ midi and check the distribution of transmissions by year."
   ]
  },
  {
   "cell_type": "code",
   "execution_count": 8,
   "metadata": {},
   "outputs": [],
   "source": [
    "def plot_program_lifespan(program, df):\n",
    "    program_groups = df.groupby(df.program)\n",
    "    group = program_groups.get_group(program)\n",
    "    date_distribution = group.groupby(\n",
    "        group.publicationDate.map(lambda x: (x.year))).size()\n",
    "    plt.bar(date_distribution.index, date_distribution.values)\n",
    "    plt.show()"
   ]
  },
  {
   "cell_type": "code",
   "execution_count": 9,
   "metadata": {},
   "outputs": [
    {
     "data": {
      "image/png": "[encoded data removed]",
      "text/plain": [
       "<matplotlib.figure.Figure at 0x1a681f2c438>"
      ]
     },
     "metadata": {},
     "output_type": "display_data"
    }
   ],
   "source": [
    "plot_program_lifespan('TJ midi', df)"
   ]
  },
  {
   "cell_type": "markdown",
   "metadata": {},
   "source": [
    "There are some obvious outliers, let's remove them."
   ]
  },
  {
   "cell_type": "markdown",
   "metadata": {},
   "source": [
    "### Date outliers removal"
   ]
  },
  {
   "cell_type": "markdown",
   "metadata": {},
   "source": [
    "Here we replace the dates with NaT if the year is to far from the mean year of a program."
   ]
  },
  {
   "cell_type": "code",
   "execution_count": 10,
   "metadata": {},
   "outputs": [],
   "source": [
    "# remove date outliers\n",
    "def remove_date_outliers(df):\n",
    "    CONSTANT_STD = 2\n",
    "    df_without_date_outliers = df.copy()\n",
    "\n",
    "    df['publicationDateYear'] = df.publicationDate.map(lambda x: x.year)\n",
    "\n",
    "    mean_std_year_per_program = df.groupby(df.program).publicationDateYear.agg(\n",
    "        [\"mean\", 'std'])\n",
    "\n",
    "    temp_df = pd.merge(\n",
    "        df,\n",
    "        mean_std_year_per_program,\n",
    "        how='left',\n",
    "        left_on=['program'],\n",
    "        right_index=True)\n",
    "\n",
    "    df_without_date_outliers.loc[\n",
    "        (np.abs(temp_df.publicationDateYear - temp_df['mean']) >\n",
    "         CONSTANT_STD * temp_df['std']), 'publicationDate'] = pd.NaT\n",
    "\n",
    "    return df_without_date_outliers"
   ]
  },
  {
   "cell_type": "code",
   "execution_count": 11,
   "metadata": {
    "scrolled": false
   },
   "outputs": [
    {
     "data": {
      "text/html": [
       "<div>\n",
       "<style scoped>\n",
       "    .dataframe tbody tr th:only-of-type {\n",
       "        vertical-align: middle;\n",
       "    }\n",
       "\n",
       "    .dataframe tbody tr th {\n",
       "        vertical-align: top;\n",
       "    }\n",
       "\n",
       "    .dataframe thead th {\n",
       "        text-align: right;\n",
       "    }\n",
       "</style>\n",
       "<table border=\"1\" class=\"dataframe\">\n",
       "  <thead>\n",
       "    <tr style=\"text-align: right;\">\n",
       "      <th></th>\n",
       "      <th>min</th>\n",
       "      <th>max</th>\n",
       "      <th>size</th>\n",
       "      <th>lifespan_days</th>\n",
       "    </tr>\n",
       "    <tr>\n",
       "      <th>program</th>\n",
       "      <th></th>\n",
       "      <th></th>\n",
       "      <th></th>\n",
       "      <th></th>\n",
       "    </tr>\n",
       "  </thead>\n",
       "  <tbody>\n",
       "    <tr>\n",
       "      <th></th>\n",
       "      <td>1921-11-23</td>\n",
       "      <td>2017-11-15 00:00:00</td>\n",
       "      <td>20458</td>\n",
       "      <td>35056.0</td>\n",
       "    </tr>\n",
       "    <tr>\n",
       "      <th>Documentaire</th>\n",
       "      <td>1952-11-30</td>\n",
       "      <td>2017-11-11 14:00:00</td>\n",
       "      <td>740</td>\n",
       "      <td>23722.0</td>\n",
       "    </tr>\n",
       "    <tr>\n",
       "      <th>Cyclisme</th>\n",
       "      <td>1953-11-30</td>\n",
       "      <td>2017-08-19 00:00:00</td>\n",
       "      <td>138</td>\n",
       "      <td>23273.0</td>\n",
       "    </tr>\n",
       "    <tr>\n",
       "      <th>Motocyclisme</th>\n",
       "      <td>1954-06-09</td>\n",
       "      <td>2017-08-13 00:00:00</td>\n",
       "      <td>14</td>\n",
       "      <td>23076.0</td>\n",
       "    </tr>\n",
       "    <tr>\n",
       "      <th>Souvenirs de vedette</th>\n",
       "      <td>1949-03-31</td>\n",
       "      <td>2009-12-17 00:00:00</td>\n",
       "      <td>4</td>\n",
       "      <td>22176.0</td>\n",
       "    </tr>\n",
       "  </tbody>\n",
       "</table>\n",
       "</div>"
      ],
      "text/plain": [
       "                            min                 max   size  lifespan_days\n",
       "program                                                                  \n",
       "                     1921-11-23 2017-11-15 00:00:00  20458        35056.0\n",
       "Documentaire         1952-11-30 2017-11-11 14:00:00    740        23722.0\n",
       "Cyclisme             1953-11-30 2017-08-19 00:00:00    138        23273.0\n",
       "Motocyclisme         1954-06-09 2017-08-13 00:00:00     14        23076.0\n",
       "Souvenirs de vedette 1949-03-31 2009-12-17 00:00:00      4        22176.0"
      ]
     },
     "execution_count": 11,
     "metadata": {},
     "output_type": "execute_result"
    }
   ],
   "source": [
    "df_without_date_outliers = remove_date_outliers(df)\n",
    "get_program_lifespan(df_without_date_outliers).sort_values(\n",
    "    'lifespan_days', ascending=False).head()"
   ]
  },
  {
   "cell_type": "code",
   "execution_count": 12,
   "metadata": {
    "scrolled": true
   },
   "outputs": [
    {
     "data": {
      "image/png": "[encoded data removed]",
      "text/plain": [
       "<matplotlib.figure.Figure at 0x1a655222ef0>"
      ]
     },
     "metadata": {},
     "output_type": "display_data"
    }
   ],
   "source": [
    "plot_program_lifespan('TJ midi', df_without_date_outliers)"
   ]
  },
  {
   "cell_type": "markdown",
   "metadata": {},
   "source": [
    "We can see that the distribution seems more natural now."
   ]
  },
  {
   "cell_type": "markdown",
   "metadata": {},
   "source": [
    "# Factors for program lifespan"
   ]
  },
  {
   "cell_type": "markdown",
   "metadata": {},
   "source": [
    "## Themes per period"
   ]
  },
  {
   "cell_type": "markdown",
   "metadata": {},
   "source": [
    "The goal of this part is to build a tool to get the top occurencies of word in the following categories:\n",
    "['genres', 'publicationChannelNames', 'thematicCorporations','thematicGeographicals','thematicPersons',\n",
    "'thematicThemes', 'visualCorporations', 'visualGeographicals', 'visualPersons', 'thematicGeographicals',\n",
    "'thematicThemes','visualThemes']\n",
    "\n",
    "We also need to be able to filter by year and by program. This is achieved in the file \"word_counter.py\". The useful function is \"word_counter.get_topn_themes\" that takes in argument the starting year and ending year, the type of theme (listed above), a list of programs(TODO), and the number of top occurencies."
   ]
  },
  {
   "cell_type": "code",
   "execution_count": 15,
   "metadata": {},
   "outputs": [],
   "source": [
    "import word_counter\n",
    "WC = word_counter.word_counter(df_without_date_outliers)"
   ]
  },
  {
   "cell_type": "code",
   "execution_count": 22,
   "metadata": {},
   "outputs": [],
   "source": [
    "test = WC.get_df()[90:100]"
   ]
  },
  {
   "cell_type": "code",
   "execution_count": 33,
   "metadata": {},
   "outputs": [],
   "source": [
    "from collections import Counter\n",
    "#test.apply(lambda x : Counter([word.strip() for word in x.split(',') if word not in [' ', '']]))\n",
    "\n",
    "coucou = test.apply(lambda x : Counter([word.strip() for column in x for word in column.split(',') if word not in [' ', '']]))"
   ]
  },
  {
   "cell_type": "code",
   "execution_count": 44,
   "metadata": {},
   "outputs": [],
   "source": [
    "coucou = test.applymap(lambda x : Counter([word.strip() for word in x.split(',') if word not in [' ','']]))"
   ]
  },
  {
   "cell_type": "code",
   "execution_count": 116,
   "metadata": {},
   "outputs": [],
   "source": [
    "counters_program_period = df[[\n",
    "    'genres', 'thematicCorporations', 'thematicGeographicals',\n",
    "    'thematicPersons', 'thematicThemes', 'visualCorporations',\n",
    "    'visualGeographicals', 'visualPersons', 'visualThemes'\n",
    "]].applymap(lambda x : (Counter([word.strip() for word in x.split(',') if word not in [' ', '']]))).groupby([\n",
    "    #df.program,\n",
    "    df.publicationDate.apply(lambda x: x.year)\n",
    "]).sum()"
   ]
  },
  {
   "cell_type": "code",
   "execution_count": 120,
   "metadata": {},
   "outputs": [],
   "source": [
    "counters_program_period.applymap(lambda x : dict(x.most_common())).to_json('themes_by_year.json', force_ascii=False)"
   ]
  },
  {
   "cell_type": "code",
   "execution_count": 218,
   "metadata": {
    "scrolled": false
   },
   "outputs": [
    {
     "data": {
      "text/html": [
       "<div>\n",
       "<style scoped>\n",
       "    .dataframe tbody tr th:only-of-type {\n",
       "        vertical-align: middle;\n",
       "    }\n",
       "\n",
       "    .dataframe tbody tr th {\n",
       "        vertical-align: top;\n",
       "    }\n",
       "\n",
       "    .dataframe thead th {\n",
       "        text-align: right;\n",
       "    }\n",
       "</style>\n",
       "<table border=\"1\" class=\"dataframe\">\n",
       "  <thead>\n",
       "    <tr style=\"text-align: right;\">\n",
       "      <th></th>\n",
       "      <th>top1</th>\n",
       "      <th>top2</th>\n",
       "      <th>top3</th>\n",
       "      <th>top4</th>\n",
       "      <th>top5</th>\n",
       "      <th>top6</th>\n",
       "      <th>top7</th>\n",
       "      <th>top8</th>\n",
       "    </tr>\n",
       "  </thead>\n",
       "  <tbody>\n",
       "    <tr>\n",
       "      <th>1990</th>\n",
       "      <td>manifestation politique</td>\n",
       "      <td>cérémonie religieuse</td>\n",
       "      <td>armée</td>\n",
       "      <td>logement</td>\n",
       "      <td>entreprise</td>\n",
       "      <td>scène de rue</td>\n",
       "      <td>conflit armé</td>\n",
       "      <td>écologisme</td>\n",
       "    </tr>\n",
       "    <tr>\n",
       "      <th>1991</th>\n",
       "      <td>manifestation politique</td>\n",
       "      <td>armée</td>\n",
       "      <td>enfant (âge)</td>\n",
       "      <td>cérémonie religieuse</td>\n",
       "      <td>agriculteur</td>\n",
       "      <td>nationalisme</td>\n",
       "      <td>conflit armé</td>\n",
       "      <td>économie capitaliste</td>\n",
       "    </tr>\n",
       "    <tr>\n",
       "      <th>1992</th>\n",
       "      <td>racisme</td>\n",
       "      <td>chômage</td>\n",
       "      <td>armée</td>\n",
       "      <td>économie</td>\n",
       "      <td>politique</td>\n",
       "      <td>enfant (âge)</td>\n",
       "      <td>prison</td>\n",
       "      <td>immigration</td>\n",
       "    </tr>\n",
       "    <tr>\n",
       "      <th>1993</th>\n",
       "      <td>chômage</td>\n",
       "      <td>bébé</td>\n",
       "      <td>économie capitaliste</td>\n",
       "      <td>économie</td>\n",
       "      <td>adolescence</td>\n",
       "      <td>banane</td>\n",
       "      <td>juifs</td>\n",
       "      <td>nazisme</td>\n",
       "    </tr>\n",
       "    <tr>\n",
       "      <th>1994</th>\n",
       "      <td>crise économique</td>\n",
       "      <td>adolescence</td>\n",
       "      <td>économie</td>\n",
       "      <td>vieillesse</td>\n",
       "      <td>quartier</td>\n",
       "      <td>banlieue</td>\n",
       "      <td>suicide</td>\n",
       "      <td>homicide</td>\n",
       "    </tr>\n",
       "    <tr>\n",
       "      <th>1995</th>\n",
       "      <td>travail des femmes</td>\n",
       "      <td>vieillesse</td>\n",
       "      <td>de</td>\n",
       "      <td>monarchie</td>\n",
       "      <td>noblesse</td>\n",
       "      <td>vedettariat</td>\n",
       "      <td>bal</td>\n",
       "      <td>presse à sensation</td>\n",
       "    </tr>\n",
       "    <tr>\n",
       "      <th>1996</th>\n",
       "      <td>juifs</td>\n",
       "      <td>pauvreté</td>\n",
       "      <td>armée</td>\n",
       "      <td>travail de nuit</td>\n",
       "      <td>travail des femmes</td>\n",
       "      <td>syndicat</td>\n",
       "      <td>condition de travail</td>\n",
       "      <td>années</td>\n",
       "    </tr>\n",
       "    <tr>\n",
       "      <th>1997</th>\n",
       "      <td>juifs</td>\n",
       "      <td>antisémitisme</td>\n",
       "      <td>pauvreté</td>\n",
       "      <td>quart-monde</td>\n",
       "      <td>armée</td>\n",
       "      <td>banque</td>\n",
       "      <td>guerre mondiale (deuxième)</td>\n",
       "      <td>téléphone</td>\n",
       "    </tr>\n",
       "    <tr>\n",
       "      <th>1998</th>\n",
       "      <td>retraite (état)</td>\n",
       "      <td>vie sociale</td>\n",
       "      <td>amérindiens</td>\n",
       "      <td>nomadisme</td>\n",
       "      <td>vieillesse</td>\n",
       "      <td>refoulement des étrangers</td>\n",
       "      <td>requérant d'asile</td>\n",
       "      <td>fécondation artificielle</td>\n",
       "    </tr>\n",
       "    <tr>\n",
       "      <th>1999</th>\n",
       "      <td>ville</td>\n",
       "      <td>candidate</td>\n",
       "      <td>aux</td>\n",
       "      <td>jeux</td>\n",
       "      <td>olympiques</td>\n",
       "      <td>olympisme</td>\n",
       "      <td>accident aérien</td>\n",
       "      <td>md11</td>\n",
       "    </tr>\n",
       "    <tr>\n",
       "      <th>2000</th>\n",
       "      <td>conseiller fédéral</td>\n",
       "      <td>fonction politique</td>\n",
       "      <td>commerce</td>\n",
       "      <td>électronique</td>\n",
       "      <td>amour</td>\n",
       "      <td>vieillesse</td>\n",
       "      <td>sexualité</td>\n",
       "      <td>exposition</td>\n",
       "    </tr>\n",
       "  </tbody>\n",
       "</table>\n",
       "</div>"
      ],
      "text/plain": [
       "                         top1                  top2                  top3  \\\n",
       "1990  manifestation politique  cérémonie religieuse                 armée   \n",
       "1991  manifestation politique                 armée          enfant (âge)   \n",
       "1992                  racisme               chômage                 armée   \n",
       "1993                  chômage                  bébé  économie capitaliste   \n",
       "1994         crise économique           adolescence              économie   \n",
       "1995       travail des femmes            vieillesse                    de   \n",
       "1996                    juifs              pauvreté                 armée   \n",
       "1997                    juifs         antisémitisme              pauvreté   \n",
       "1998          retraite (état)           vie sociale           amérindiens   \n",
       "1999                    ville             candidate                   aux   \n",
       "2000       conseiller fédéral    fonction politique              commerce   \n",
       "\n",
       "                      top4                top5                       top6  \\\n",
       "1990              logement          entreprise               scène de rue   \n",
       "1991  cérémonie religieuse         agriculteur               nationalisme   \n",
       "1992              économie           politique               enfant (âge)   \n",
       "1993              économie         adolescence                     banane   \n",
       "1994            vieillesse            quartier                   banlieue   \n",
       "1995             monarchie            noblesse                vedettariat   \n",
       "1996       travail de nuit  travail des femmes                   syndicat   \n",
       "1997           quart-monde               armée                     banque   \n",
       "1998             nomadisme          vieillesse  refoulement des étrangers   \n",
       "1999                  jeux          olympiques                  olympisme   \n",
       "2000          électronique               amour                 vieillesse   \n",
       "\n",
       "                            top7                      top8  \n",
       "1990                conflit armé                écologisme  \n",
       "1991                conflit armé      économie capitaliste  \n",
       "1992                      prison               immigration  \n",
       "1993                       juifs                   nazisme  \n",
       "1994                     suicide                  homicide  \n",
       "1995                         bal        presse à sensation  \n",
       "1996        condition de travail                    années  \n",
       "1997  guerre mondiale (deuxième)                 téléphone  \n",
       "1998           requérant d'asile  fécondation artificielle  \n",
       "1999             accident aérien                      md11  \n",
       "2000                   sexualité                exposition  "
      ]
     },
     "execution_count": 218,
     "metadata": {},
     "output_type": "execute_result"
    }
   ],
   "source": [
    "# this is an example of the top 8 \"thematicThemes\" of \"Temps présent\" between 1990 and 2000\n",
    "WC.get_topn_themes(1990,2000,'thematicThemes', 'Temps présent',n_top=8)"
   ]
  },
  {
   "cell_type": "code",
   "execution_count": 219,
   "metadata": {},
   "outputs": [
    {
     "data": {
      "text/html": [
       "<div>\n",
       "<style scoped>\n",
       "    .dataframe tbody tr th:only-of-type {\n",
       "        vertical-align: middle;\n",
       "    }\n",
       "\n",
       "    .dataframe tbody tr th {\n",
       "        vertical-align: top;\n",
       "    }\n",
       "\n",
       "    .dataframe thead th {\n",
       "        text-align: right;\n",
       "    }\n",
       "</style>\n",
       "<table border=\"1\" class=\"dataframe\">\n",
       "  <thead>\n",
       "    <tr style=\"text-align: right;\">\n",
       "      <th></th>\n",
       "      <th>top1</th>\n",
       "      <th>top2</th>\n",
       "      <th>top3</th>\n",
       "      <th>top4</th>\n",
       "      <th>top5</th>\n",
       "    </tr>\n",
       "  </thead>\n",
       "  <tbody>\n",
       "    <tr>\n",
       "      <th>1935</th>\n",
       "      <td>paix</td>\n",
       "      <td>conflit armé</td>\n",
       "      <td>relations internationales</td>\n",
       "      <td>vie politique</td>\n",
       "      <td>économie</td>\n",
       "    </tr>\n",
       "    <tr>\n",
       "      <th>1936</th>\n",
       "      <td>cirque</td>\n",
       "      <td>roi</td>\n",
       "      <td>guerre mondiale (première)</td>\n",
       "      <td>politique</td>\n",
       "      <td>vie politique</td>\n",
       "    </tr>\n",
       "    <tr>\n",
       "      <th>1937</th>\n",
       "      <td>relations internationales</td>\n",
       "      <td>cirque</td>\n",
       "      <td>radio</td>\n",
       "      <td>(compétition)</td>\n",
       "      <td>politique</td>\n",
       "    </tr>\n",
       "    <tr>\n",
       "      <th>1938</th>\n",
       "      <td>guerre mondiale (deuxième)</td>\n",
       "      <td>radio</td>\n",
       "      <td>mobilisation générale (1939-1945)</td>\n",
       "      <td>armée</td>\n",
       "      <td>histoire</td>\n",
       "    </tr>\n",
       "    <tr>\n",
       "      <th>1939</th>\n",
       "      <td>guerre mondiale (deuxième)</td>\n",
       "      <td>littérature</td>\n",
       "      <td>mobilisation générale (1939-1945)</td>\n",
       "      <td>armée</td>\n",
       "      <td>patriotisme</td>\n",
       "    </tr>\n",
       "    <tr>\n",
       "      <th>1940</th>\n",
       "      <td>guerre mondiale (deuxième)</td>\n",
       "      <td>patriotisme</td>\n",
       "      <td>littérature</td>\n",
       "      <td>commémoration</td>\n",
       "      <td>écrivain</td>\n",
       "    </tr>\n",
       "    <tr>\n",
       "      <th>1941</th>\n",
       "      <td>guerre mondiale (deuxième)</td>\n",
       "      <td>patriotisme</td>\n",
       "      <td>rationnement</td>\n",
       "      <td>commémoration</td>\n",
       "      <td>art dramatique</td>\n",
       "    </tr>\n",
       "    <tr>\n",
       "      <th>1942</th>\n",
       "      <td>guerre mondiale (deuxième)</td>\n",
       "      <td>recette culinaire</td>\n",
       "      <td>rationnement</td>\n",
       "      <td>armée</td>\n",
       "      <td>soldat</td>\n",
       "    </tr>\n",
       "    <tr>\n",
       "      <th>1943</th>\n",
       "      <td>guerre mondiale (deuxième)</td>\n",
       "      <td>armée</td>\n",
       "      <td>rationnement</td>\n",
       "      <td>recette culinaire</td>\n",
       "      <td>économie de guerre</td>\n",
       "    </tr>\n",
       "    <tr>\n",
       "      <th>1944</th>\n",
       "      <td>guerre mondiale (deuxième)</td>\n",
       "      <td>résistance (1939-1945)</td>\n",
       "      <td>paix</td>\n",
       "      <td>reddition militaire</td>\n",
       "      <td>radio</td>\n",
       "    </tr>\n",
       "    <tr>\n",
       "      <th>1945</th>\n",
       "      <td>guerre mondiale (deuxième)</td>\n",
       "      <td>paix</td>\n",
       "      <td>reddition militaire</td>\n",
       "      <td>résistance (1939-1945)</td>\n",
       "      <td>radio</td>\n",
       "    </tr>\n",
       "    <tr>\n",
       "      <th>1946</th>\n",
       "      <td>guerre mondiale (deuxième)</td>\n",
       "      <td>paix</td>\n",
       "      <td>relations internationales</td>\n",
       "      <td>organisation internationale</td>\n",
       "      <td>radio</td>\n",
       "    </tr>\n",
       "    <tr>\n",
       "      <th>1947</th>\n",
       "      <td></td>\n",
       "      <td></td>\n",
       "      <td></td>\n",
       "      <td></td>\n",
       "      <td></td>\n",
       "    </tr>\n",
       "    <tr>\n",
       "      <th>1948</th>\n",
       "      <td>guerre mondiale (deuxième)</td>\n",
       "      <td>radio</td>\n",
       "      <td>organisation internationale</td>\n",
       "      <td>relations internationales</td>\n",
       "      <td>littérature</td>\n",
       "    </tr>\n",
       "    <tr>\n",
       "      <th>1949</th>\n",
       "      <td>guerre mondiale (deuxième)</td>\n",
       "      <td>organisation internationale</td>\n",
       "      <td>radio</td>\n",
       "      <td>relations internationales</td>\n",
       "      <td>paix</td>\n",
       "    </tr>\n",
       "    <tr>\n",
       "      <th>1950</th>\n",
       "      <td>radio</td>\n",
       "      <td>de</td>\n",
       "      <td>émission</td>\n",
       "      <td>organisation internationale</td>\n",
       "      <td>paix</td>\n",
       "    </tr>\n",
       "  </tbody>\n",
       "</table>\n",
       "</div>"
      ],
      "text/plain": [
       "                            top1                         top2  \\\n",
       "1935                        paix                 conflit armé   \n",
       "1936                      cirque                          roi   \n",
       "1937   relations internationales                       cirque   \n",
       "1938  guerre mondiale (deuxième)                        radio   \n",
       "1939  guerre mondiale (deuxième)                  littérature   \n",
       "1940  guerre mondiale (deuxième)                  patriotisme   \n",
       "1941  guerre mondiale (deuxième)                  patriotisme   \n",
       "1942  guerre mondiale (deuxième)            recette culinaire   \n",
       "1943  guerre mondiale (deuxième)                        armée   \n",
       "1944  guerre mondiale (deuxième)       résistance (1939-1945)   \n",
       "1945  guerre mondiale (deuxième)                         paix   \n",
       "1946  guerre mondiale (deuxième)                         paix   \n",
       "1947                                                            \n",
       "1948  guerre mondiale (deuxième)                        radio   \n",
       "1949  guerre mondiale (deuxième)  organisation internationale   \n",
       "1950                       radio                           de   \n",
       "\n",
       "                                   top3                         top4  \\\n",
       "1935          relations internationales                vie politique   \n",
       "1936         guerre mondiale (première)                    politique   \n",
       "1937                              radio                (compétition)   \n",
       "1938  mobilisation générale (1939-1945)                        armée   \n",
       "1939  mobilisation générale (1939-1945)                        armée   \n",
       "1940                        littérature                commémoration   \n",
       "1941                       rationnement                commémoration   \n",
       "1942                       rationnement                        armée   \n",
       "1943                       rationnement            recette culinaire   \n",
       "1944                               paix          reddition militaire   \n",
       "1945                reddition militaire       résistance (1939-1945)   \n",
       "1946          relations internationales  organisation internationale   \n",
       "1947                                                                   \n",
       "1948        organisation internationale    relations internationales   \n",
       "1949                              radio    relations internationales   \n",
       "1950                           émission  organisation internationale   \n",
       "\n",
       "                    top5  \n",
       "1935            économie  \n",
       "1936       vie politique  \n",
       "1937           politique  \n",
       "1938            histoire  \n",
       "1939         patriotisme  \n",
       "1940            écrivain  \n",
       "1941      art dramatique  \n",
       "1942              soldat  \n",
       "1943  économie de guerre  \n",
       "1944               radio  \n",
       "1945               radio  \n",
       "1946               radio  \n",
       "1947                      \n",
       "1948         littérature  \n",
       "1949                paix  \n",
       "1950                paix  "
      ]
     },
     "execution_count": 219,
     "metadata": {},
     "output_type": "execute_result"
    }
   ],
   "source": [
    "# this is an example of the top 5 \"thematicThemes\" of all programs between 1935 and 1950\n",
    "WC.get_topn_themes(1935, 1950, 'thematicThemes',n_top=5)"
   ]
  },
  {
   "cell_type": "markdown",
   "metadata": {},
   "source": [
    "#### TODO find a nice and dynamic for this tables"
   ]
  },
  {
   "cell_type": "markdown",
   "metadata": {},
   "source": [
    "## Lifespan category"
   ]
  },
  {
   "cell_type": "markdown",
   "metadata": {},
   "source": [
    "Now that we have the lifespan of each program, let's see the histogram."
   ]
  },
  {
   "cell_type": "code",
   "execution_count": 26,
   "metadata": {
    "scrolled": false
   },
   "outputs": [
    {
     "data": {
      "image/png": "[encoded data removed]",
      "text/plain": [
       "<matplotlib.figure.Figure at 0x175d157dba8>"
      ]
     },
     "metadata": {},
     "output_type": "display_data"
    }
   ],
   "source": [
    "lifespan = get_program_lifespan(df_without_date_outliers)\n",
    "lifespan.hist(column='lifespan_days', bins=50, ec='black')\n",
    "plt.show()"
   ]
  },
  {
   "cell_type": "markdown",
   "metadata": {},
   "source": [
    "The distribution is heavy tailed, lot of programs are really short. Next step is to see how the type of program and the themes are correlated with the lifespan. To do this, we decide to class program in 5 categories of lifespan, each category having the same number of programs."
   ]
  },
  {
   "cell_type": "code",
   "execution_count": 33,
   "metadata": {
    "collapsed": true
   },
   "outputs": [],
   "source": [
    "lifespan['lifespan_class'] = (pd.qcut(\n",
    "    lifespan.lifespan_days, 5, labels=['very short', 'short', 'medium', 'long', 'very long']))"
   ]
  },
  {
   "cell_type": "markdown",
   "metadata": {},
   "source": [
    "#### TODO, look at the different themes for each bucket"
   ]
  },
  {
   "cell_type": "markdown",
   "metadata": {},
   "source": [
    "# dev"
   ]
  },
  {
   "cell_type": "code",
   "execution_count": 229,
   "metadata": {},
   "outputs": [],
   "source": [
    "j = df_without_date_outliers[100000:100100].to_json()"
   ]
  },
  {
   "cell_type": "code",
   "execution_count": 230,
   "metadata": {},
   "outputs": [
    {
     "data": {
      "text/plain": [
       "'{\"alternativeExcerpt\":{\"100000\":\"\",\"100001\":\"\",\"100002\":\"\",\"100003\":\"\",\"100004\":\"\",\"100005\":\"\",\"100006\":\"\",\"100007\":\"\",\"100008\":\"\",\"100009\":\"\",\"100010\":\"\",\"100011\":\"\",\"100012\":\"\",\"100013\":\"\",\"100014\":\"\",\"100015\":\"\",\"100016\":\"\",\"100017\":\"\",\"100018\":\"\",\"100019\":\"\",\"100020\":\"\",\"100021\":\"\",\"100022\":\"\",\"100023\":\"\",\"100024\":\"\",\"100025\":\"\",\"100026\":\"\",\"100027\":\"\",\"100028\":\"\",\"100029\":\"\",\"100030\":\"\",\"100031\":\"\",\"100032\":\"\",\"100033\":\"\",\"100034\":\"\",\"100035\":\"\",\"100036\":\"\",\"100037\":\"\",\"100038\":\"\",\"100039\":\"\",\"100040\":\"\",\"100041\":\"\",\"100042\":\"\",\"100043\":\"\",\"100044\":\"\",\"100045\":\"\",\"100046\":\"\",\"100047\":\"\",\"100048\":\"\",\"100049\":\"\",\"100050\":\"\",\"100051\":\"\",\"100052\":\"\",\"100053\":\"\",\"100054\":\"\",\"100055\":\"\",\"100056\":\"\",\"100057\":\"\",\"100058\":\"\",\"100059\":\"\",\"100060\":\"\",\"100061\":\"\",\"100062\":\"\",\"100063\":\"\",\"100064\":\"\",\"100065\":\"\",\"100066\":\"\",\"100067\":\"\",\"100068\":\"\",\"100069\":\"\",\"100070\":\"\",\"100071\":\"\",\"100072\":\"\",\"100073\":\"\",\"100074\":\"\",\"100075\":\"\",\"100076\":\"\",\"100077\":\"\",\"100078\":\"\",\"100079\":\"\",\"100080\":\"\",\"100081\":\"\",\"100082\":\"\",\"100083\":\"\",\"100084\":\"\",\"100085\":\"\",\"100086\":\"\",\"100087\":\"\",\"100088\":\"\",\"100089\":\"\",\"100090\":\"\",\"100091\":\"\",\"100092\":\"\",\"100093\":\"\",\"100094\":\"\",\"100095\":\"\",\"100096\":\"\",\"100097\":\"\",\"100098\":\"\",\"100099\":\"\"},\"alternativeTitle\":{\"100000\":\"\",\"100001\":\"\",\"100002\":\"\",\"100003\":\"\",\"100004\":\"\",\"100005\":\"\",\"100006\":\"\",\"100007\":\"\",\"100008\":\"\",\"100009\":\"\",\"100010\":\"\",\"100011\":\"\",\"100012\":\"\",\"100013\":\"\",\"100014\":\"\",\"100015\":\"\",\"100016\":\"\",\"100017\":\"\",\"100018\":\"\",\"100019\":\"\",\"100020\":\"\",\"100021\":\"\",\"100022\":\"\",\"100023\":\"\",\"100024\":\"\",\"100025\":\"\",\"100026\":\"\",\"100027\":\"\",\"100028\":\"\",\"100029\":\"\",\"100030\":\"\",\"100031\":\"\",\"100032\":\"\",\"100033\":\"\",\"100034\":\"\",\"100035\":\"\",\"100036\":\"\",\"100037\":\"\",\"100038\":\"\",\"100039\":\"\",\"100040\":\"\",\"100041\":\"\",\"100042\":\"\",\"100043\":\"\",\"100044\":\"\",\"100045\":\"\",\"100046\":\"\",\"100047\":\"\",\"100048\":\"\",\"100049\":\"\",\"100050\":\"\",\"100051\":\"\",\"100052\":\"\",\"100053\":\"\",\"100054\":\"\",\"100055\":\"\",\"100056\":\"\",\"100057\":\"\",\"100058\":\"\",\"100059\":\"\",\"100060\":\"\",\"100061\":\"\",\"100062\":\"\",\"100063\":\"\",\"100064\":\"\",\"100065\":\"\",\"100066\":\"\",\"100067\":\"\",\"100068\":\"\",\"100069\":\"\",\"100070\":\"\",\"100071\":\"\",\"100072\":\"\",\"100073\":\"\",\"100074\":\"\",\"100075\":\"\",\"100076\":\"\",\"100077\":\"\",\"100078\":\"\",\"100079\":\"\",\"100080\":\"\",\"100081\":\"\",\"100082\":\"\",\"100083\":\"\",\"100084\":\"\",\"100085\":\"\",\"100086\":\"\",\"100087\":\"\",\"100088\":\"\",\"100089\":\"\",\"100090\":\"\",\"100091\":\"\",\"100092\":\"\",\"100093\":\"\",\"100094\":\"\",\"100095\":\"\",\"100096\":\"\",\"100097\":\"\",\"100098\":\"\",\"100099\":\"\"},\"articleURL\":{\"100000\":\"\",\"100001\":\"\",\"100002\":\"\",\"100003\":\"\",\"100004\":\"\",\"100005\":\"\",\"100006\":\"\",\"100007\":\"\",\"100008\":\"\",\"100009\":\"\",\"100010\":\"\",\"100011\":\"\",\"100012\":\"\",\"100013\":\"\",\"100014\":\"\",\"100015\":\"\",\"100016\":\"\",\"100017\":\"\",\"100018\":\"\",\"100019\":\"\",\"100020\":\"\",\"100021\":\"\",\"100022\":\"\",\"100023\":\"\",\"100024\":\"\",\"100025\":\"\",\"100026\":\"\",\"100027\":\"\",\"100028\":\"\",\"100029\":\"\",\"100030\":\"\",\"100031\":\"\",\"100032\":\"\",\"100033\":\"\",\"100034\":\"\",\"100035\":\"\",\"100036\":\"\",\"100037\":\"\",\"100038\":\"\",\"100039\":\"\",\"100040\":\"\",\"100041\":\"\",\"100042\":\"\",\"100043\":\"\",\"100044\":\"\",\"100045\":\"\",\"100046\":\"\",\"100047\":\"\",\"100048\":\"\",\"100049\":\"\",\"100050\":\"\",\"100051\":\"\",\"100052\":\"\",\"100053\":\"\",\"100054\":\"\",\"100055\":\"\",\"100056\":\"\",\"100057\":\"\",\"100058\":\"\",\"100059\":\"\",\"100060\":\"\",\"100061\":\"\",\"100062\":\"\",\"100063\":\"\",\"100064\":\"\",\"100065\":\"\",\"100066\":\"\",\"100067\":\"\",\"100068\":\"\",\"100069\":\"\",\"100070\":\"\",\"100071\":\"\",\"100072\":\"\",\"100073\":\"\",\"100074\":\"\",\"100075\":\"\",\"100076\":\"\",\"100077\":\"\",\"100078\":\"\",\"100079\":\"\",\"100080\":\"\",\"100081\":\"\",\"100082\":\"\",\"100083\":\"\",\"100084\":\"\",\"100085\":\"\",\"100086\":\"\",\"100087\":\"\",\"100088\":\"\",\"100089\":\"\",\"100090\":\"\",\"100091\":\"\",\"100092\":\"\",\"100093\":\"\",\"100094\":\"\",\"100095\":\"\",\"100096\":\"\",\"100097\":\"\",\"100098\":\"\",\"100099\":\"\"},\"backgrounds\":{\"100000\":\"\",\"100001\":\"\",\"100002\":\"\",\"100003\":\"\",\"100004\":\"\",\"100005\":\"\",\"100006\":\"\",\"100007\":\"\",\"100008\":\"\",\"100009\":\"\",\"100010\":\"\",\"100011\":\"\",\"100012\":\"\",\"100013\":\"\",\"100014\":\"\",\"100015\":\"\",\"100016\":\"\",\"100017\":\"\",\"100018\":\"\",\"100019\":\"\",\"100020\":\"\",\"100021\":\"\",\"100022\":\"\",\"100023\":\"\",\"100024\":\"\",\"100025\":\"\",\"100026\":\"\",\"100027\":\"\",\"100028\":\"\",\"100029\":\"\",\"100030\":\"\",\"100031\":\"\",\"100032\":\"\",\"100033\":\"\",\"100034\":\"\",\"100035\":\"\",\"100036\":\"\",\"100037\":\"\",\"100038\":\"\",\"100039\":\"\",\"100040\":\"\",\"100041\":\"\",\"100042\":\"\",\"100043\":\"\",\"100044\":\"\",\"100045\":\"\",\"100046\":\"\",\"100047\":\"\",\"100048\":\"\",\"100049\":\"\",\"100050\":\"\",\"100051\":\"\",\"100052\":\"\",\"100053\":\"\",\"100054\":\"\",\"100055\":\"\",\"100056\":\"\",\"100057\":\"\",\"100058\":\"\",\"100059\":\"\",\"100060\":\"\",\"100061\":\"\",\"100062\":\"\",\"100063\":\"\",\"100064\":\"\",\"100065\":\"\",\"100066\":\"\",\"100067\":\"\",\"100068\":\"\",\"100069\":\"\",\"100070\":\"\",\"100071\":\"\",\"100072\":\"\",\"100073\":\"\",\"100074\":\"\",\"100075\":\"\",\"100076\":\"\",\"100077\":\"\",\"100078\":\"\",\"100079\":\"\",\"100080\":\"\",\"100081\":\"\",\"100082\":\"\",\"100083\":\"\",\"100084\":\"\",\"100085\":\"\",\"100086\":\"\",\"100087\":\"\",\"100088\":\"\",\"100089\":\"\",\"100090\":\"\",\"100091\":\"\",\"100092\":\"\",\"100093\":\"\",\"100094\":\"\",\"100095\":\"\",\"100096\":\"\",\"100097\":\"\",\"100098\":\"\",\"100099\":\"\"},\"contributors\":{\"100000\":\"\",\"100001\":{\"vide\":[{\"name\":\"TSR\",\"type\":\"Organisation\"}],\"Producteur\":[{\"name\":\"PASCHE, Daniel\",\"type\":\"Personne physique\"},{\"name\":\"ROMY, Bernard\",\"type\":\"Personne physique\"}]},\"100002\":{\"vide\":[{\"name\":\"TSR\",\"type\":\"Organisation\"}],\"Producteur\":[{\"name\":\"FEURER, Dani\\\\u00e8le\",\"type\":\"Personne physique\"}]},\"100003\":{\"Interview\\\\u00e9\\\\/e\":[{\"role\":\"\\\\u00e9crivain, auteur de \\\\\"La M\\\\u00e9moire engloutie\\\\\", professeur, chroniqueur au journal \\\\\"La Suisse\\\\\"\",\"name\":\"Olivier, Jean-Michel\",\"type\":\"Participant\"},{\"role\":\"professeur\",\"name\":\"Vuilleumier, Jean\",\"type\":\"Participant\"}],\"Producteur\\\\/trice Radio\":[{\"role\":\"Collaborateur\\\\/trice RSR\",\"name\":\"Ferla, Patrick\",\"type\":\"Producteur\"}],\"Intervieweur\\\\/euse\":[{\"role\":\"collaborateur RSR\",\"name\":\"Ferla, Patrick\",\"type\":\"Participant\"}]},\"100004\":{\"Interview\\\\u00e9\\\\/e\":[{\"role\":\"chanteuse\",\"name\":\"Lazure, Gabrielle\",\"type\":\"Participant\"}],\"Producteur\\\\/trice Radio\":[{\"role\":\"Collaborateur\\\\/trice RSR\",\"name\":\"Jacot-Descombes, Christian\",\"type\":\"Producteur\"}],\"Intervieweur\\\\/euse\":[{\"role\":\"collaborateur RSR\",\"name\":\"Inconnu\",\"type\":\"Participant\"}]},\"100005\":{\"Interview\\\\u00e9\\\\/e\":[{\"role\":\"cin\\\\u00e9aste burkinab\\\\u00e9, r\\\\u00e9alisateur de \\\\\"Tila\\\\u00ef\\\\\"\",\"name\":\"Ouedraogo, Idrissa\",\"type\":\"Participant\"},{\"role\":\"cin\\\\u00e9aste tunisien, r\\\\u00e9alisateur de \\\\\"Halfaouine\\\\\"\",\"name\":\"Boughedir, Ferid\",\"type\":\"Participant\"},{\"role\":\"cin\\\\u00e9aste am\\\\u00e9ricain, r\\\\u00e9alisateur de \\\\\"Metropolitan\\\\\"\",\"name\":\"Stillman, Whit\",\"type\":\"Participant\"},{\"role\":\"critique de cin\\\\u00e9ma\",\"name\":\"Lachat, Serge\",\"type\":\"Participant\"}],\"Producteur\\\\/trice Radio\":[{\"role\":\"Collaborateur\\\\/trice RSR\",\"name\":\"Ypsilantis, Nancy\",\"type\":\"Producteur\"}],\"Intervieweur\\\\/euse\":[{\"role\":\"collaborateur RSR\",\"name\":\"Perret, Jean\",\"type\":\"Participant\"}],\"R\\\\u00e9alisateur\\\\/trice Radio\":[{\"role\":\"collaboratrice RSR\",\"name\":\"Nazarieff, Luisa\",\"type\":\"Producteur\"}],\"Pr\\\\u00e9sentateur\\\\/trice\":[{\"role\":\"collaboratrice RSR\",\"name\":\"Ypsilantis, Nancy\",\"type\":\"Participant\"}]},\"100006\":{\"vide\":[{\"name\":\"TSR\",\"type\":\"Organisation\"}]},\"100007\":{\"Son\":[{\"name\":\"ZOSSO, Roland\",\"type\":\"Personne physique\"}],\"vide\":[{\"name\":\"TSR\",\"type\":\"Organisation\"}],\"Monteur\":[{\"name\":\"SAAS, Jean\",\"type\":\"Personne physique\"}],\"Journaliste\":[{\"name\":\"SCHMIDT, Serge\",\"type\":\"Personne physique\"}],\"Producteur\":[{\"name\":\"VON BURG, Dominique\",\"type\":\"Personne physique\"}],\"R\\\\u00e9alisateur\":[{\"name\":\"KARCHER, Christian\",\"type\":\"Personne physique\"}]},\"100008\":{\"vide\":[{\"name\":\"TSR\",\"type\":\"Organisation\"}],\"Journaliste\":[{\"name\":\"ROSSI, Pierre-Pascal\",\"type\":\"Personne physique\"}],\"R\\\\u00e9alisateur\":[{\"name\":\"MOTTIER, Christian\",\"type\":\"Personne physique\"}]},\"100009\":{\"Commentateur\":[{\"name\":\"NICOD, Jean-Fran\\\\u00e7ois\",\"type\":\"Personne physique\"}]},\"100010\":\"\",\"100011\":{\"Interview\\\\u00e9\\\\/e\":[{\"role\":\"p\\\\u00e9dopsychiatre\",\"name\":\"Stern-Bruschweiler, Nadia\",\"type\":\"Participant\"},{\"role\":\"journaliste \\\\u00e0 Radio Free Europe\",\"name\":\"Krasnosselski, Vladimir\",\"type\":\"Participant\"}],\"Producteur\\\\/trice Radio\":[{\"role\":\"Collaborateur\\\\/trice RSR\",\"name\":\"Ypsilantis, Nancy\",\"type\":\"Producteur\"}],\"Intervieweur\\\\/euse\":[{\"role\":\"collaboratrice TSR\",\"name\":\"Bruschweiler, Anne\",\"type\":\"Participant\"}],\"R\\\\u00e9alisateur\\\\/trice Radio\":[{\"role\":\"collaboratrice RSR\",\"name\":\"Nazarieff, Luisa\",\"type\":\"Producteur\"}],\"Pr\\\\u00e9sentateur\\\\/trice\":[{\"role\":\"collaboratrice RSR\",\"name\":\"Ypsilantis, Nancy\",\"type\":\"Participant\"}]},\"100012\":{\"Interview\\\\u00e9\\\\/e\":[{\"role\":\"auteur-compositeur-interpr\\\\u00e8te\",\"name\":\"Lemarque, Francis\",\"type\":\"Participant\"},{\"role\":\"auteur-compositeur-interpr\\\\u00e8te\",\"name\":\"Barrier, Ricet\",\"type\":\"Participant\"}],\"Producteur\\\\/trice Radio\":[{\"role\":\"Collaborateur\\\\/trice RSR\",\"name\":\"Jacot-Descombes, Christian\",\"type\":\"Producteur\"}],\"Intervieweur\\\\/euse\":[{\"role\":\"collaborateur RSR\",\"name\":\"Inconnu\",\"type\":\"Participant\"}]},\"100013\":{\"Interview\\\\u00e9\\\\/e\":[{\"role\":\"chef de la diplomatie irakienne\",\"name\":\"Al Qaysi, Riyad\",\"type\":\"Participant\"},{\"role\":\"Vodroz porte-parole de la police genevoise\",\"name\":\"Vodroz, Marcel\",\"type\":\"Participant\"}],\"Reporter\":[{\"role\":\"collaborateur\\\\/trice RSR\",\"name\":\"Bissegger, J\\\\u00fcrg\",\"type\":\"Participant\"}],\"Intervieweur\\\\/euse\":[{\"role\":\"collaborateur\\\\/trice RSR\",\"name\":\"Cohen, Sylvie\",\"type\":\"Participant\"}],\"Pr\\\\u00e9sentateur\\\\/trice\":[{\"role\":\"collaborateur\\\\/trice RSR\",\"name\":\"Heinzer, William\",\"type\":\"Participant\"}]},\"100014\":{\"Interview\\\\u00e9\\\\/e\":[{\"role\":\"chroniqueur au journal \\\\\"Le Monde\\\\\", auteur du livre sur le sida \\\\\"Quartiers d\\'hiver\\\\\"\",\"name\":\"Pancrazi, Jean-No\\\\u00ebl\",\"type\":\"Participant\"}],\"Producteur\\\\/trice Radio\":[{\"role\":\"Collaborateur\\\\/trice RSR\",\"name\":\"Ferla, Patrick\",\"type\":\"Producteur\"}],\"Intervieweur\\\\/euse\":[{\"role\":\"collaborateur RSR\",\"name\":\"Ferla, Patrick\",\"type\":\"Participant\"}]},\"100015\":{\"Interview\\\\u00e9\\\\/e\":[{\"role\":\"musicien\",\"name\":\"Bovard, Jean-Fran\\\\u00e7ois\",\"type\":\"Participant\"}],\"Technicien\\\\/ne\":[{\"role\":\"collaborateur RSR\",\"name\":\"Gailly, Jean-Claude\",\"type\":\"Producteur\"}],\"Producteur\\\\/trice Radio\":[{\"role\":\"Collaborateur\\\\/trice RSR\",\"name\":\"Lehmann, Jean-Luc\",\"type\":\"Producteur\"}],\"Intervieweur\\\\/euse\":[{\"role\":\"collaborateur RSR\",\"name\":\"Fazan, Daniel\",\"type\":\"Participant\"},{\"role\":\"collaborateur RSR\",\"name\":\"Lehmann, Jean-Luc\",\"type\":\"Participant\"}]},\"100016\":{\"vide\":[{\"name\":\"TSR\",\"type\":\"Organisation\"}],\"Producteur\":[{\"name\":\"DEFAYE, Christian\",\"type\":\"Personne physique\"}]},\"100017\":\"\",\"100018\":{\"vide\":[{\"name\":\"TSR\",\"type\":\"Organisation\"}],\"Producteur\":[{\"name\":\"FEURER, Dani\\\\u00e8le\",\"type\":\"Personne physique\"}]},\"100019\":{\"vide\":[{\"name\":\"TSR\",\"type\":\"Organisation\"}],\"R\\\\u00e9alisateur\":[{\"name\":\"BARDET, Francois\",\"type\":\"Personne physique\"}]},\"100020\":{\"vide\":[{\"name\":\"TSR\",\"type\":\"Organisation\"}]},\"100021\":{\"Interview\\\\u00e9\\\\/e\":[{\"role\":\"auteur-compositeur-interpr\\\\u00e8te\",\"name\":\"Legrand, Michel\",\"type\":\"Participant\"}],\"Producteur\\\\/trice Radio\":[{\"role\":\"Collaborateur\\\\/trice RSR\",\"name\":\"Jacot-Descombes, Christian\",\"type\":\"Producteur\"}],\"Intervieweur\\\\/euse\":[{\"role\":\"collaborateur RSR\",\"name\":\"Inconnu\",\"type\":\"Participant\"}]},\"100022\":{\"Interview\\\\u00e9\\\\/e\":[{\"role\":\"chanteur\",\"name\":\"Malo, Laurent\",\"type\":\"Participant\"},{\"role\":\"auteur-compositeur-interpr\\\\u00e8te\",\"name\":\"Didier, Romain\",\"type\":\"Participant\"}],\"Producteur\\\\/trice Radio\":[{\"role\":\"Collaborateur\\\\/trice RSR\",\"name\":\"Ferla, Patrick\",\"type\":\"Producteur\"}],\"Intervieweur\\\\/euse\":[{\"role\":\"collaborateur RSR\",\"name\":\"Ferla, Patrick\",\"type\":\"Participant\"}]},\"100023\":{\"Producteur\\\\/trice Radio\":[{\"role\":\"Collaborateur\\\\/trice RSR\",\"name\":\"Schuin, Anik\",\"type\":\"Producteur\"}],\"Intervieweur\\\\/euse\":[{\"role\":\"collaborateurs CRPLF\",\"name\":\"Voix diverses\",\"type\":\"Participant\"}],\"Pr\\\\u00e9sentateur\\\\/trice\":[{\"role\":\"collaborateurs CRPLF\",\"name\":\"Voix diverses\",\"type\":\"Participant\"}],\"Commentateur\\\\/trice\":[{\"role\":\"collaborateurs CRPLF\",\"name\":\"Voix diverses\",\"type\":\"Participant\"}]},\"100024\":\"\",\"100025\":{\"vide\":[{\"name\":\"TSR\",\"type\":\"Organisation\"}],\"Producteur\":[{\"name\":\"FEURER, Dani\\\\u00e8le\",\"type\":\"Personne physique\"}]},\"100026\":{\"vide\":[{\"name\":\"TSR\",\"type\":\"Organisation\"}],\"Responsable\":[{\"name\":\"ACQUADRO, Boris\",\"type\":\"Personne physique\"}]},\"100027\":{\"vide\":[{\"name\":\"TSR\",\"type\":\"Organisation\"}]},\"100028\":{\"Son\":[{\"name\":\"GREMION, Michel\",\"type\":\"Personne physique\"}],\"vide\":[{\"name\":\"TSR\",\"type\":\"Organisation\"}],\"Monteur\":[{\"name\":\"LAUBLI, Jean-Michel\",\"type\":\"Personne physique\"}],\"Journaliste\":[{\"name\":\"CHAPONNIERE, Corinne\",\"type\":\"Personne physique\"}],\"Cameraman\":[{\"name\":\"CHARTON, Didier\",\"type\":\"Personne physique\"}],\"R\\\\u00e9alisateur\":[{\"name\":\"BLOESCH, Jean-Daniel\",\"type\":\"Personne physique\"}]},\"100029\":{\"Interview\\\\u00e9\\\\/e\":[{\"role\":\"commissaire de l\\'exposition\",\"name\":\"Kuthy, Sandor\",\"type\":\"Participant\"}],\"Producteur\\\\/trice Radio\":[{\"role\":\"Collaborateur\\\\/trice RSR\",\"name\":\"Ypsilantis, Nancy\",\"type\":\"Producteur\"}],\"R\\\\u00e9citant\\\\/e\":[{\"role\":\"collaborateur RSR\",\"name\":\"Bernheim, Pascal\",\"type\":\"Participant\"}],\"Intervieweur\\\\/euse\":[{\"role\":\"collaboratrice RSR\",\"name\":\"Mauron, V\\\\u00e9ronique\",\"type\":\"Participant\"}],\"R\\\\u00e9alisateur\\\\/trice Radio\":[{\"role\":\"collaboratrice RSR\",\"name\":\"Nazarieff, Luisa\",\"type\":\"Producteur\"}],\"Pr\\\\u00e9sentateur\\\\/trice\":[{\"role\":\"collaboratrice RSR\",\"name\":\"Ypsilantis, Nancy\",\"type\":\"Participant\"}]},\"100030\":{\"Interview\\\\u00e9\\\\/e\":[{\"role\":\"\\\\u00e9tudiante\",\"name\":\"Stan, Lacrima\",\"type\":\"Participant\"},{\"role\":\"cin\\\\u00e9aste\",\"name\":\"Teianu, Ionut\",\"type\":\"Participant\"},{\"role\":\"ex-roi\",\"name\":\"Michel de Roumanie\",\"type\":\"Participant\"},{\"role\":\"po\\\\u00e9tesse\",\"name\":\"Blandiana, Ana\",\"type\":\"Participant\"},{\"role\":\"philologue\",\"name\":\"Mihai, Mihaela\",\"type\":\"Participant\"},{\"role\":\"vice-pr\\\\u00e9sident du Parti lib\\\\u00e9ral\",\"name\":\"Horodinca, Georgetta\",\"type\":\"Participant\"},{\"role\":\"\\\\u00e9crivain\",\"name\":\"Ceaucescu, Nicolae\",\"type\":\"Participant\"},{\"role\":\"enseignante\",\"name\":\"Nenciu, Rodica\",\"type\":\"Participant\"},{\"role\":\"po\\\\u00e8te\",\"name\":\"Doinas, Stefan Agustin\",\"type\":\"Participant\"},{\"role\":\"homrabbin\",\"name\":\"Kanner, Miron\",\"type\":\"Participant\"},{\"role\":\"historien\",\"name\":\"Gheorghiu, Mihnea\",\"type\":\"Participant\"},{\"role\":\"homme de th\\\\u00e9\\\\u00e2tre juif\",\"name\":\"Botez, Sorin\",\"type\":\"Participant\"},{\"role\":\"pr\\\\u00eatre orthodoxe\",\"name\":\"Ursache, Gheorghe\",\"type\":\"Participant\"},{\"role\":\"enseignante suisse \\\\u00e0 Bucarest\",\"name\":\"Noirat (Mademoiselle)\",\"type\":\"Participant\"},{\"role\":\"rabbin\",\"name\":\"Rosen, Moses\",\"type\":\"Participant\"},{\"role\":\"m\\\\u00e8re sup\\\\u00e9rieure du couvent de Tiganesti\",\"name\":\"Inconnue\",\"type\":\"Participant\"}],\"Producteur\\\\/trice Radio\":[{\"role\":\"Collaborateur\\\\/trice RSR\",\"name\":\"Schuin, Anik\",\"type\":\"Producteur\"}],\"Intervieweur\\\\/euse\":[{\"role\":\"ex-pr\\\\u00e9sident roumain (Archives)\",\"name\":\"D\\\\u00e9cotte, Alex\",\"type\":\"Participant\"}],\"R\\\\u00e9alisateur\\\\/trice Radio\":[{\"role\":\"collaborateur RTSR collaboratrice RSTR\",\"name\":\"Marchand, Anne\",\"type\":\"Producteur\"}]},\"100031\":{\"Interview\\\\u00e9\\\\/e\":[{\"role\":\"homme de th\\\\u00e9\\\\u00e2tre juif\",\"name\":\"Botez, Sorin\",\"type\":\"Participant\"},{\"role\":\"po\\\\u00e9tesse\",\"name\":\"Blandiana, Ana\",\"type\":\"Participant\"},{\"role\":\"pr\\\\u00eatre orthodoxe\",\"name\":\"Ursache, Gheorghe\",\"type\":\"Participant\"},{\"role\":\"philologue\",\"name\":\"Mihai, Mihaela\",\"type\":\"Participant\"},{\"role\":\"\\\\u00e9tudiante\",\"name\":\"Stan, Lacrima\",\"type\":\"Participant\"},{\"role\":\"po\\\\u00e8te\",\"name\":\"Doinas, Stefan Agustin\",\"type\":\"Participant\"},{\"role\":\"historien\",\"name\":\"Gheorghiu, Mihnea\",\"type\":\"Participant\"},{\"role\":\"cin\\\\u00e9aste\",\"name\":\"Teianu, Ionut\",\"type\":\"Participant\"},{\"role\":\"vice-pr\\\\u00e9sident du Parti lib\\\\u00e9ral\",\"name\":\"Horodinca, Georgetta\",\"type\":\"Participant\"},{\"role\":\"ex-roi\",\"name\":\"Michel de Roumanie\",\"type\":\"Participant\"},{\"role\":\"\\\\u00e9crivain\",\"name\":\"Ceaucescu, Nicolae\",\"type\":\"Participant\"},{\"role\":\"m\\\\u00e8re sup\\\\u00e9rieure du couvent de Tiganesti\",\"name\":\"Inconnue\",\"type\":\"Participant\"},{\"role\":\"enseignante suisse \\\\u00e0 Bucarest\",\"name\":\"Noirat (Mademoiselle)\",\"type\":\"Participant\"},{\"role\":\"homrabbin\",\"name\":\"Kanner, Miron\",\"type\":\"Participant\"},{\"role\":\"rabbin\",\"name\":\"Rosen, Moses\",\"type\":\"Participant\"},{\"role\":\"enseignante\",\"name\":\"Nenciu, Rodica\",\"type\":\"Participant\"}],\"Producteur\\\\/trice Radio\":[{\"role\":\"Collaborateur\\\\/trice RSR\",\"name\":\"Schuin, Anik\",\"type\":\"Producteur\"}],\"Intervieweur\\\\/euse\":[{\"role\":\"ex-pr\\\\u00e9sident roumain (Archives)\",\"name\":\"D\\\\u00e9cotte, Alex\",\"type\":\"Participant\"}],\"R\\\\u00e9alisateur\\\\/trice Radio\":[{\"role\":\"collaborateur RTSR collaboratrice RSTR\",\"name\":\"Marchand, Anne\",\"type\":\"Producteur\"}]},\"100032\":{\"Interview\\\\u00e9\\\\/e\":[{\"role\":\"pianiste de jazz\",\"name\":\"Lindemann, Fran\\\\u00e7ois\",\"type\":\"Participant\"}],\"Producteur\\\\/trice Radio\":[{\"role\":\"Collaborateur\\\\/trice RSR\",\"name\":\"Jacot-Descombes, Christian\",\"type\":\"Producteur\"}],\"Intervieweur\\\\/euse\":[{\"role\":\"collaborateur RSR\",\"name\":\"Inconnu\",\"type\":\"Participant\"}]},\"100033\":{\"Interview\\\\u00e9\\\\/e\":[{\"role\":\"ex-roi\",\"name\":\"Michel de Roumanie\",\"type\":\"Participant\"},{\"role\":\"ex-pr\\\\u00e9sident roumain (Archives)\",\"name\":\"Ceaucescu, Nicolae\",\"type\":\"Participant\"},{\"role\":\"homrabbin\",\"name\":\"Kanner, Miron\",\"type\":\"Participant\"},{\"role\":\"po\\\\u00e9tesse\",\"name\":\"Blandiana, Ana\",\"type\":\"Participant\"},{\"role\":\"rabbin\",\"name\":\"Rosen, Moses\",\"type\":\"Participant\"},{\"role\":\"enseignante suisse \\\\u00e0 Bucarest\",\"name\":\"Noirat (Mademoiselle)\",\"type\":\"Participant\"},{\"role\":\"m\\\\u00e8re sup\\\\u00e9rieure du couvent de Tiganesti\",\"name\":\"Inconnue\",\"type\":\"Participant\"},{\"role\":\"pr\\\\u00eatre orthodoxe\",\"name\":\"Ursache, Gheorghe\",\"type\":\"Participant\"},{\"role\":\"vice-pr\\\\u00e9sident du Parti lib\\\\u00e9ral\",\"name\":\"Horodinca, Georgetta\",\"type\":\"Participant\"},{\"role\":\"historien\",\"name\":\"Gheorghiu, Mihnea\",\"type\":\"Participant\"},{\"role\":\"\\\\u00e9tudiante\",\"name\":\"Stan, Lacrima\",\"type\":\"Participant\"},{\"role\":\"homme de th\\\\u00e9\\\\u00e2tre juif\",\"name\":\"Botez, Sorin\",\"type\":\"Participant\"},{\"role\":\"cin\\\\u00e9aste\",\"name\":\"Teianu, Ionut\",\"type\":\"Participant\"},{\"role\":\"enseignante\",\"name\":\"Nenciu, Rodica\",\"type\":\"Participant\"},{\"role\":\"po\\\\u00e8te\",\"name\":\"Doinas, Stefan Agustin\",\"type\":\"Participant\"},{\"role\":\"philologue\",\"name\":\"Mihai, Mihaela\",\"type\":\"Participant\"}],\"Producteur\\\\/trice Radio\":[{\"role\":\"Collaborateur\\\\/trice RSR\",\"name\":\"Schuin, Anik\",\"type\":\"Producteur\"}],\"Intervieweur\\\\/euse\":[{\"role\":\"\\\\u00e9crivain\",\"name\":\"D\\\\u00e9cotte, Alex\",\"type\":\"Participant\"}],\"R\\\\u00e9alisateur\\\\/trice Radio\":[{\"role\":\"collaborateur RTSR collaboratrice RSTR\",\"name\":\"Marchand, Anne\",\"type\":\"Producteur\"}]},\"100034\":{\"Interview\\\\u00e9\\\\/e\":[{\"role\":\"po\\\\u00e8te\",\"name\":\"Doinas, Stefan Agustin\",\"type\":\"Participant\"},{\"role\":\"rabbin\",\"name\":\"Rosen, Moses\",\"type\":\"Participant\"},{\"role\":\"vice-pr\\\\u00e9sident du Parti lib\\\\u00e9ral\",\"name\":\"Horodinca, Georgetta\",\"type\":\"Participant\"},{\"role\":\"\\\\u00e9crivain\",\"name\":\"Ceaucescu, Nicolae\",\"type\":\"Participant\"},{\"role\":\"enseignante\",\"name\":\"Nenciu, Rodica\",\"type\":\"Participant\"},{\"role\":\"enseignante suisse \\\\u00e0 Bucarest\",\"name\":\"Noirat (Mademoiselle)\",\"type\":\"Participant\"},{\"role\":\"homrabbin\",\"name\":\"Kanner, Miron\",\"type\":\"Participant\"},{\"role\":\"homme de th\\\\u00e9\\\\u00e2tre juif\",\"name\":\"Botez, Sorin\",\"type\":\"Participant\"},{\"role\":\"po\\\\u00e9tesse\",\"name\":\"Blandiana, Ana\",\"type\":\"Participant\"},{\"role\":\"historien\",\"name\":\"Gheorghiu, Mihnea\",\"type\":\"Participant\"},{\"role\":\"pr\\\\u00eatre orthodoxe\",\"name\":\"Ursache, Gheorghe\",\"type\":\"Participant\"},{\"role\":\"ex-roi\",\"name\":\"Michel de Roumanie\",\"type\":\"Participant\"},{\"role\":\"cin\\\\u00e9aste\",\"name\":\"Teianu, Ionut\",\"type\":\"Participant\"},{\"role\":\"\\\\u00e9tudiante\",\"name\":\"Stan, Lacrima\",\"type\":\"Participant\"},{\"role\":\"philologue\",\"name\":\"Mihai, Mihaela\",\"type\":\"Participant\"},{\"role\":\"m\\\\u00e8re sup\\\\u00e9rieure du couvent de Tiganesti\",\"name\":\"Inconnue\",\"type\":\"Participant\"}],\"Producteur\\\\/trice Radio\":[{\"role\":\"Collaborateur\\\\/trice RSR\",\"name\":\"Schuin, Anik\",\"type\":\"Producteur\"}],\"Intervieweur\\\\/euse\":[{\"role\":\"ex-pr\\\\u00e9sident roumain (Archives)\",\"name\":\"D\\\\u00e9cotte, Alex\",\"type\":\"Participant\"}],\"R\\\\u00e9alisateur\\\\/trice Radio\":[{\"role\":\"collaborateur RTSR collaboratrice RSTR\",\"name\":\"Marchand, Anne\",\"type\":\"Producteur\"}]},\"100035\":{\"Interview\\\\u00e9\\\\/e\":[{\"role\":\"conservateur du Mus\\\\u00e9e d\\'ethnographie de Neuch\\\\u00e2tel\",\"name\":\"Hainard, Jacques\",\"type\":\"Participant\"}],\"Producteur\\\\/trice Radio\":[{\"role\":\"Collaborateur\\\\/trice RSR\",\"name\":\"Ferla, Patrick\",\"type\":\"Producteur\"}],\"Intervieweur\\\\/euse\":[{\"role\":\"collaborateur RSR\",\"name\":\"Ferla, Patrick\",\"type\":\"Participant\"}],\"Divers\":[{\"role\":\"collaborateur RSR\",\"name\":\"Musy, Frank\",\"type\":\"Participant\"},{\"role\":\"chef de l\\'Information \\\\u00e0 RSR\",\"name\":\"Tschopp, G\\\\u00e9rard\",\"type\":\"Participant\"}]},\"100036\":{\"Interview\\\\u00e9\\\\/e\":[{\"role\":\"historien, sociologue\",\"name\":\"Duby, Georges\",\"type\":\"Participant\"}],\"Technicien\\\\/ne\":[{\"role\":\"collaboratrice RSR\",\"name\":\"Fischer, Denise\",\"type\":\"Producteur\"},{\"role\":\"collaboratrice RSR\",\"name\":\"Matthey, Marie-Th\\\\u00e9r\\\\u00e8se\",\"type\":\"Producteur\"}],\"Producteur\\\\/trice Radio\":[{\"role\":\"Collaborateur\\\\/trice RSR\",\"name\":\"Layaz, Alphonse\",\"type\":\"Producteur\"}],\"Intervieweur\\\\/euse\":[{\"role\":\"collaborateur RSR\",\"name\":\"Layaz, Alphonse\",\"type\":\"Participant\"}]},\"100037\":{\"Interview\\\\u00e9\\\\/e\":[{\"role\":\"musicologue\",\"name\":\"Erismann, Guy\",\"type\":\"Participant\"}],\"Technicien\\\\/ne\":[{\"role\":\"collaborateur RSR\",\"name\":\"Therond, Luc\",\"type\":\"Producteur\"}],\"Producteur\\\\/trice Radio\":[{\"role\":\"Collaborateur\\\\/trice RSR\",\"name\":\"Livio, Antoine\",\"type\":\"Producteur\"}],\"Intervieweur\\\\/euse\":[{\"role\":\"collaborateur RSR\",\"name\":\"Livio, Antoine\",\"type\":\"Participant\"}]},\"100038\":{\"vide\":[{\"name\":\"TSR\",\"type\":\"Organisation\"}]},\"100039\":{\"vide\":[{\"name\":\"TSR\",\"type\":\"Organisation\"}],\"Producteur\":[{\"name\":\"FEURER, Dani\\\\u00e8le\",\"type\":\"Personne physique\"}]},\"100040\":{\"Interview\\\\u00e9\\\\/e\":[{\"role\":\"pianiste de jazz\",\"name\":\"Lindemann, Fran\\\\u00e7ois\",\"type\":\"Participant\"}],\"Producteur\\\\/trice Radio\":[{\"role\":\"Collaborateur\\\\/trice RSR\",\"name\":\"Jacot-Descombes, Christian\",\"type\":\"Producteur\"}],\"Intervieweur\\\\/euse\":[{\"role\":\"collaborateur RSR\",\"name\":\"Inconnu\",\"type\":\"Participant\"}]},\"100041\":\"\",\"100042\":{\"Interview\\\\u00e9\\\\/e\":[{\"role\":\"correspondante RSR \\\\u00e0 Bruxelles\",\"name\":\"Paris, Odette\",\"type\":\"Participant\"},{\"role\":\"collaboratrice RSR\",\"name\":\"Boulanger, Mousse\",\"type\":\"Participant\"},{\"role\":\"correspondante RSR \\\\u00e0 Paris\",\"name\":\"Chavasse, Paule\",\"type\":\"Participant\"}],\"Technicien\\\\/ne\":[{\"role\":\"collaborateur RSR\",\"name\":\"Molliet, Jean-Pierre\",\"type\":\"Producteur\"},{\"role\":\"collaborateur RSR\",\"name\":\"Gailly, Jean-Claude\",\"type\":\"Producteur\"}],\"Producteur\\\\/trice Radio\":[{\"role\":\"Collaborateur\\\\/trice RSR\",\"name\":\"Leburgue, Marie-Claude\",\"type\":\"Producteur\"}],\"Intervieweur\\\\/euse\":[{\"role\":\"collaboratrice RSR\",\"name\":\"Florence, Vera\",\"type\":\"Participant\"},{\"role\":\"collaboratrice RSR\",\"name\":\"Leburgue, Marie-Claude\",\"type\":\"Participant\"},{\"role\":\"collaborateur RSR\",\"name\":\"Fradkoff, Denis\",\"type\":\"Participant\"}]},\"100043\":{\"Interview\\\\u00e9\\\\/e\":[{\"role\":\"chanteur\",\"name\":\"Crawford, Randy\",\"type\":\"Participant\"}],\"Producteur\\\\/trice Radio\":[{\"role\":\"Collaborateur\\\\/trice RSR\",\"name\":\"Jacot-Descombes, Christian\",\"type\":\"Producteur\"}],\"Intervieweur\\\\/euse\":[{\"role\":\"collaborateur RSR\",\"name\":\"Inconnu\",\"type\":\"Participant\"}]},\"100044\":{\"Interview\\\\u00e9\\\\/e\":[{\"role\":\"com\\\\u00e9dienne\",\"name\":\"Savigny, Jane\",\"type\":\"Participant\"}],\"Producteur\\\\/trice Radio\":[{\"role\":\"Collaborateur\\\\/trice RSR\",\"name\":\"Moisson, Serge\",\"type\":\"Producteur\"}],\"Intervieweur\\\\/euse\":[{\"role\":\"collaborateur RSR\",\"name\":\"Moisson, Serge\",\"type\":\"Participant\"}],\"R\\\\u00e9alisateur\\\\/trice Radio\":[{\"role\":\"collaborateur RSR\",\"name\":\"Moisson, Serge\",\"type\":\"Producteur\"}]},\"100045\":{\"Interview\\\\u00e9\\\\/e\":[{\"name\":\"Karen, Mich\\\\u00e8le\",\"type\":\"Participant\"}],\"Producteur\\\\/trice Radio\":[{\"role\":\"Collaborateur\\\\/trice RSR\",\"name\":\"Rielle, Yvette\",\"type\":\"Producteur\"}],\"Intervieweur\\\\/euse\":[{\"role\":\"collaboratrice RSR\",\"name\":\"Rielle, Yvette\",\"type\":\"Participant\"}]},\"100046\":{\"Interview\\\\u00e9\\\\/e\":[{\"role\":\"r\\\\u00e9alisatrice RSR\",\"name\":\"Florence, Vera\",\"type\":\"Participant\"}],\"Producteur\\\\/trice Radio\":[{\"role\":\"Collaborateur\\\\/trice RSR\",\"name\":\"Leburgue, Marie-Claude\",\"type\":\"Producteur\"}],\"Intervieweur\\\\/euse\":[{\"role\":\"collaboratrice RSR\",\"name\":\"Leburgue, Marie-Claude\",\"type\":\"Participant\"}]},\"100047\":{\"Interview\\\\u00e9\\\\/e\":[{\"role\":\"chef du D\\\\u00e9partement de l\\'instruction publique genevois\",\"name\":\"Chavanne, Andr\\\\u00e9\",\"type\":\"Participant\"},{\"role\":\"\\\\u00e9crivaine\",\"name\":\"Weiss, Louise\",\"type\":\"Participant\"},{\"role\":\"\\\\u00e9crivain alg\\\\u00e9rien\",\"name\":\"Amrouche, Jean\",\"type\":\"Participant\"}],\"Producteur\\\\/trice Radio\":[{\"role\":\"Collaborateur\\\\/trice RSR\",\"name\":\"Leburgue, Marie-Claude\",\"type\":\"Producteur\"}],\"Intervieweur\\\\/euse\":[{\"role\":\"collaboratrice RSR\",\"name\":\"Florence, Vera\",\"type\":\"Participant\"}],\"Pr\\\\u00e9sentateur\\\\/trice\":[{\"role\":\"collaboratrice RSR\",\"name\":\"Leburgue, Marie-Claude\",\"type\":\"Participant\"}]},\"100048\":{\"Interview\\\\u00e9\\\\/e\":[{\"role\":\"d\\\\u00e9l\\\\u00e9gu\\\\u00e9 du Conseil F\\\\u00e9d\\\\u00e9ral pour le 700\\\\u00e8me anniversaire de la Conf\\\\u00e9d\\\\u00e9ration\",\"name\":\"Solari, Marco\",\"type\":\"Participant\"}],\"Intervieweur\\\\/euse\":[{\"role\":\"collaborateur\\\\/trice RSR\",\"name\":\"Musy, Frank\",\"type\":\"Participant\"},{\"role\":\"collaborateur\\\\/trice RSR\",\"name\":\"Favre, Daniel\",\"type\":\"Participant\"}]},\"100049\":{\"vide\":[{\"name\":\"TSR\",\"type\":\"Organisation\"}]},\"100050\":{\"Interview\\\\u00e9\\\\/e\":[{\"role\":\"collaboratrice RSR\",\"name\":\"Jaccard, Mich\\\\u00e8le\",\"type\":\"Participant\"},{\"role\":\"collaboratrice RSR\",\"name\":\"Evelyne, Claude\",\"type\":\"Participant\"},{\"role\":\"philosophe\",\"name\":\"Hersch, Jeanne\",\"type\":\"Participant\"},{\"role\":\"collaboratrice RSR\",\"name\":\"Pieri, Monique\",\"type\":\"Participant\"},{\"role\":\"collaboratrice RSR\",\"name\":\"Florence, Vera\",\"type\":\"Participant\"},{\"role\":\"\\\\u00e9crivain, membre de l\\'Acad\\\\u00e9mie Fran\\\\u00e7aise\",\"name\":\"Ormesson, Jean d\\'\",\"type\":\"Participant\"},{\"role\":\"collaboratrice RSR\",\"name\":\"Rielle, Yvette\",\"type\":\"Participant\"}],\"Technicien\\\\/ne\":[{\"role\":\"collaborateur RSR\",\"name\":\"Molliet, Jean-Pierre\",\"type\":\"Producteur\"},{\"role\":\"collaborateur RSR\",\"name\":\"Gailly, Jean-Claude\",\"type\":\"Producteur\"}],\"Producteur\\\\/trice Radio\":[{\"role\":\"Collaborateur\\\\/trice RSR\",\"name\":\"Leburgue, Marie-Claude\",\"type\":\"Producteur\"}],\"Intervieweur\\\\/euse\":[{\"role\":\"collaborateur RSR\",\"name\":\"Fradkoff, Denis\",\"type\":\"Participant\"},{\"role\":\"collaboratrice RSR\",\"name\":\"Leburgue, Marie-Claude\",\"type\":\"Participant\"},{\"role\":\"collaboratrice RSR\",\"name\":\"Florence, Vera\",\"type\":\"Participant\"}]},\"100051\":{\"Responsable\":[{\"name\":\"ACQUADRO, Boris\",\"type\":\"Personne physique\"}]},\"100052\":{\"vide\":[{\"name\":\"TSR\",\"type\":\"Organisation\"}],\"Producteur\":[{\"name\":\"BARDE, Pierre\",\"type\":\"Personne physique\"},{\"name\":\"HOTTELIER, Andree\",\"type\":\"Personne physique\"}],\"R\\\\u00e9alisateur\":[{\"name\":\"BARDE, Pierre\",\"type\":\"Personne physique\"}]},\"100053\":{\"vide\":[{\"name\":\"TSR\",\"type\":\"Organisation\"}],\"Journaliste\":[{\"name\":\"ACKERMANN, Guy\",\"type\":\"Personne physique\"}],\"Producteur\":[{\"name\":\"BALLIF, Eliane\",\"type\":\"Personne physique\"}]},\"100054\":{\"Son\":[{\"name\":\"GREMION, Michel\",\"type\":\"Personne physique\"}],\"vide\":[{\"name\":\"TSR\",\"type\":\"Organisation\"}],\"Journaliste\":[{\"name\":\"FERLA, Patrick\",\"type\":\"Personne physique\"}],\"Cameraman\":[{\"name\":\"BRUCHEZ, Gerard\",\"type\":\"Personne physique\"}],\"Producteur\":[{\"name\":\"TERRAIL, Maurice\",\"type\":\"Personne physique\"}],\"R\\\\u00e9alisateur\":[{\"name\":\"DEMIERRE, Michel\",\"type\":\"Personne physique\"}]},\"100055\":{\"vide\":[{\"name\":\"TSR\",\"type\":\"Organisation\"}],\"Producteur\":[{\"name\":\"MATEA, Flavia\",\"type\":\"Personne physique\"}],\"R\\\\u00e9alisateur\":[{\"name\":\"MINKOFF, Serge\",\"type\":\"Personne physique\"}]},\"100056\":{\"R\\\\u00e9alisateur\":[{\"name\":\"FALLOT, Anne-Marie\",\"type\":\"Personne physique\"},{\"name\":\"SAUTTER, Arielle\",\"type\":\"Personne physique\"}]},\"100057\":{\"Interview\\\\u00e9\\\\/e\":[{\"role\":\"chanteuse\",\"name\":\"Mouskouri, Nana\",\"type\":\"Participant\"}],\"Technicien\\\\/ne\":[{\"name\":\"Jaccard, Luc\",\"type\":\"Producteur\"}],\"Producteur\\\\/trice Radio\":[{\"role\":\"Collaborateur\\\\/trice RSR\",\"name\":\"Pichon, Bernard\",\"type\":\"Producteur\"}],\"Intervieweur\\\\/euse\":[{\"role\":\"collaborateur RSR\",\"name\":\"Pichon, Bernard\",\"type\":\"Participant\"}]},\"100058\":{\"Interview\\\\u00e9\\\\/e\":[{\"role\":\"pensionnaires de maisons de retraite\",\"name\":\"Inconnus\",\"type\":\"Participant\"}],\"Technicien\\\\/ne\":[{\"name\":\"Jaccard, Luc\",\"type\":\"Producteur\"}],\"Producteur\\\\/trice Radio\":[{\"role\":\"Collaborateur\\\\/trice RSR\",\"name\":\"Pichon, Bernard\",\"type\":\"Producteur\"}],\"Intervieweur\\\\/euse\":[{\"name\":\"Jaccard, Luc\",\"type\":\"Participant\"}],\"Pr\\\\u00e9sentateur\\\\/trice\":[{\"role\":\"collaborateur RSR\",\"name\":\"Pichon, Bernard\",\"type\":\"Participant\"}]},\"100059\":{\"vide\":[{\"name\":\"TSR\",\"type\":\"Organisation\"}]},\"100060\":{\"vide\":[{\"name\":\"TSR\",\"type\":\"Organisation\"}],\"R\\\\u00e9alisateur\":[{\"name\":\"GROS, Philippe\",\"type\":\"Personne physique\"}]},\"100061\":{\"vide\":[{\"name\":\"TSR\",\"type\":\"Organisation\"}],\"Pr\\\\u00e9sentateur\":[{\"name\":\"NICOD, Jean-Fran\\\\u00e7ois\",\"type\":\"Personne physique\"}],\"Chroniqueur\":[{\"name\":\"AUBERT, Georges\",\"type\":\"Personne physique\"}],\"Producteur\":[{\"name\":\"EDERA, Bruno\",\"type\":\"Personne physique\"}],\"R\\\\u00e9alisateur\":[{\"name\":\"NOGUET, Eric\",\"type\":\"Personne physique\"}]},\"100062\":{\"vide\":[{\"name\":\"TSR\",\"type\":\"Organisation\"}],\"Responsable\":[{\"name\":\"DUPUIS, Pierre-Alain\",\"type\":\"Personne physique\"}]},\"100063\":{\"vide\":[{\"name\":\"TSR\",\"type\":\"Organisation\"}],\"Producteur\":[{\"name\":\"SIMONI, Pierre\",\"type\":\"Personne physique\"}]},\"100064\":{\"vide\":[{\"name\":\"TSR\",\"type\":\"Organisation\"}],\"Producteur\":[{\"name\":\"FEURER, Dani\\\\u00e8le\",\"type\":\"Personne physique\"}]},\"100065\":{\"Technicien\\\\/ne\":[{\"role\":\"collaborateur RSR (r\\\\u00e9gie)\",\"name\":\"Thibault, Gilles\",\"type\":\"Producteur\"},{\"role\":\"collaborateur RSR (prise de son)\",\"name\":\"Perregaux, Roland\",\"type\":\"Producteur\"}],\"Traducteur\\\\/trice\":[{\"name\":\"Deutsch, Michel\",\"type\":\"Auteur\"}],\"R\\\\u00e9alisateur\\\\/trice Radio\":[{\"role\":\"collaboratrice RSR (assistance)\",\"name\":\"Rhyn, Anne-Marie\",\"type\":\"Producteur\"},{\"role\":\"collaboratrice RSR (mise en ondes)\",\"name\":\"Grin, Claude\",\"type\":\"Producteur\"},{\"role\":\"collaboratrice RSR (mise en ondes)\",\"name\":\"Bonillo, Isabelle\",\"type\":\"Producteur\"},{\"role\":\"collaborateur RSR (mise en ondes)\",\"name\":\"Chollet, Jean\",\"type\":\"Producteur\"}],\"Auteur du texte\":[{\"role\":\"auteur du texte\",\"name\":\"Matheson, Richard\",\"type\":\"Auteur\"}],\"Acteur \\\\/trice\":[{\"role\":\"Docteur RaDocteur Ramsey\",\"name\":\"Ruegg, Pierre\",\"type\":\"Participant\"},{\"role\":\"Th\\\\u00e9r\\\\u00e8se\",\"name\":\"Mermoud, V\\\\u00e9ronique\",\"type\":\"Participant\"}]},\"100066\":{\"Interview\\\\u00e9\\\\/e\":[{\"role\":\"auteur-compositeur-interpr\\\\u00e8te\",\"name\":\"Legrand, Michel\",\"type\":\"Participant\"}],\"Producteur\\\\/trice Radio\":[{\"role\":\"Collaborateur\\\\/trice RSR\",\"name\":\"Jacot-Descombes, Christian\",\"type\":\"Producteur\"}],\"Intervieweur\\\\/euse\":[{\"role\":\"collaborateur RSR\",\"name\":\"Inconnu\",\"type\":\"Participant\"}]},\"100067\":{\"Interview\\\\u00e9\\\\/e\":[{\"role\":\"com\\\\u00e9dien\",\"name\":\"Miserez, Pierre\",\"type\":\"Participant\"}],\"Producteur\\\\/trice Radio\":[{\"role\":\"Collaborateur\\\\/trice RSR\",\"name\":\"Jacot-Descombes, Christian\",\"type\":\"Producteur\"}],\"Intervieweur\\\\/euse\":[{\"role\":\"collaborateur RSR\",\"name\":\"Inconnu\",\"type\":\"Participant\"}]},\"100068\":{\"vide\":[{\"name\":\"TSR\",\"type\":\"Organisation\"}],\"Producteur\":[{\"name\":\"VARNEL, Janry\",\"type\":\"Personne physique\"}]},\"100069\":{\"Producteur\\\\/trice Radio\":[{\"role\":\"Collaborateur\\\\/trice RSR\",\"name\":\"Moss\\\\u00e9, Claude\",\"type\":\"Producteur\"}],\"R\\\\u00e9citant\\\\/e\":[{\"role\":\"collaborateur RSR\",\"name\":\"Moss\\\\u00e9, Claude\",\"type\":\"Participant\"}],\"R\\\\u00e9alisateur\\\\/trice Radio\":[{\"role\":\"collaboratrice RSR\",\"name\":\"Sullam, Dani\\\\u00e8le\",\"type\":\"Producteur\"}],\"Auteur du texte\":[{\"role\":\"collaborateur RSR\",\"name\":\"Moss\\\\u00e9, Claude\",\"type\":\"Auteur\"}],\"Programmateur\\\\/trice musical\\\\/e\":[{\"role\":\"collaboratrice RSR\",\"name\":\"Sullam, Dani\\\\u00e8le\",\"type\":\"Producteur\"}]},\"100070\":{\"vide\":[{\"name\":\"TSR\",\"type\":\"Organisation\"}]},\"100071\":{\"vide\":[{\"name\":\"TSR\",\"type\":\"Organisation\"}],\"Monteur\":[{\"name\":\"CONELLI, Gabriella\",\"type\":\"Personne physique\"}],\"Journaliste\":[{\"name\":\"GONET, Isabelle\",\"type\":\"Personne physique\"}],\"Cameraman\":[{\"name\":\"ROULIN, Philippe\",\"type\":\"Personne physique\"}],\"Producteur\":[{\"name\":\"PASCHE, Daniel\",\"type\":\"Personne physique\"},{\"name\":\"ROMY, Bernard\",\"type\":\"Personne physique\"}]},\"100072\":{\"Interview\\\\u00e9\\\\/e\":[{\"role\":\"chanteur\",\"name\":\"Trenet, Charles\",\"type\":\"Participant\"}],\"Producteur\\\\/trice Radio\":[{\"role\":\"Collaborateur\\\\/trice RSR\",\"name\":\"Jacot-Descombes, Christian\",\"type\":\"Producteur\"}],\"Intervieweur\\\\/euse\":[{\"role\":\"collaborateur RSR\",\"name\":\"Inconnu\",\"type\":\"Participant\"}]},\"100073\":{\"Producteur\\\\/trice Radio\":[{\"role\":\"Collaborateur\\\\/trice RSR\",\"name\":\"Moss\\\\u00e9, Claude\",\"type\":\"Producteur\"}],\"R\\\\u00e9citant\\\\/e\":[{\"role\":\"collaborateur RSR\",\"name\":\"Moss\\\\u00e9, Claude\",\"type\":\"Participant\"}],\"R\\\\u00e9alisateur\\\\/trice Radio\":[{\"role\":\"collaboratrice RSR\",\"name\":\"Sullam, Dani\\\\u00e8le\",\"type\":\"Producteur\"}],\"Auteur du texte\":[{\"role\":\"collaborateur RSR\",\"name\":\"Moss\\\\u00e9, Claude\",\"type\":\"Auteur\"}],\"Programmateur\\\\/trice musical\\\\/e\":[{\"role\":\"collaboratrice RSR\",\"name\":\"Sullam, Dani\\\\u00e8le\",\"type\":\"Producteur\"}]},\"100074\":{\"vide\":[{\"name\":\"TSR\",\"type\":\"Organisation\"}]},\"100075\":{\"vide\":[{\"name\":\"TSR\",\"type\":\"Organisation\"}],\"Producteur\":[{\"name\":\"VON BURG, Dominique\",\"type\":\"Personne physique\"}]},\"100076\":{\"Son\":[{\"name\":\"CAVADIA, Bogdan\",\"type\":\"Personne physique\"},{\"name\":\"GLARDON, Michel\",\"type\":\"Personne physique\"}],\"vide\":[{\"name\":\"TSR\",\"type\":\"Organisation\"}],\"Producteur\":[{\"name\":\"VARNEL, Janry\",\"type\":\"Personne physique\"}],\"R\\\\u00e9alisateur\":[{\"name\":\"GROS, Philippe\",\"type\":\"Personne physique\"}]},\"100077\":{\"Technicien\\\\/ne\":[{\"role\":\"collaborateur RSR (r\\\\u00e9gisseur)\",\"name\":\"Thibault, Gilles\",\"type\":\"Producteur\"},{\"role\":\"collaborateur RSR (preneur de son)\",\"name\":\"Calame, Fran\\\\u00e7ois\",\"type\":\"Producteur\"}],\"Producteur\\\\/trice Radio\":[{\"role\":\"Collaborateur\\\\/trice RSR\",\"name\":\"Bloch, G\\\\u00e9rald\",\"type\":\"Producteur\"}],\"R\\\\u00e9alisateur\\\\/trice Radio\":[{\"role\":\"collaborateur RSR (metteur en ondes)\",\"name\":\"Charri\\\\u00e8re, Ignace\",\"type\":\"Producteur\"},{\"role\":\"collaboratrice RSR (assistante)\",\"name\":\"Moret, Edith\",\"type\":\"Producteur\"}],\"Auteur du texte\":[{\"role\":\"auteur du texte\",\"name\":\"Levoyer, G\\\\u00e9rard\",\"type\":\"Auteur\"}],\"Acteur \\\\/trice\":[{\"role\":\"Voix\",\"name\":\"Thibault, Gilles\",\"type\":\"Participant\"},{\"role\":\"Annie S\\\\u00e9n\\\\u00e9chal\",\"name\":\"Kraatz, Harriett\",\"type\":\"Participant\"},{\"role\":\"Pierre Dumontier\",\"name\":\"Moriaud, Jean-Pierre\",\"type\":\"Participant\"},{\"role\":\"Voix\",\"name\":\"Abplanalp, Armand\",\"type\":\"Participant\"}]},\"100078\":{\"vide\":[{\"name\":\"TSR\",\"type\":\"Organisation\"}]},\"100079\":{\"vide\":[{\"name\":\"TSR\",\"type\":\"Organisation\"}],\"R\\\\u00e9alisateur\":[{\"name\":\"BARDET, Francois\",\"type\":\"Personne physique\"}]},\"100080\":{\"vide\":[{\"name\":\"TVR\",\"type\":\"Organisation\"}]},\"100081\":{\"vide\":[{\"name\":\"TSR\",\"type\":\"Organisation\"}],\"Responsable\":[{\"name\":\"VOUILLAMOZ, Raymond\",\"type\":\"Personne physique\"}],\"Producteur\":[{\"name\":\"APOTHELOZ, Marcel\",\"type\":\"Personne physique\"}],\"R\\\\u00e9alisateur\":[{\"name\":\"MATTEUZZI, Pierre\",\"type\":\"Personne physique\"}]},\"100082\":{\"vide\":[{\"name\":\"TSR\",\"type\":\"Organisation\"}],\"Monteur\":[{\"name\":\"DE BLONAY, Elena\",\"type\":\"Personne physique\"}],\"Producteur\":[{\"name\":\"SIMONI, Pierre\",\"type\":\"Personne physique\"}],\"R\\\\u00e9alisateur\":[{\"name\":\"BARBY, Louis\",\"type\":\"Personne physique\"}]},\"100083\":{\"Producteur\\\\/trice Radio\":[{\"role\":\"Collaborateur\\\\/trice RSR\",\"name\":\"Moss\\\\u00e9, Claude\",\"type\":\"Producteur\"}],\"R\\\\u00e9citant\\\\/e\":[{\"role\":\"collaborateur RSR\",\"name\":\"Moss\\\\u00e9, Claude\",\"type\":\"Participant\"}],\"R\\\\u00e9alisateur\\\\/trice Radio\":[{\"role\":\"collaboratrice RSR\",\"name\":\"Sullam, Dani\\\\u00e8le\",\"type\":\"Producteur\"}],\"Auteur du texte\":[{\"role\":\"collaborateur RSR\",\"name\":\"Moss\\\\u00e9, Claude\",\"type\":\"Auteur\"}],\"Programmateur\\\\/trice musical\\\\/e\":[{\"role\":\"collaboratrice RSR\",\"name\":\"Sullam, Dani\\\\u00e8le\",\"type\":\"Producteur\"}]},\"100084\":{\"vide\":[{\"name\":\"TSR\",\"type\":\"Organisation\"}],\"Producteur\":[{\"name\":\"VARNEL, Janry\",\"type\":\"Personne physique\"}],\"R\\\\u00e9alisateur\":[{\"name\":\"GROS, Philippe\",\"type\":\"Personne physique\"}]},\"100085\":{\"Auteur du texte\":[{\"name\":\"Marjorie, L\\\\u00e9on B.\",\"type\":\"Auteur\"}]},\"100086\":{\"Interview\\\\u00e9\\\\/e\":[{\"role\":\"journaliste sportif \\\\u00e0 la RSR, chanteur\",\"name\":\"Manzi, Emmanuel\",\"type\":\"Participant\"}],\"Producteur\\\\/trice Radio\":[{\"role\":\"Collaborateur\\\\/trice RSR\",\"name\":\"Jacot-Descombes, Christian\",\"type\":\"Producteur\"}],\"Intervieweur\\\\/euse\":[{\"role\":\"collaborateur RSR\",\"name\":\"Jacot-Descombes, Christian\",\"type\":\"Participant\"}]},\"100087\":{\"Interview\\\\u00e9\\\\/e\":[{\"role\":\"journalistes de presse\",\"name\":\"Voix diverses\",\"type\":\"Participant\"}],\"Intervieweur\\\\/euse\":[{\"role\":\"collaborateur RSR\",\"name\":\"Favre, Daniel\",\"type\":\"Participant\"}]},\"100088\":{\"Interview\\\\u00e9\\\\/e\":[{\"role\":\"membre du Fan\\'s Club de Georges Chelon\",\"name\":\"Inconnu\",\"type\":\"Participant\"}],\"Producteur\\\\/trice Radio\":[{\"role\":\"Collaborateur\\\\/trice RSR\",\"name\":\"Jacot-Descombes, Christian\",\"type\":\"Producteur\"}],\"Intervieweur\\\\/euse\":[{\"role\":\"collaborateur RSR\",\"name\":\"Cadert, Pierre-Philippe\",\"type\":\"Participant\"}]},\"100089\":{\"Producteur\\\\/trice Radio\":[{\"role\":\"Collaborateur\\\\/trice RSR\",\"name\":\"Simon, Jean-Charles\",\"type\":\"Producteur\"}],\"Commentateur\\\\/trice\":[{\"role\":\"collaboratrice RSR\",\"name\":\"Galland, Martine\",\"type\":\"Participant\"}]},\"100090\":{\"Auteur du texte\":[{\"name\":\"Marjorie, L\\\\u00e9on B.\",\"type\":\"Auteur\"}]},\"100091\":{\"Compositeur\":[{\"name\":\"Inconnu\",\"type\":\"Auteur\"}]},\"100092\":{\"Interview\\\\u00e9\\\\/e\":[{\"role\":\"auteur du spectacle \\\\\"L\\'Epop\\\\u00e9e de l\\'Europe\\\\\"\",\"name\":\"Pilet, Jacques\",\"type\":\"Participant\"}],\"Intervieweur\\\\/euse\":[{\"role\":\"correspondant RSR au Palais f\\\\u00e9d\\\\u00e9ral\",\"name\":\"Hertig, Alain\",\"type\":\"Participant\"},{\"role\":\"collaborateur RSR\",\"name\":\"Favre, Daniel\",\"type\":\"Participant\"}]},\"100093\":{\"Auteur du texte\":[{\"name\":\"Marjorie, L\\\\u00e9on B.\",\"type\":\"Auteur\"}]},\"100094\":{\"Interview\\\\u00e9\\\\/e\":[{\"role\":\"auteur-compositeur-interpr\\\\u00e8te\",\"name\":\"Devant\\\\u00e9ry, L\\\\u00e9o\",\"type\":\"Participant\"},{\"role\":\"com\\\\u00e9dien\",\"name\":\"Rich, Claude\",\"type\":\"Participant\"},{\"role\":\"\\\\u00e9crivain\",\"name\":\"Haldas, Georges\",\"type\":\"Participant\"},{\"role\":\"\\\\u00e9crivain\",\"name\":\"Ormesson, Jean d\\'\",\"type\":\"Participant\"},{\"role\":\"auteur-compositeur-interpr\\\\u00e8te\",\"name\":\"Genes, Henri\",\"type\":\"Participant\"}],\"Producteur\\\\/trice Radio\":[{\"role\":\"collaborateur\\\\/trice RSR\",\"name\":\"Arnaudon, Jean-Claude\",\"type\":\"Producteur\"}],\"Intervieweur\\\\/euse\":[{\"role\":\"collaboratrice RSR\",\"name\":\"Amar\\\\u00f9, Carmela\",\"type\":\"Participant\"}]},\"100095\":{\"Interview\\\\u00e9\\\\/e\":[{\"role\":\"\\\\u00e9migr\\\\u00e9e italienne en Suisse\",\"name\":\"Belotti, Carla\",\"type\":\"Participant\"}],\"Producteur\\\\/trice Radio\":[{\"role\":\"Collaborateur\\\\/trice RSR\",\"name\":\"Layaz, Alphonse\",\"type\":\"Producteur\"}],\"Intervieweur\\\\/euse\":[{\"role\":\"collaborateur RSR\",\"name\":\"Layaz, Alphonse\",\"type\":\"Participant\"}],\"R\\\\u00e9alisateur\\\\/trice Radio\":[{\"role\":\"collaboratrice RSR\",\"name\":\"J\\\\u00e9quier, B\\\\u00e9atrice\",\"type\":\"Producteur\"}]},\"100096\":{\"Auteur du texte\":[{\"name\":\"Marjorie, L\\\\u00e9on B.\",\"type\":\"Auteur\"}]},\"100097\":{\"Interview\\\\u00e9\\\\/e\":[{\"name\":\"Voix diverses\",\"type\":\"Participant\"}],\"Reporter\":[{\"role\":\"collaborateur RSR\",\"name\":\"Parel, Francis\",\"type\":\"Participant\"}]},\"100098\":{\"Auteur du texte\":[{\"name\":\"Marjorie, L\\\\u00e9on B.\",\"type\":\"Auteur\"}]},\"100099\":{\"Auteur du texte\":[{\"name\":\"Marjorie, L\\\\u00e9on B.\",\"type\":\"Auteur\"}]}},\"durationSec\":{\"100000\":null,\"100001\":1795.0,\"100002\":732.0,\"100003\":3120.0,\"100004\":1231.0,\"100005\":1920.0,\"100006\":null,\"100007\":3019.0,\"100008\":1562.0,\"100009\":8469.0,\"100010\":null,\"100011\":1875.0,\"100012\":1467.0,\"100013\":1320.0,\"100014\":3270.0,\"100015\":1234.0,\"100016\":5160.0,\"100017\":null,\"100018\":682.0,\"100019\":3465.0,\"100020\":null,\"100021\":854.0,\"100022\":3106.0,\"100023\":5516.0,\"100024\":null,\"100025\":633.0,\"100026\":2493.0,\"100027\":null,\"100028\":3105.0,\"100029\":2370.0,\"100030\":1799.0,\"100031\":1839.0,\"100032\":685.0,\"100033\":1689.0,\"100034\":1739.0,\"100035\":3141.0,\"100036\":5626.0,\"100037\":8427.0,\"100038\":null,\"100039\":665.0,\"100040\":63.0,\"100041\":null,\"100042\":3294.0,\"100043\":1148.0,\"100044\":3464.0,\"100045\":2891.0,\"100046\":3204.0,\"100047\":1871.0,\"100048\":1181.0,\"100049\":null,\"100050\":3383.0,\"100051\":1890.0,\"100052\":1625.0,\"100053\":4565.0,\"100054\":1065.0,\"100055\":4260.0,\"100056\":4251.0,\"100057\":1200.0,\"100058\":1676.0,\"100059\":null,\"100060\":765.0,\"100061\":1525.0,\"100062\":1779.0,\"100063\":967.0,\"100064\":3272.0,\"100065\":1687.0,\"100066\":868.0,\"100067\":943.0,\"100068\":2637.0,\"100069\":3435.0,\"100070\":null,\"100071\":1497.0,\"100072\":896.0,\"100073\":3566.0,\"100074\":null,\"100075\":3266.0,\"100076\":2705.0,\"100077\":5121.0,\"100078\":null,\"100079\":3459.0,\"100080\":2670.0,\"100081\":4708.0,\"100082\":3240.0,\"100083\":3420.0,\"100084\":2623.0,\"100085\":928.0,\"100086\":1336.0,\"100087\":188.0,\"100088\":720.0,\"100089\":3600.0,\"100090\":981.0,\"100091\":79.0,\"100092\":249.0,\"100093\":647.0,\"100094\":4664.0,\"100095\":2021.0,\"100096\":1042.0,\"100097\":2460.0,\"100098\":783.0,\"100099\":1056.0},\"excerpt\":{\"100000\":\"\",\"100001\":\"\",\"100002\":\"\",\"100003\":\"Jean-Michel Olivier est passionn\\\\u00e9 de piano et de football. Il parle aussi du Proche-Orient\",\"100004\":\"\",\"100005\":\"\",\"100006\":\"\",\"100007\":\"\",\"100008\":\"* Lieu ind\\\\u00e9termin\\\\u00e9 : 19910110, entretien avec Raymond Voyat, auteur suisse vivant au Japon.\",\"100009\":\"* Bellinzone : c\\\\u00e9r\\\\u00e9monie qui marque le d\\\\u00e9but des festivit\\\\u00e9s consacr\\\\u00e9es au 700eme anniversaire de la Conf\\\\u00e9d\\\\u00e9ration.\",\"100010\":\"\",\"100011\":\"T\\\\u00e9moignage d\\'une p\\\\u00e9dopsychiatre qui s\\'est rendue en Roumanie dans le cadre d\\'une mission de formation de personnel travaillant dans les orphelinats roumains. R\\\\u00e9actions d\\'un journaliste roumain \\\\u00e0 ce t\\\\u00e9moignage.\",\"100012\":\"\",\"100013\":\"2.17: Riyad Al Qaysi: l\\'\\\\u00e9tat d\\'esprit irakien, l\\'Irak est pr\\\\u00eat \\\\u00e0 engager un dialogue de paix, bonne volont\\\\u00e9 du c\\\\u00f4t\\\\u00e9 de l\\'Irak, si bonne volont\\\\u00e9 de l\\'autre c\\\\u00f4t\\\\u00e9, on arrivera \\\\u00e0 une solution pacifique, l\\'Am\\\\u00e9rique parle principalement de guerre, s\\'il en \\\\u00e9clate une c\\'est la d\\\\u00e9cision de Georges Bush, l\\'Irak est pour la paix, l\\'Irak compte sur l\\'appui des masses arabe et musulmane, ne pense pas que dans une n\\\\u00e9gotiation internationale, on peut parler de rencontre de la derni\\\\u00e8re chance et d\\'ultimatum. 8.10: Reportage de la manifestation devant l\\'H\\\\u00f4tel Intercontinental d\\'\\\\u00e9coliers pour la paix.10.28. Marcel Vodroz: Les probl\\\\u00e8mes de s\\\\u00e9curit\\\\u00e9, les probl\\\\u00e8mes pour la police genevoise cons\\\\u00e9cutif \\\\u00e0 l\\'affaire des fiches. 13.38: Lothar Ruel, ancien secr\\\\u00e9taire d\\'\\\\u00e9tat \\\\u00e0 la d\\\\u00e9fense en RFA de 1982 \\\\u00e0 1989, journaliste \\\\u00e0 \\\\\"Die Welt\\\\\".\",\"100014\":\"\",\"100015\":\"\",\"100016\":\"\",\"100017\":\"\",\"100018\":\"\",\"100019\":\"\",\"100020\":\"\",\"100021\":\"\",\"100022\":\"\",\"100023\":\"\",\"100024\":\"\",\"100025\":\"\",\"100026\":\"\",\"100027\":\"\",\"100028\":\"\",\"100029\":\"\",\"100030\":\"\",\"100031\":\"\",\"100032\":\"\",\"100033\":\"\",\"100034\":\"\",\"100035\":\"\",\"100036\":\"\",\"100037\":\"\",\"100038\":\"\",\"100039\":\"\",\"100040\":\"\",\"100041\":\"\",\"100042\":\"\",\"100043\":\"\",\"100044\":\"Jane Savigny \\\\u00e9voque sa vie et sa carri\\\\u00e8re tant \\\\u00e0 la radio qu\\'au th\\\\u00e9\\\\u00e2tre\",\"100045\":\"\",\"100046\":\"\",\"100047\":\"\",\"100048\":\"\",\"100049\":\"\",\"100050\":\"\",\"100051\":\"\",\"100052\":\"\",\"100053\":\"\",\"100054\":\"\",\"100055\":\"* Lausanne : 19900106, l\\'Orchestre de chambre de Lausanne sous la direction de SEMKOV Jerzy interpr\\\\u00e8te la \\\\\"Symphonie no 1, KV 16\\\\\", le \\\\\"Concerto pour violon n\\\\u00b0 3\\\\\" et la \\\\\"Symphonie no 41 \\\\\"Jupiter\\\\\" KV 551\\\\\" de MOZART Wolfgang Amadeus.\\\\n* Lausanne : 19900106, l\\'Orchestre de chambre de Lausanne sous la direction de SEMKOV Jerzy interpr\\\\u00e8te la \\\\\"Symphonie no 1, KV 16\\\\\", le \\\\\"Concerto pour violon n\\\\u00b0 3\\\\\" et la \\\\\"Symphonie no 41 \\\\\"Jupiter\\\\\" KV 551\\\\\" de MOZART Wolfgang Amadeus.\\\\n* Lausanne : 19900106, l\\'Orchestre de chambre de Lausanne sous la direction de SEMKOV Jerzy interpr\\\\u00e8te la \\\\\"Symphonie no 1, KV 16\\\\\", le \\\\\"Concerto pour violon n\\\\u00b0 3\\\\\" et la \\\\\"Symphonie no 41 \\\\\"Jupiter\\\\\" KV 551\\\\\" de MOZART Wolfgang Amadeus.\",\"100056\":\"\",\"100057\":\"La premi\\\\u00e8re arriv\\\\u00e9e en France de N. Mouskouri. L\\'importance de ses enfants, de sa famille. Son premier spectacle en Angleterre, au Royal Albert Hall.\",\"100058\":\"Les pensionnaires racontent leur premier jour en maison de retraite.\",\"100059\":\"\",\"100060\":\"\",\"100061\":\"* Plateau : 19910105, NICOD Jean-Fran\\\\u00e7ois re\\\\u00e7oit ses invit\\\\u00e9s amateurs de jeu de cartes pour une partie de jass.\",\"100062\":\"\",\"100063\":\"\",\"100064\":\"\",\"100065\":\"\",\"100066\":\"\",\"100067\":\"\",\"100068\":\"\",\"100069\":\"\",\"100070\":\"\",\"100071\":\"* Gen\\\\u00e8ve-ville : 19910104, rencontre avec de jeunes cadres bancaires ou traders, qualifi\\\\u00e9s de Yuppies par les sociologues am\\\\u00e9ricains, qui concentrent toute leur \\\\u00e9nergie dans leur carri\\\\u00e8re professionnelle au d\\\\u00e9triment de leur vie priv\\\\u00e9e.\",\"100072\":\"\",\"100073\":\"\",\"100074\":\"\",\"100075\":\"\",\"100076\":\"\",\"100077\":\"\",\"100078\":\"\",\"100079\":\"\",\"100080\":\"\",\"100081\":\"\",\"100082\":\"\",\"100083\":\"\",\"100084\":\"\",\"100085\":\"\",\"100086\":\"\",\"100087\":\"\",\"100088\":\"\",\"100089\":\"\",\"100090\":\"\",\"100091\":\"\",\"100092\":\"\",\"100093\":\"\",\"100094\":\"\",\"100095\":\"\",\"100096\":\"\",\"100097\":\"\",\"100098\":\"\",\"100099\":\"\"},\"genres\":{\"100000\":\"\",\"100001\":\"soci\\\\u00e9t\\\\u00e9, religion\",\"100002\":\"emissions, pour, enfants, et, adolescents\",\"100003\":\"interview\",\"100004\":\"interview\",\"100005\":\"interview\",\"100006\":\"\",\"100007\":\"\",\"100008\":\"\",\"100009\":\"culture, et, connaissance\",\"100010\":\"\",\"100011\":\"interview\",\"100012\":\"interview\",\"100013\":\"interview\",\"100014\":\"interview\",\"100015\":\"interview\",\"100016\":\"arts, et, m\\\\u00e9dias\",\"100017\":\"\",\"100018\":\"emissions, pour, enfants, et, adolescents\",\"100019\":\"\",\"100020\":\"\",\"100021\":\"interview\",\"100022\":\"interview\",\"100023\":\"interview, commentaire\",\"100024\":\"\",\"100025\":\"emissions, pour, enfants, et, adolescents\",\"100026\":\"r\\\\u00e9sultats, et, magazines, sportifs\",\"100027\":\"\",\"100028\":\"culture, et, connaissance\",\"100029\":\"r\\\\u00e9cit, interview\",\"100030\":\"interview\",\"100031\":\"interview\",\"100032\":\"interview\",\"100033\":\"interview\",\"100034\":\"interview\",\"100035\":\"interview\",\"100036\":\"interview\",\"100037\":\"interview\",\"100038\":\"\",\"100039\":\"emissions, pour, enfants, et, adolescents\",\"100040\":\"interview\",\"100041\":\"\",\"100042\":\"interview\",\"100043\":\"interview\",\"100044\":\"interview\",\"100045\":\"interview\",\"100046\":\"interview\",\"100047\":\"interview\",\"100048\":\"interview\",\"100049\":\"\",\"100050\":\"interview\",\"100051\":\"r\\\\u00e9sultats, et, magazines, sportifs\",\"100052\":\"pays, et, peuples\",\"100053\":\"d\\\\u00e9bats\",\"100054\":\"rencontres, entretiens, portraits\",\"100055\":\"concerts\",\"100056\":\"emissions, pour, enfants, et, adolescents\",\"100057\":\"interview\",\"100058\":\"interview\",\"100059\":\"\",\"100060\":\"\",\"100061\":\"jeux, concours\",\"100062\":\"r\\\\u00e9sultats, et, magazines, sportifs\",\"100063\":\"\",\"100064\":\"\",\"100065\":\"th\\\\u00e9\\\\u00e2tre\",\"100066\":\"interview\",\"100067\":\"interview\",\"100068\":\"\",\"100069\":\"r\\\\u00e9cit\",\"100070\":\"\",\"100071\":\"soci\\\\u00e9t\\\\u00e9, religion\",\"100072\":\"interview\",\"100073\":\"r\\\\u00e9cit\",\"100074\":\"\",\"100075\":\"\",\"100076\":\"\",\"100077\":\"th\\\\u00e9\\\\u00e2tre\",\"100078\":\"\",\"100079\":\"\",\"100080\":\"pays, et, peuples\",\"100081\":\"\",\"100082\":\"\",\"100083\":\"r\\\\u00e9cit\",\"100084\":\"\",\"100085\":\"th\\\\u00e9\\\\u00e2tre\",\"100086\":\"interview\",\"100087\":\"interview\",\"100088\":\"interview\",\"100089\":\"commentaire\",\"100090\":\"th\\\\u00e9\\\\u00e2tre\",\"100091\":\"\",\"100092\":\"interview\",\"100093\":\"th\\\\u00e9\\\\u00e2tre\",\"100094\":\"interview\",\"100095\":\"interview\",\"100096\":\"th\\\\u00e9\\\\u00e2tre\",\"100097\":\"interview\",\"100098\":\"th\\\\u00e9\\\\u00e2tre\",\"100099\":\"th\\\\u00e9\\\\u00e2tre\"},\"id\":{\"100000\":\"asset-216379\",\"100001\":\"asset-181205\",\"100002\":\"asset-226386\",\"100003\":\"sound-948183F6-ED7F-42E3-B51D-3925078DF9BF\",\"100004\":\"sound-757B02A9-E167-463C-9436-58253A1D89B8\",\"100005\":\"sound-9FFA18BE-06FF-48B5-AE26-D70AF3599B51\",\"100006\":\"asset-216442\",\"100007\":\"asset-181198\",\"100008\":\"asset-229513\",\"100009\":\"asset-244413\",\"100010\":\"asset-216535\",\"100011\":\"sound-19DD9F44-7E6B-4C8D-9D76-3A9E7AF4A73C\",\"100012\":\"sound-621682F4-8885-48D5-8D67-4AF108C34EBD\",\"100013\":\"sound-DAD0DC23-7775-47DC-AA3A-A075C63DC779\",\"100014\":\"sound-1FE58B4C-0F17-43FD-ABBB-6CBA525A19EC\",\"100015\":\"sound-894C8B75-6140-4E66-BE06-BD83F8CBAECA\",\"100016\":\"asset-184602\",\"100017\":\"asset-225119\",\"100018\":\"asset-226384\",\"100019\":\"asset-226555\",\"100020\":\"asset-216441\",\"100021\":\"sound-57528CAD-9C93-4767-9040-C1A132B7147B\",\"100022\":\"sound-053839AD-98C4-4C6B-918F-8E660D67D6C1\",\"100023\":\"sound-C5CC8E0E-D405-4577-8C16-40ED1C097985\",\"100024\":\"asset-225135\",\"100025\":\"asset-226383\",\"100026\":\"asset-228884\",\"100027\":\"asset-216439\",\"100028\":\"asset-181243\",\"100029\":\"sound-2906EB58-5036-4CE3-BF0C-D3410BDCC17E\",\"100030\":\"sound-69CDFD59-1C4A-4327-B3B7-AABA5CAC4748\",\"100031\":\"sound-4FDFACC2-9B29-463F-8F11-78B03AA9EF80\",\"100032\":\"sound-6DF72E14-3E1D-4F83-8E52-6942F4BC9CA8\",\"100033\":\"sound-42578016-3569-4EA0-85F2-90866B8ED53D\",\"100034\":\"sound-89F735E7-C38D-4D9D-A644-7A167251FD83\",\"100035\":\"sound-3B34186B-928F-4A3F-842A-DB4200D9AB24\",\"100036\":\"sound-54F218A7-5F96-4FC5-9174-E9E9296CD1AA\",\"100037\":\"sound-AF9769C1-4CFD-4CFF-9F84-DFA413146BB7\",\"100038\":\"asset-216438\",\"100039\":\"asset-226382\",\"100040\":\"sound-B1417466-5879-4E95-B40B-7F16055F8A6C\",\"100041\":\"asset-184158\",\"100042\":\"sound-0CE314C2-3FBD-442E-8DC6-B2FEE118E311\",\"100043\":\"sound-30417106-2213-4CEA-9A87-1C7F0D6910F5\",\"100044\":\"sound-7C23D872-59E2-44A4-B72C-75CCA4B9DE41\",\"100045\":\"sound-1E42D3D1-57D7-49E8-A2B0-C36E12DE3EF6\",\"100046\":\"sound-8DD77EC4-A4A3-4BEC-A647-BBE0CCC923B9\",\"100047\":\"sound-C4F66951-62AF-4C99-AE7B-D94C54389D8E\",\"100048\":\"sound-14006CDC-0520-454D-8FBD-95EE5207261B\",\"100049\":\"asset-216437\",\"100050\":\"sound-29CB920C-44B0-4749-AA82-7F30F14602B0\",\"100051\":\"asset-225223\",\"100052\":\"asset-88790\",\"100053\":\"asset-184077\",\"100054\":\"asset-89124\",\"100055\":\"asset-158339\",\"100056\":\"asset-184324\",\"100057\":\"sound-EDD36571-7D28-44E5-8463-C5AB09950F4C\",\"100058\":\"sound-8A367BBB-9E60-41BF-A023-A8D0AA264F9E\",\"100059\":\"asset-216436\",\"100060\":\"asset-184189\",\"100061\":\"asset-88915\",\"100062\":\"asset-228882\",\"100063\":\"asset-88853\",\"100064\":\"asset-184270\",\"100065\":\"sound-C1B596F0-FA28-41E3-ACE0-BA4ACD726674\",\"100066\":\"sound-4CA6BC9E-B28F-4B55-BBC7-55BAD9F867CB\",\"100067\":\"sound-BFC71B76-A8F3-449E-9C23-8AD14F1E6D54\",\"100068\":\"asset-184173\",\"100069\":\"sound-47B4BCF8-CA1E-4724-92A7-8DDFFE86C480\",\"100070\":\"asset-216435\",\"100071\":\"asset-227762\",\"100072\":\"sound-0565BFFE-61CE-4384-A639-3B8FB9C9ECE7\",\"100073\":\"sound-93D7603A-0832-4E1D-9031-E3FFC2DF6978\",\"100074\":\"asset-216434\",\"100075\":\"asset-181187\",\"100076\":\"asset-184172\",\"100077\":\"sound-9DC3B8F9-1ABD-473D-933F-A8928761FF13\",\"100078\":\"asset-216432\",\"100079\":\"asset-226537\",\"100080\":\"asset-89305\",\"100081\":\"asset-227846\",\"100082\":\"asset-88775\",\"100083\":\"sound-2DC9051B-616A-48DB-9992-2458EBE0F692\",\"100084\":\"asset-184170\",\"100085\":\"sound-FEAFAE2A-E80E-4A29-AC4D-47144C7FA6E0\",\"100086\":\"sound-16325768-65B4-4507-AD5E-478A231E8339\",\"100087\":\"sound-58548492-1A9A-4CE2-A138-30EEAF28D8BE\",\"100088\":\"sound-BB98D369-0055-4D48-9DDD-32C703AFD09B\",\"100089\":\"sound-E96C6CC6-9F27-4CFE-962E-304A7820FAD7\",\"100090\":\"sound-D1A9FA83-089A-4838-A6F7-499BF7BEDBF5\",\"100091\":\"sound-95D08FE9-ED17-4EBE-9E96-369C28563BC9\",\"100092\":\"sound-ECCC8DB6-0CC1-4702-85DD-3736C9281D4A\",\"100093\":\"sound-88FAFD58-6E82-46C1-AD20-A539C1B9F39E\",\"100094\":\"sound-CF968CC3-4C00-4C6E-BC55-57BD8C24196E\",\"100095\":\"sound-17B73033-C6AD-4A2F-9268-B1FEC80EEB7F\",\"100096\":\"sound-0B1D263C-278D-4E28-A9A7-086168CB0E29\",\"100097\":\"sound-661DEA44-8739-4D55-A299-042D1D46D194\",\"100098\":\"sound-3BFBF4C0-E5D4-4ABA-97B8-B2B797CE4E6B\",\"100099\":\"sound-D4781A56-D1DF-446B-9BF6-71556B1EA44C\"},\"imageURL\":{\"100000\":\"\",\"100001\":\"\",\"100002\":\"\",\"100003\":\"\",\"100004\":\"\",\"100005\":\"\",\"100006\":\"\",\"100007\":\"\",\"100008\":\"\",\"100009\":\"\",\"100010\":\"\",\"100011\":\"\",\"100012\":\"\",\"100013\":\"\",\"100014\":\"\",\"100015\":\"\",\"100016\":\"\",\"100017\":\"\",\"100018\":\"\",\"100019\":\"\",\"100020\":\"\",\"100021\":\"\",\"100022\":\"\",\"100023\":\"\",\"100024\":\"\",\"100025\":\"\",\"100026\":\"\",\"100027\":\"\",\"100028\":\"\",\"100029\":\"\",\"100030\":\"\",\"100031\":\"\",\"100032\":\"\",\"100033\":\"\",\"100034\":\"\",\"100035\":\"\",\"100036\":\"\",\"100037\":\"\",\"100038\":\"\",\"100039\":\"\",\"100040\":\"\",\"100041\":\"\",\"100042\":\"\",\"100043\":\"\",\"100044\":\"\",\"100045\":\"\",\"100046\":\"\",\"100047\":\"\",\"100048\":\"\",\"100049\":\"\",\"100050\":\"\",\"100051\":\"\",\"100052\":\"\",\"100053\":\"\",\"100054\":\"\",\"100055\":\"\",\"100056\":\"\",\"100057\":\"\",\"100058\":\"\",\"100059\":\"\",\"100060\":\"\",\"100061\":\"\",\"100062\":\"\",\"100063\":\"\",\"100064\":\"\",\"100065\":\"\",\"100066\":\"\",\"100067\":\"\",\"100068\":\"\",\"100069\":\"\",\"100070\":\"\",\"100071\":\"\",\"100072\":\"\",\"100073\":\"\",\"100074\":\"\",\"100075\":\"\",\"100076\":\"\",\"100077\":\"\",\"100078\":\"\",\"100079\":\"\",\"100080\":\"\",\"100081\":\"\",\"100082\":\"\",\"100083\":\"\",\"100084\":\"\",\"100085\":\"\",\"100086\":\"\",\"100087\":\"\",\"100088\":\"\",\"100089\":\"\",\"100090\":\"\",\"100091\":\"\",\"100092\":\"\",\"100093\":\"\",\"100094\":\"\",\"100095\":\"\",\"100096\":\"\",\"100097\":\"\",\"100098\":\"\",\"100099\":\"\"},\"isOnline\":{\"100000\":false,\"100001\":false,\"100002\":false,\"100003\":false,\"100004\":false,\"100005\":false,\"100006\":false,\"100007\":false,\"100008\":false,\"100009\":false,\"100010\":false,\"100011\":false,\"100012\":false,\"100013\":false,\"100014\":false,\"100015\":false,\"100016\":false,\"100017\":false,\"100018\":false,\"100019\":false,\"100020\":false,\"100021\":false,\"100022\":false,\"100023\":false,\"100024\":false,\"100025\":false,\"100026\":false,\"100027\":false,\"100028\":false,\"100029\":false,\"100030\":false,\"100031\":false,\"100032\":false,\"100033\":false,\"100034\":false,\"100035\":false,\"100036\":false,\"100037\":false,\"100038\":false,\"100039\":false,\"100040\":false,\"100041\":false,\"100042\":false,\"100043\":false,\"100044\":false,\"100045\":false,\"100046\":false,\"100047\":false,\"100048\":false,\"100049\":false,\"100050\":false,\"100051\":false,\"100052\":false,\"100053\":false,\"100054\":false,\"100055\":false,\"100056\":false,\"100057\":false,\"100058\":false,\"100059\":false,\"100060\":false,\"100061\":false,\"100062\":false,\"100063\":false,\"100064\":false,\"100065\":false,\"100066\":false,\"100067\":false,\"100068\":false,\"100069\":false,\"100070\":false,\"100071\":false,\"100072\":false,\"100073\":false,\"100074\":false,\"100075\":false,\"100076\":false,\"100077\":false,\"100078\":false,\"100079\":false,\"100080\":false,\"100081\":false,\"100082\":false,\"100083\":false,\"100084\":false,\"100085\":false,\"100086\":false,\"100087\":false,\"100088\":false,\"100089\":false,\"100090\":false,\"100091\":false,\"100092\":false,\"100093\":false,\"100094\":false,\"100095\":false,\"100096\":false,\"100097\":false,\"100098\":false,\"100099\":false},\"mediaType\":{\"100000\":\"video\",\"100001\":\"video\",\"100002\":\"video\",\"100003\":\"audio\",\"100004\":\"audio\",\"100005\":\"audio\",\"100006\":\"video\",\"100007\":\"video\",\"100008\":\"video\",\"100009\":\"video\",\"100010\":\"video\",\"100011\":\"audio\",\"100012\":\"audio\",\"100013\":\"audio\",\"100014\":\"audio\",\"100015\":\"audio\",\"100016\":\"video\",\"100017\":\"video\",\"100018\":\"video\",\"100019\":\"video\",\"100020\":\"video\",\"100021\":\"audio\",\"100022\":\"audio\",\"100023\":\"audio\",\"100024\":\"video\",\"100025\":\"video\",\"100026\":\"video\",\"100027\":\"video\",\"100028\":\"video\",\"100029\":\"audio\",\"100030\":\"audio\",\"100031\":\"audio\",\"100032\":\"audio\",\"100033\":\"audio\",\"100034\":\"audio\",\"100035\":\"audio\",\"100036\":\"audio\",\"100037\":\"audio\",\"100038\":\"video\",\"100039\":\"video\",\"100040\":\"audio\",\"100041\":\"video\",\"100042\":\"audio\",\"100043\":\"audio\",\"100044\":\"audio\",\"100045\":\"audio\",\"100046\":\"audio\",\"100047\":\"audio\",\"100048\":\"audio\",\"100049\":\"video\",\"100050\":\"audio\",\"100051\":\"video\",\"100052\":\"video\",\"100053\":\"video\",\"100054\":\"video\",\"100055\":\"video\",\"100056\":\"video\",\"100057\":\"audio\",\"100058\":\"audio\",\"100059\":\"video\",\"100060\":\"video\",\"100061\":\"video\",\"100062\":\"video\",\"100063\":\"video\",\"100064\":\"video\",\"100065\":\"audio\",\"100066\":\"audio\",\"100067\":\"audio\",\"100068\":\"video\",\"100069\":\"audio\",\"100070\":\"video\",\"100071\":\"video\",\"100072\":\"audio\",\"100073\":\"audio\",\"100074\":\"video\",\"100075\":\"video\",\"100076\":\"video\",\"100077\":\"audio\",\"100078\":\"video\",\"100079\":\"video\",\"100080\":\"video\",\"100081\":\"video\",\"100082\":\"video\",\"100083\":\"audio\",\"100084\":\"video\",\"100085\":\"audio\",\"100086\":\"audio\",\"100087\":\"audio\",\"100088\":\"audio\",\"100089\":\"audio\",\"100090\":\"audio\",\"100091\":\"audio\",\"100092\":\"audio\",\"100093\":\"audio\",\"100094\":\"audio\",\"100095\":\"audio\",\"100096\":\"audio\",\"100097\":\"audio\",\"100098\":\"audio\",\"100099\":\"audio\"},\"mediaURL\":{\"100000\":\"\",\"100001\":\"\",\"100002\":\"\",\"100003\":\"\",\"100004\":\"\",\"100005\":\"\",\"100006\":\"\",\"100007\":\"\",\"100008\":\"\",\"100009\":\"\",\"100010\":\"\",\"100011\":\"\",\"100012\":\"\",\"100013\":\"\",\"100014\":\"\",\"100015\":\"\",\"100016\":\"\",\"100017\":\"\",\"100018\":\"\",\"100019\":\"\",\"100020\":\"\",\"100021\":\"\",\"100022\":\"\",\"100023\":\"\",\"100024\":\"\",\"100025\":\"\",\"100026\":\"\",\"100027\":\"\",\"100028\":\"\",\"100029\":\"\",\"100030\":\"\",\"100031\":\"\",\"100032\":\"\",\"100033\":\"\",\"100034\":\"\",\"100035\":\"\",\"100036\":\"\",\"100037\":\"\",\"100038\":\"\",\"100039\":\"\",\"100040\":\"\",\"100041\":\"\",\"100042\":\"\",\"100043\":\"\",\"100044\":\"\",\"100045\":\"\",\"100046\":\"\",\"100047\":\"\",\"100048\":\"\",\"100049\":\"\",\"100050\":\"\",\"100051\":\"\",\"100052\":\"\",\"100053\":\"\",\"100054\":\"\",\"100055\":\"\",\"100056\":\"\",\"100057\":\"\",\"100058\":\"\",\"100059\":\"\",\"100060\":\"\",\"100061\":\"\",\"100062\":\"\",\"100063\":\"\",\"100064\":\"\",\"100065\":\"\",\"100066\":\"\",\"100067\":\"\",\"100068\":\"\",\"100069\":\"\",\"100070\":\"\",\"100071\":\"\",\"100072\":\"\",\"100073\":\"\",\"100074\":\"\",\"100075\":\"\",\"100076\":\"\",\"100077\":\"\",\"100078\":\"\",\"100079\":\"\",\"100080\":\"\",\"100081\":\"\",\"100082\":\"\",\"100083\":\"\",\"100084\":\"\",\"100085\":\"\",\"100086\":\"\",\"100087\":\"\",\"100088\":\"\",\"100089\":\"\",\"100090\":\"\",\"100091\":\"\",\"100092\":\"\",\"100093\":\"\",\"100094\":\"\",\"100095\":\"\",\"100096\":\"\",\"100097\":\"\",\"100098\":\"\",\"100099\":\"\"},\"program\":{\"100000\":\"Journal romand\",\"100001\":\"Tell quel\",\"100002\":\"Babibouchettes\",\"100003\":\"Petit d\\\\u00e9jeuner\",\"100004\":\"Baraka\",\"100005\":\"Dossier : cin\\\\u00e9ma et communication\",\"100006\":\"T\\\\u00e9l\\\\u00e9 journal\",\"100007\":\"Temps pr\\\\u00e9sent\",\"100008\":\"H\\\\u00f4tel\",\"100009\":\"F\\\\u00eates\",\"100010\":\"Journal romand\",\"100011\":\"Dossier : sciences humaines\",\"100012\":\"Baraka\",\"100013\":\"Journal du matin\",\"100014\":\"Petit d\\\\u00e9jeuner\",\"100015\":\"Zigzag\",\"100016\":\"Sp\\\\u00e9cial cin\\\\u00e9ma\",\"100017\":\"Journal romand\",\"100018\":\"Babibouchettes\",\"100019\":\"M\\\\u00e9moires d\\'un objectif\",\"100020\":\"T\\\\u00e9l\\\\u00e9 journal\",\"100021\":\"Baraka\",\"100022\":\"Petit d\\\\u00e9jeuner\",\"100023\":\"Portrait de l\\'ann\\\\u00e9e\",\"100024\":\"Journal romand\",\"100025\":\"Babibouchettes\",\"100026\":\"Fans de sports (1989-1994)\",\"100027\":\"T\\\\u00e9l\\\\u00e9 journal\",\"100028\":\"Viva\",\"100029\":\"Dossier : arts visuels\",\"100030\":\"Espace 2 questionne\",\"100031\":\"Espace 2 questionne\",\"100032\":\"Baraka\",\"100033\":\"Espace 2 questionne\",\"100034\":\"Espace 2 questionne\",\"100035\":\"Petit d\\\\u00e9jeuner\",\"100036\":\"Silhouette\",\"100037\":\"Plein feu\",\"100038\":\"T\\\\u00e9l\\\\u00e9 journal\",\"100039\":\"Babibouchettes\",\"100040\":\"Baraka\",\"100041\":\"Journal romand\",\"100042\":\"Du c\\\\u00f4t\\\\u00e9 de la vie\",\"100043\":\"Baraka\",\"100044\":\"Musique passion\",\"100045\":\"Eternel pr\\\\u00e9sent\",\"100046\":\"Du c\\\\u00f4t\\\\u00e9 de la vie\",\"100047\":\"Du c\\\\u00f4t\\\\u00e9 de la vie\",\"100048\":\"Tribune de Premi\\\\u00e8re\",\"100049\":\"T\\\\u00e9l\\\\u00e9 journal\",\"100050\":\"Du c\\\\u00f4t\\\\u00e9 de la vie\",\"100051\":\"Fans de sports (1989-1994)\",\"100052\":\"Avis aux amateurs\",\"100053\":\"Table ouverte\",\"100054\":\"Racines\",\"100055\":\"Concerts O.C.L.\",\"100056\":\"Planquez les nounours\",\"100057\":\"Il \\\\u00e9tait une premi\\\\u00e8re fois\",\"100058\":\"Il \\\\u00e9tait une premi\\\\u00e8re fois\",\"100059\":\"T\\\\u00e9l\\\\u00e9 journal\",\"100060\":\"Videokid\",\"100061\":\"5 de Der !\",\"100062\":\"Fans de sports (1989-1994)\",\"100063\":\"Ballade\",\"100064\":\"Kangouroule\",\"100065\":\"\",\"100066\":\"Baraka\",\"100067\":\"Baraka\",\"100068\":\"Jeunesse\",\"100069\":\"F\\\\u00eate au palais\",\"100070\":\"T\\\\u00e9l\\\\u00e9 journal\",\"100071\":\"Tell quel\",\"100072\":\"Baraka\",\"100073\":\"F\\\\u00eate au palais\",\"100074\":\"T\\\\u00e9l\\\\u00e9 journal\",\"100075\":\"Temps pr\\\\u00e9sent\",\"100076\":\"Jeunesse\",\"100077\":\"Espaces imaginaires\",\"100078\":\"T\\\\u00e9l\\\\u00e9 journal\",\"100079\":\"M\\\\u00e9moires d\\'un objectif\",\"100080\":\"Svizra Rumantscha\",\"100081\":\"Vari\\\\u00e9t\\\\u00e9s\",\"100082\":\"Ballade\",\"100083\":\"F\\\\u00eate au palais\",\"100084\":\"Jeunesse\",\"100085\":\"\",\"100086\":\"Baraka\",\"100087\":\"\",\"100088\":\"Baraka\",\"100089\":\"Brunch\",\"100090\":\"\",\"100091\":\"\",\"100092\":\"\",\"100093\":\"\",\"100094\":\"Vie en rose\",\"100095\":\"Silhouette\",\"100096\":\"\",\"100097\":\"Sport Premi\\\\u00e8re\",\"100098\":\"\",\"100099\":\"\"},\"publicationChannelNames\":{\"100000\":[\"TSR\"],\"100001\":[\"TSR\"],\"100002\":[\"TSR\"],\"100003\":[\"La Premi\\\\u00e8re\"],\"100004\":[\"La Premi\\\\u00e8re\"],\"100005\":[\"Espace 2\"],\"100006\":[\"TSR\"],\"100007\":[\"TSR\"],\"100008\":[\"TSR\"],\"100009\":[\"TSR\"],\"100010\":[\"TSR\"],\"100011\":[\"Espace 2\"],\"100012\":[\"La Premi\\\\u00e8re\"],\"100013\":[\"La Premi\\\\u00e8re\"],\"100014\":[\"La Premi\\\\u00e8re\"],\"100015\":[\"La Premi\\\\u00e8re\"],\"100016\":[\"TSR\"],\"100017\":[\"TSR\"],\"100018\":[\"TSR\"],\"100019\":[\"TSR\"],\"100020\":[\"TSR\"],\"100021\":[\"La Premi\\\\u00e8re\"],\"100022\":[\"La Premi\\\\u00e8re\"],\"100023\":[\"Espace 2\"],\"100024\":[\"TSR\"],\"100025\":[\"TSR\"],\"100026\":[\"TSR\"],\"100027\":[\"TSR\"],\"100028\":[\"TSR\"],\"100029\":[\"Espace 2\"],\"100030\":[\"Espace 2\"],\"100031\":[\"Espace 2\"],\"100032\":[\"La Premi\\\\u00e8re\"],\"100033\":[\"Espace 2\"],\"100034\":[\"Espace 2\"],\"100035\":[\"La Premi\\\\u00e8re\"],\"100036\":[\"Espace 2\"],\"100037\":[\"Espace 2\"],\"100038\":[\"TSR\"],\"100039\":[\"TSR\"],\"100040\":[\"La Premi\\\\u00e8re\"],\"100041\":[\"TSR\"],\"100042\":[\"La Premi\\\\u00e8re\"],\"100043\":[\"La Premi\\\\u00e8re\"],\"100044\":[\"Espace 2\"],\"100045\":[\"Espace 2\"],\"100046\":[\"La Premi\\\\u00e8re\"],\"100047\":[\"La Premi\\\\u00e8re\"],\"100048\":[\"La Premi\\\\u00e8re\"],\"100049\":[\"TSR\"],\"100050\":[\"La Premi\\\\u00e8re\"],\"100051\":[\"TSR\"],\"100052\":[\"TSR\"],\"100053\":[\"TSR\"],\"100054\":[\"TSR\"],\"100055\":[\"TSR\"],\"100056\":[\"TSR\"],\"100057\":[\"La Premi\\\\u00e8re\"],\"100058\":[\"La Premi\\\\u00e8re\"],\"100059\":[\"TSR\"],\"100060\":[\"TSR\"],\"100061\":[\"TSR\"],\"100062\":[\"TSR\"],\"100063\":[\"TSR\"],\"100064\":[\"TSR\"],\"100065\":[\"La Premi\\\\u00e8re\"],\"100066\":[\"La Premi\\\\u00e8re\"],\"100067\":[\"La Premi\\\\u00e8re\"],\"100068\":[\"TSR\"],\"100069\":[\"La Premi\\\\u00e8re\"],\"100070\":[\"TSR\"],\"100071\":[\"TSR\"],\"100072\":[\"La Premi\\\\u00e8re\"],\"100073\":[\"La Premi\\\\u00e8re\"],\"100074\":[\"TSR\"],\"100075\":[\"TSR\"],\"100076\":[\"TSR\"],\"100077\":[\"Espace 2\"],\"100078\":[\"TSR\"],\"100079\":[\"TSR\"],\"100080\":[\"TSR\"],\"100081\":[\"TSR\"],\"100082\":[\"TSR\"],\"100083\":[\"La Premi\\\\u00e8re\"],\"100084\":[\"TSR\"],\"100085\":\"\",\"100086\":[\"La Premi\\\\u00e8re\"],\"100087\":[\"La Premi\\\\u00e8re\"],\"100088\":[\"La Premi\\\\u00e8re\"],\"100089\":[\"La Premi\\\\u00e8re\"],\"100090\":\"\",\"100091\":\"\",\"100092\":[\"La Premi\\\\u00e8re\"],\"100093\":\"\",\"100094\":[\"La Premi\\\\u00e8re\"],\"100095\":[\"Espace 2\"],\"100096\":\"\",\"100097\":[\"La Premi\\\\u00e8re\"],\"100098\":\"\",\"100099\":\"\"},\"publicationDate\":{\"100000\":663552000000,\"100001\":663552000000,\"100002\":663552000000,\"100003\":663465600000,\"100004\":663465600000,\"100005\":663465600000,\"100006\":663465600000,\"100007\":663465600000,\"100008\":663465600000,\"100009\":663465600000,\"100010\":663465600000,\"100011\":663379200000,\"100012\":663379200000,\"100013\":663379200000,\"100014\":663379200000,\"100015\":663379200000,\"100016\":663379200000,\"100017\":663379200000,\"100018\":663379200000,\"100019\":663379200000,\"100020\":663379200000,\"100021\":663292800000,\"100022\":663292800000,\"100023\":663292800000,\"100024\":663292800000,\"100025\":663292800000,\"100026\":663292800000,\"100027\":663292800000,\"100028\":663292800000,\"100029\":663206400000,\"100030\":663206400000,\"100031\":663206400000,\"100032\":663206400000,\"100033\":663206400000,\"100034\":663206400000,\"100035\":663206400000,\"100036\":663206400000,\"100037\":663206400000,\"100038\":663206400000,\"100039\":663206400000,\"100040\":663206400000,\"100041\":663206400000,\"100042\":663120000000,\"100043\":663120000000,\"100044\":663120000000,\"100045\":663120000000,\"100046\":663120000000,\"100047\":663120000000,\"100048\":663120000000,\"100049\":663120000000,\"100050\":663120000000,\"100051\":663120000000,\"100052\":663120000000,\"100053\":663120000000,\"100054\":663120000000,\"100055\":663120000000,\"100056\":663120000000,\"100057\":663033600000,\"100058\":663033600000,\"100059\":663033600000,\"100060\":663033600000,\"100061\":663033600000,\"100062\":663033600000,\"100063\":663033600000,\"100064\":663033600000,\"100065\":662947200000,\"100066\":662947200000,\"100067\":662947200000,\"100068\":662947200000,\"100069\":662947200000,\"100070\":662947200000,\"100071\":662947200000,\"100072\":662860800000,\"100073\":662860800000,\"100074\":662860800000,\"100075\":662860800000,\"100076\":662860800000,\"100077\":662774400000,\"100078\":662774400000,\"100079\":662774400000,\"100080\":662774400000,\"100081\":662774400000,\"100082\":662774400000,\"100083\":662774400000,\"100084\":662774400000,\"100085\":662688000000,\"100086\":662688000000,\"100087\":662688000000,\"100088\":662688000000,\"100089\":662688000000,\"100090\":662688000000,\"100091\":662688000000,\"100092\":662688000000,\"100093\":662688000000,\"100094\":662688000000,\"100095\":662688000000,\"100096\":662688000000,\"100097\":null,\"100098\":662688000000,\"100099\":662688000000},\"source\":{\"100000\":\"gico\",\"100001\":\"gico\",\"100002\":\"gico\",\"100003\":\"siranau\",\"100004\":\"siranau\",\"100005\":\"siranau\",\"100006\":\"gico\",\"100007\":\"gico\",\"100008\":\"gico\",\"100009\":\"gico\",\"100010\":\"gico\",\"100011\":\"siranau\",\"100012\":\"siranau\",\"100013\":\"siranau\",\"100014\":\"siranau\",\"100015\":\"siranau\",\"100016\":\"gico\",\"100017\":\"gico\",\"100018\":\"gico\",\"100019\":\"gico\",\"100020\":\"gico\",\"100021\":\"siranau\",\"100022\":\"siranau\",\"100023\":\"siranau\",\"100024\":\"gico\",\"100025\":\"gico\",\"100026\":\"gico\",\"100027\":\"gico\",\"100028\":\"gico\",\"100029\":\"siranau\",\"100030\":\"siranau\",\"100031\":\"siranau\",\"100032\":\"siranau\",\"100033\":\"siranau\",\"100034\":\"siranau\",\"100035\":\"siranau\",\"100036\":\"siranau\",\"100037\":\"siranau\",\"100038\":\"gico\",\"100039\":\"gico\",\"100040\":\"siranau\",\"100041\":\"gico\",\"100042\":\"siranau\",\"100043\":\"siranau\",\"100044\":\"siranau\",\"100045\":\"siranau\",\"100046\":\"siranau\",\"100047\":\"siranau\",\"100048\":\"siranau\",\"100049\":\"gico\",\"100050\":\"siranau\",\"100051\":\"gico\",\"100052\":\"gico\",\"100053\":\"gico\",\"100054\":\"gico\",\"100055\":\"gico\",\"100056\":\"gico\",\"100057\":\"siranau\",\"100058\":\"siranau\",\"100059\":\"gico\",\"100060\":\"gico\",\"100061\":\"gico\",\"100062\":\"gico\",\"100063\":\"gico\",\"100064\":\"gico\",\"100065\":\"siranau\",\"100066\":\"siranau\",\"100067\":\"siranau\",\"100068\":\"gico\",\"100069\":\"siranau\",\"100070\":\"gico\",\"100071\":\"gico\",\"100072\":\"siranau\",\"100073\":\"siranau\",\"100074\":\"gico\",\"100075\":\"gico\",\"100076\":\"gico\",\"100077\":\"siranau\",\"100078\":\"gico\",\"100079\":\"gico\",\"100080\":\"gico\",\"100081\":\"gico\",\"100082\":\"gico\",\"100083\":\"siranau\",\"100084\":\"gico\",\"100085\":\"siranau\",\"100086\":\"siranau\",\"100087\":\"siranau\",\"100088\":\"siranau\",\"100089\":\"siranau\",\"100090\":\"siranau\",\"100091\":\"siranau\",\"100092\":\"siranau\",\"100093\":\"siranau\",\"100094\":\"siranau\",\"100095\":\"siranau\",\"100096\":\"siranau\",\"100097\":\"siranau\",\"100098\":\"siranau\",\"100099\":\"siranau\"},\"thematicCorporations\":{\"100000\":\"\",\"100001\":\"\",\"100002\":\"\",\"100003\":\"\",\"100004\":\"\",\"100005\":\"\",\"100006\":\"\",\"100007\":\"\",\"100008\":\"\",\"100009\":\"\",\"100010\":\"\",\"100011\":\"\",\"100012\":\"\",\"100013\":\"\",\"100014\":\"\",\"100015\":\"\",\"100016\":\"\",\"100017\":\"\",\"100018\":\"\",\"100019\":\"\",\"100020\":\"\",\"100021\":\"\",\"100022\":\"\",\"100023\":\"\",\"100024\":\"\",\"100025\":\"\",\"100026\":\"\",\"100027\":\"\",\"100028\":\"\",\"100029\":\"\",\"100030\":\"\",\"100031\":\"\",\"100032\":\"\",\"100033\":\"\",\"100034\":\"\",\"100035\":\"\",\"100036\":\"\",\"100037\":\"\",\"100038\":\"\",\"100039\":\"\",\"100040\":\"\",\"100041\":\"\",\"100042\":\"\",\"100043\":\"\",\"100044\":\"\",\"100045\":\"\",\"100046\":\"\",\"100047\":\"\",\"100048\":\"\",\"100049\":\"\",\"100050\":\"\",\"100051\":\"\",\"100052\":\"\",\"100053\":\"\",\"100054\":\"\",\"100055\":\"orchestre, de, chambre, de, lausanne\",\"100056\":\"\",\"100057\":\"\",\"100058\":\"\",\"100059\":\"\",\"100060\":\"\",\"100061\":\"\",\"100062\":\"\",\"100063\":\"\",\"100064\":\"\",\"100065\":\"\",\"100066\":\"\",\"100067\":\"\",\"100068\":\"\",\"100069\":\"\",\"100070\":\"\",\"100071\":\"\",\"100072\":\"\",\"100073\":\"\",\"100074\":\"\",\"100075\":\"\",\"100076\":\"\",\"100077\":\"\",\"100078\":\"\",\"100079\":\"\",\"100080\":\"\",\"100081\":\"\",\"100082\":\"\",\"100083\":\"\",\"100084\":\"\",\"100085\":\"\",\"100086\":\"\",\"100087\":\"\",\"100088\":\"\",\"100089\":\"\",\"100090\":\"\",\"100091\":\"\",\"100092\":\"\",\"100093\":\"\",\"100094\":\"\",\"100095\":\"\",\"100096\":\"\",\"100097\":\"\",\"100098\":\"\",\"100099\":\"\"},\"thematicGeographicals\":{\"100000\":\"\",\"100001\":\"\",\"100002\":\"\",\"100003\":\"\",\"100004\":\"\",\"100005\":\"\",\"100006\":\"\",\"100007\":\"geneve, ardon, genthod, fully, avusy, suisse, conthey, evolene, saxon, valais\",\"100008\":\"lieu, ind\\\\u00e9termin\\\\u00e9\",\"100009\":\"bellinzone\",\"100010\":\"\",\"100011\":\"roumanie\",\"100012\":\"\",\"100013\":\"irak, etats-unis\",\"100014\":\"\",\"100015\":\"\",\"100016\":\"\",\"100017\":\"\",\"100018\":\"\",\"100019\":\"appenzell rhodes-ext\\\\u00e9rieures, inde\",\"100020\":\"\",\"100021\":\"\",\"100022\":\"france\",\"100023\":\"\",\"100024\":\"\",\"100025\":\"\",\"100026\":\"\",\"100027\":\"\",\"100028\":\"paris, france\",\"100029\":\"berne (ville), france\",\"100030\":\"roumanie\",\"100031\":\"roumanie\",\"100032\":\"\",\"100033\":\"roumanie\",\"100034\":\"roumanie\",\"100035\":\"suisse, neuch\\\\u00e2tel (canton), ha\\\\u00efti\",\"100036\":\"\",\"100037\":\"tch\\\\u00e9coslovaquie\",\"100038\":\"\",\"100039\":\"\",\"100040\":\"\",\"100041\":\"\",\"100042\":\"\",\"100043\":\"\",\"100044\":\"suisse, romande\",\"100045\":\"\",\"100046\":\"\",\"100047\":\"\",\"100048\":\"suisse\",\"100049\":\"\",\"100050\":\"\",\"100051\":\"\",\"100052\":\"\",\"100053\":\"\",\"100054\":\"bellinzone\",\"100055\":\"lausanne\",\"100056\":\"\",\"100057\":\"\",\"100058\":\"\",\"100059\":\"\",\"100060\":\"\",\"100061\":\"plateau\",\"100062\":\"\",\"100063\":\"\",\"100064\":\"\",\"100065\":\"\",\"100066\":\"\",\"100067\":\"\",\"100068\":\"\",\"100069\":\"mexique\",\"100070\":\"\",\"100071\":\"geneve-ville\",\"100072\":\"\",\"100073\":\"argentine\",\"100074\":\"\",\"100075\":\"australie\",\"100076\":\"\",\"100077\":\"\",\"100078\":\"\",\"100079\":\"\",\"100080\":\"\",\"100081\":\"\",\"100082\":\"fribourg, domdidier, suisse\",\"100083\":\"londres\",\"100084\":\"\",\"100085\":\"\",\"100086\":\"\",\"100087\":\"suisse\",\"100088\":\"\",\"100089\":\"\",\"100090\":\"\",\"100091\":\"corbi\\\\u00e8res\",\"100092\":\"suisse, europe, sils\",\"100093\":\"\",\"100094\":\"france, suisse romande\",\"100095\":\"suisse, italie\",\"100096\":\"\",\"100097\":\"antarctique\",\"100098\":\"\",\"100099\":\"\"},\"thematicPersons\":{\"100000\":\"\",\"100001\":\"jaggi, yvette\",\"100002\":\"\",\"100003\":\"olivier, jean-michel\",\"100004\":\"lazure, gabrielle\",\"100005\":\"stillman, whit, ouedraogo, idrissa, boughedir, ferid\",\"100006\":\"\",\"100007\":\"\",\"100008\":\"dewarrat, marie-claire\",\"100009\":\"\",\"100010\":\"\",\"100011\":\"\",\"100012\":\"lemarque, francis, ricet-barrier\",\"100013\":\"\",\"100014\":\"pancrazi, jean-no\\\\u00ebl\",\"100015\":\"bovard, jean-fran\\\\u00e7ois\",\"100016\":\"amiguet, jean-francois, buache, freddy, koerfer, thomas, soutter, michel, vouillamoz, raymond, dindo, richard, schmid, daniel\",\"100017\":\"\",\"100018\":\"\",\"100019\":\"\",\"100020\":\"\",\"100021\":\"legrand, michel\",\"100022\":\"didier, romain\",\"100023\":\"\",\"100024\":\"\",\"100025\":\"\",\"100026\":\"\",\"100027\":\"\",\"100028\":\"dona, alice\",\"100029\":\"matisse, henri\",\"100030\":\"\",\"100031\":\"\",\"100032\":\"piano seven, lindemann, fran\\\\u00e7ois\",\"100033\":\"\",\"100034\":\"\",\"100035\":\"hainard, jacques, la premi\\\\u00e8re, rsr, nova helvetia\",\"100036\":\"\",\"100037\":\"martinu, bohuslav\",\"100038\":\"\",\"100039\":\"\",\"100040\":\"lindemann, fran\\\\u00e7ois, piano seven\",\"100041\":\"\",\"100042\":\"\",\"100043\":\"crawford, randy\",\"100044\":\"rsr, savigny, jane\",\"100045\":\"karen, mich\\\\u00e8le\",\"100046\":\"\",\"100047\":\"chavanne, andr\\\\u00e9, amrouche, jean, weiss, louise\",\"100048\":\"solari, marco\",\"100049\":\"\",\"100050\":\"\",\"100051\":\"\",\"100052\":\"\",\"100053\":\"babel, henry, longchamp, albert, sevan\",\"100054\":\"botta, mario\",\"100055\":\"\",\"100056\":\"\",\"100057\":\"mouskouri, nana\",\"100058\":\"\",\"100059\":\"\",\"100060\":\"\",\"100061\":\"\",\"100062\":\"\",\"100063\":\"\",\"100064\":\"\",\"100065\":\"\",\"100066\":\"legrand, michel\",\"100067\":\"miserez, pierre\",\"100068\":\"\",\"100069\":\"maximilien\",\"100070\":\"\",\"100071\":\"\",\"100072\":\"trenet, charles\",\"100073\":\"\",\"100074\":\"\",\"100075\":\"\",\"100076\":\"\",\"100077\":\"\",\"100078\":\"\",\"100079\":\"\",\"100080\":\"\",\"100081\":\"\",\"100082\":\"volery, francis\",\"100083\":\"beatles\",\"100084\":\"\",\"100085\":\"\",\"100086\":\"manzi, emmanuel\",\"100087\":\"pilet, jacques\",\"100088\":\"chelon, georges\",\"100089\":\"\",\"100090\":\"\",\"100091\":\"\",\"100092\":\"pilet, jacques\",\"100093\":\"\",\"100094\":\"genes, henri, chabrol, jean-pierre, devant\\\\u00e9ry, l\\\\u00e9o, ormesson, jean d\\', rich, claude, haldas, georges\",\"100095\":\"belotti, carla\",\"100096\":\"\",\"100097\":\"\",\"100098\":\"\",\"100099\":\"\"},\"thematicThemes\":{\"100000\":\"\",\"100001\":\"\",\"100002\":\"\",\"100003\":\"\\\\u00e9crivain\",\"100004\":\"chanteur\",\"100005\":\"cin\\\\u00e9ma, film (oeuvre)\",\"100006\":\"\",\"100007\":\"logement, salaire, culture mara\\\\u00eech\\\\u00e8re, l\\\\u00e9gume, travailleur \\\\u00e9tranger, condition de travail\",\"100008\":\"\",\"100009\":\"c\\\\u00e9r\\\\u00e9monie, publique\",\"100010\":\"\",\"100011\":\"\\\\u00e9tablissement m\\\\u00e9dico-social, protection de l\\'enfance, orphelin, enfant (\\\\u00e2ge)\",\"100012\":\"chanteur, musicien\",\"100013\":\"conflit arm\\\\u00e9, r\\\\u00e9union internationale\",\"100014\":\"sida, journaliste\",\"100015\":\"musicien\",\"100016\":\"\",\"100017\":\"\",\"100018\":\"\",\"100019\":\"musique, art et tradition populaires, carnaval\",\"100020\":\"\",\"100021\":\"musicien, chanteur\",\"100022\":\"chanteur, chanson d\\'auteur, chanson fran\\\\u00e7aise\",\"100023\":\"\",\"100024\":\"\",\"100025\":\"\",\"100026\":\"\",\"100027\":\"\",\"100028\":\"grimage, artiste de rue, enseignement de la musique, m\\\\u00e9tro, transport public urbain, chanson, chanson de vari\\\\u00e9t\\\\u00e9s, show business\",\"100029\":\"gravure, exposition d\\'art, courant artistique (20e), sculpture\",\"100030\":\"croyance religieuse, minorit\\\\u00e9, vie politique, moeurs et coutumes, ethnologie, tsiganes, r\\\\u00e9volution, politique, culture, juifs\",\"100031\":\"juifs, vie politique, r\\\\u00e9volution, minorit\\\\u00e9, culture, ethnologie, croyance religieuse, politique, tsiganes, moeurs et coutumes\",\"100032\":\"piano, jazz, instrumentiste\",\"100033\":\"vie politique, juifs, ethnologie, r\\\\u00e9volution, tsiganes, croyance religieuse, politique, minorit\\\\u00e9, moeurs et coutumes, culture\",\"100034\":\"r\\\\u00e9volution, tsiganes, moeurs et coutumes, vie politique, croyance religieuse, juifs, minorit\\\\u00e9, politique, culture, ethnologie\",\"100035\":\"comm\\\\u00e9moration\",\"100036\":\"histoire, sociologie\",\"100037\":\"musique classique, compositeur\",\"100038\":\"\",\"100039\":\"\",\"100040\":\"piano, instrumentiste, jazz\",\"100041\":\"\",\"100042\":\"\",\"100043\":\"chanteur\",\"100044\":\"com\\\\u00e9dienne, art dramatique, radio\",\"100045\":\"\\\\u00e9sot\\\\u00e9risme\",\"100046\":\"radio, musique\",\"100047\":\"musique, conseiller national, \\\\u00e9crivaine\",\"100048\":\"comm\\\\u00e9moration, politique, art et tradition populaires, contestation, histoire, manifestation culturelle\",\"100049\":\"\",\"100050\":\"\",\"100051\":\"\",\"100052\":\"\",\"100053\":\"epiphanie, physique, science occulte, th\\\\u00e9ologie, voyance, astrologie\",\"100054\":\"\",\"100055\":\"concerto, symphonie, violon, concert classique\",\"100056\":\"\",\"100057\":\"chanteur\",\"100058\":\"maison de retraite, vieillard\",\"100059\":\"\",\"100060\":\"\",\"100061\":\"jass\",\"100062\":\"bobsleigh, ski alpin (comp\\\\u00e9tition), hockey sur glace, basket-ball (comp\\\\u00e9tition)\",\"100063\":\"\",\"100064\":\"\",\"100065\":\"\",\"100066\":\"chanteur, musicien\",\"100067\":\"com\\\\u00e9dien\",\"100068\":\"\",\"100069\":\"noblesse, rite social, f\\\\u00eate, aristocratie\",\"100070\":\"\",\"100071\":\"cadre, banquier, portrait\",\"100072\":\"chanteur, chanson fran\\\\u00e7aise\",\"100073\":\"rite social, f\\\\u00eate\",\"100074\":\"\",\"100075\":\"mammif\\\\u00e8re\",\"100076\":\"\",\"100077\":\"\",\"100078\":\"\",\"100079\":\"chanson, de, vari\\\\u00e9t\\\\u00e9s\",\"100080\":\"\",\"100081\":\"humour, spectacle de vari\\\\u00e9t\\\\u00e9s\",\"100082\":\"musique classique, choeur, musique l\\\\u00e9g\\\\u00e8re\",\"100083\":\"rock, rite social, f\\\\u00eate, concert de vari\\\\u00e9t\\\\u00e9s, pop\",\"100084\":\"\",\"100085\":\"radio-th\\\\u00e9\\\\u00e2tre\",\"100086\":\"chanson de vari\\\\u00e9t\\\\u00e9s, chanteur, journaliste\",\"100087\":\"journaliste, comm\\\\u00e9moration, spectacle chant\\\\u00e9\",\"100088\":\"fan, chanteur\",\"100089\":\"vie, quotidienne\",\"100090\":\"radio-th\\\\u00e9\\\\u00e2tre\",\"100091\":\"cloche\",\"100092\":\"spectacle chant\\\\u00e9, comm\\\\u00e9moration\",\"100093\":\"radio-th\\\\u00e9\\\\u00e2tre\",\"100094\":\"jeunesse, \\\\u00e9v\\\\u00e9nement du 20e si\\\\u00e8cle\",\"100095\":\"int\\\\u00e9gration sociale, \\\\u00e9migration, x\\\\u00e9nophobie, pauvret\\\\u00e9\",\"100096\":\"radio-th\\\\u00e9\\\\u00e2tre\",\"100097\":\"exp\\\\u00e9dition scientifique, mer, iceberg, bateau\",\"100098\":\"radio-th\\\\u00e9\\\\u00e2tre\",\"100099\":\"radio-th\\\\u00e9\\\\u00e2tre\"},\"title\":{\"100000\":\"TEMOIN - 91.01.11\",\"100001\":\"MADAME LE SYNDIC - 91.01.11\",\"100002\":\"91.01.11\",\"100003\":\"Entretien avec Jean-Michel Olivier, \\\\u00e9crivain : A l\\'occasion de son dernier livre \\\\\"La M\\\\u00e9moire engloutie\\\\\" (Ed. Mercure de France)\",\"100004\":\"Entretien avec Gabrielle Lazure, chanteuse\",\"100005\":\"Entretiens avec Whit Stillman, Idrissa Ouedraogo et Ferid Boughedir, cin\\\\u00e9astes\",\"100006\":\"91.01.10\",\"100007\":\"OUVRIERS AGRICOLES : LA HONTE ET LE MEPRIS - 91.01.10\",\"100008\":\"RECUEILS... - 91.01.10\",\"100009\":\"CEREMONIE D\\'OUVERTURE A BELLINZONE - 700E ANNIVERSAIRE DE LA CONFEDERATION\",\"100010\":\"TEMOIN - 91.01.10\",\"100011\":\"Les orphelins de Roumanie\",\"100012\":\"Entretien avec Ricet Barrier et Francis Lemarque, chanteurs\",\"100013\":\"Rencontre diplomatique entre Tarek Aziz, chef de la diplomatie irakienne et James Baker, secr\\\\u00e9taire d\\'\\\\u00e9tat am\\\\u00e9ricain  \\\\u00e0 Gen\\\\u00e8ve. Interview de Riyad Al Qaysi diplomate irakien et proche conseiller de Tarek Aziz, de Marcel Vodroz porte-parole de la police genevoise et de Lothar Ruel journaliste \\\\u00e0 \\\\\"Die Welt\\\\\"\",\"100014\":\"Entretien avec Jean-No\\\\u00ebl Pancrazi, journaliste\",\"100015\":\"Entretien avec Jean-Fran\\\\u00e7ois Bovard, musicien\",\"100016\":\"CINEMA SUISSE - 91.01.07\",\"100017\":\"TEMOIN - 91.01.09\",\"100018\":\"91.01.09\",\"100019\":\"TRADITION DE MASQUES, MUSIQUES DE TRADITION\",\"100020\":\"91.01.09\",\"100021\":\"Entretien avec Michel Legrand, auteur-compositeur-interpr\\\\u00e8te\",\"100022\":\"Entretien avec Romain Didier, chanteur\",\"100023\":\"Portrait de l\\'ann\\\\u00e9e 1990 : Les actualit\\\\u00e9s marquantes\",\"100024\":\"TEMOIN - 91.01.08\",\"100025\":\"91.01.08\",\"100026\":\"91.01.08\",\"100027\":\"91.01.08\",\"100028\":\"CHANSON : LES APPRENTIS STARS - 91.01.08\",\"100029\":\"A propos de l\\'exposition de gravures et de sculptures d\\'Henri Matisse au Kunstmuseum de Berne\",\"100030\":\"Roumanie, des cousins sans importance (2\\\\/5) : Culture et traditions\",\"100031\":\"Roumanie, des cousins sans importance (3\\\\/5) : Des croyants tr\\\\u00e8s orthodoxes\",\"100032\":\"Entretien avec Fran\\\\u00e7ois Lindemann, pianiste de jazz, leader de Piano Seven\",\"100033\":\"Roumanie, des cousins sans importance (1\\\\/5) : Un \\\\u00eelot latin dans une mer slave\",\"100034\":\"Roumanie, des cousins sans importance (5\\\\/5) : La R\\\\u00e9volution, et apr\\\\u00e8s?\",\"100035\":\"Entretien avec Jacques Hainard, conservateur du Mus\\\\u00e9e d\\'ethnographie de Neuch\\\\u00e2tel : En partance pour\",\"100036\":\"Entretien avec Georges Duby, historien de soci\\\\u00e9t\\\\u00e9, sociologue\",\"100037\":\"Entretiens avec Guy Erismann, musicologue : A propos de Bohuslav Martinu\",\"100038\":\"91.01.07\",\"100039\":\"91.01.07\",\"100040\":\"CITE40 14.06.11 - FRANCOIS LINDEMANN\",\"100041\":\"TEMOIN - 91.01.07\",\"100042\":\"Ce n\\'est qu\\'un au revoir : Premi\\\\u00e8re partie : Avec la participation de Mousse Boulanger, Paule Chavasse et Odette Paris\",\"100043\":\"Entretien avec Randy Crawford, chanteur\",\"100044\":\"Entretien avec Jane Savigny, com\\\\u00e9dienne : A l\\'occasion des repr\\\\u00e9sentations de \\\\\"Les aventures du Roi Pausole\\\\\" d\\' Arthur Honegger\",\"100045\":\"Entretien avec Mich\\\\u00e8le Karen (1\\\\/5)\",\"100046\":\"La musique et vous : Entretien avec V\\\\u00e9ra Florence, r\\\\u00e9alisatrice RSR\",\"100047\":\"Le livre d\\'or de \\\\\"La musique et vous\\\\\" : Extraits des interviews de Jean Amrouche, \\\\u00e9crivain alg\\\\u00e9rien, de Louise Weiss, \\\\u00e9crivaine, et d\\'Andr\\\\u00e9 Chavanne, chef du D\\\\u00e9partement de l\\'instruction publique genevois\",\"100048\":\"Entretien avec Marco Solari, d\\\\u00e9l\\\\u00e9gu\\\\u00e9 du Conseil F\\\\u00e9d\\\\u00e9ral pour le 700\\\\u00e8me anniversaire de la Conf\\\\u00e9d\\\\u00e9ration : A quatre jours de l\\'ouverture des festivit\\\\u00e9s\",\"100049\":\"91.01.06\",\"100050\":\"Ce n\\'est qu\\'un au revoir : Deuxi\\\\u00e8me partie : Avec la participation de Claude Evelyne, Yvette Rielle, Monique Pieri, Mich\\\\u00e8le Jaccard, V\\\\u00e9ra Florence, Jeanne Hersch et Jean d\\'Ormesson de l\\'Acad\\\\u00e9mie Fran\\\\u00e7aise\",\"100051\":\"91.01.06\",\"100052\":\"LA CHINE DES ANNEES 30 - 91.01.06\",\"100053\":\"LES NOUVEAUX MAGES - 91.01.06\",\"100054\":\"MARIO BOTTA - 91.01.06\",\"100055\":\"MOZART - SEMKOV - ZIMMERMANN\",\"100056\":\"91.01.06\",\"100057\":\"Souvenirs d\\'une premi\\\\u00e8re fois : Avec Nana Mouskouri\",\"100058\":\"Souvenirs d\\'une premi\\\\u00e8re fois : Avec des pensionnaires de maisons de retraite romandes\",\"100059\":\"91.01.05\",\"100060\":\"91.01.05\",\"100061\":\"VICK PARKER - 91.01.05\",\"100062\":\"91.01.05\",\"100063\":\"LA LANDWEHR DE FRIBOURG\",\"100064\":\"SA01\",\"100065\":\"Th\\\\u00e9r\\\\u00e8se. De Richard Matheson\",\"100066\":\"Entretien avec Michel Legrand, auteur-compositeur-interpr\\\\u00e8te\",\"100067\":\"Entretien avec Pierre Miserez, com\\\\u00e9dien\",\"100068\":\"PLANETE NOEL - 91.01.04\",\"100069\":\"F\\\\u00eate \\\\u00e0 la Casa Rosada, Mexique, r\\\\u00e9sidence de l\\'empereur Maximilien, en 1865. R\\\\u00e9cit de et par Claude Moss\\\\u00e9\",\"100070\":\"91.01.04\",\"100071\":\"LES NOUVEAUX ENTREPRENEURS - 91.01.04\",\"100072\":\"Entretien avec Charles Trenet, chanteur\",\"100073\":\"F\\\\u00eate dans une hacienda en Argentine. R\\\\u00e9cit de et par Claude Moss\\\\u00e9\",\"100074\":\"91.01.03\",\"100075\":\"CHIENNE DE VIE - 91.01.03\",\"100076\":\"PLANETE NOEL - 91.01.03\",\"100077\":\"Pericoloso\",\"100078\":\"91.01.02\",\"100079\":\"JOHNNY : SOUVENIRS, SOUVENIRS ...\",\"100080\":\"90.01.02\",\"100081\":\"LES VIEUX SONT TOMBES SUR LA TETE\",\"100082\":\"TERRA - DOMDIDIER\",\"100083\":\"F\\\\u00eate \\\\u00e0 Buckingham Palace avec les Beatles, le 2 janvier 1966. R\\\\u00e9cit de et par Claude Moss\\\\u00e9\",\"100084\":\"PLANETE NOEL - 91.01.02\",\"100085\":\"Veuillez ex\\\\u00e9cuter le porteur de la pr\\\\u00e9sente!. De L\\\\u00e9on B. Marjorie [= Michel Bory] (15\\\\/15)\",\"100086\":\"Entretien avec Emmanuel Manzi, journaliste et chanteur\",\"100087\":\"L\\'Epop\\\\u00e9e de l\\'Europe : Spectacle mont\\\\u00e9 par Jacques Pilet et pr\\\\u00e9sent\\\\u00e9 en premi\\\\u00e8re \\\\u00e0 Sils, sous la tente Botta, le 7.9.1991. Interviews de divers journalistes de presse\",\"100088\":\"Entretien avec un membre du Fan\\'s Club de Georges Chelon\",\"100089\":\"Chroniques d\\'humeur et de vie quotidienne. La semaine de Martine Galland : Le chocolat. Le l\\\\u00e9gionnaire. Le silence. Le quotidien n\\'est pas exceptionnel. La conduite. Le mariage. New York. Fin de la guerre du Golfe\",\"100090\":\"Veuillez ex\\\\u00e9cuter le porteur de la pr\\\\u00e9sente!. De L\\\\u00e9on B. Marjorie [= Michel Bory] (14\\\\/15)\",\"100091\":\"Carillon de Corbi\\\\u00e8res (FR)\",\"100092\":\"L\\'Epop\\\\u00e9e de l\\'Europe : Spectacle mont\\\\u00e9 par Jacques Pilet et pr\\\\u00e9sent\\\\u00e9 en premi\\\\u00e8re \\\\u00e0 Sils, sous la tente Botta, le 7.9.1991. Interview de Jacques Pilet\",\"100093\":\"Veuillez ex\\\\u00e9cuter le porteur de la pr\\\\u00e9sente!. De L\\\\u00e9on B. Marjorie [= Michel Bory] (11\\\\/15)\",\"100094\":\"Le temps de nos vingt ans : 1. Interview de L\\\\u00e9o Devantery, auteur-compositeur-interpr\\\\u00e8te. - 2. Interview de Georges Haldas, \\\\u00e9crivain. - 3 . Interview d\\'Henri Genes, auteur-compositeur-interpr\\\\u00e8te. - 4. Interview de Jean-Pierre Chabrol, \\\\u00e9crivain et conteur. - 5. Interview de Claude Rich, com\\\\u00e9dien. - 6. Interview de Jean d\\'Ormesson, \\\\u00e9crivain\",\"100095\":\"Carla Belotti, \\\\u00e9migr\\\\u00e9e (Emission laur\\\\u00e9ate du Prix Gilson 1992)\",\"100096\":\"Veuillez ex\\\\u00e9cuter le porteur de la pr\\\\u00e9sente!. De L\\\\u00e9on B. Marjorie [= Michel Bory] (01\\\\/15)\",\"100097\":\"Reportage en Antarctique \\\\u00e0 bord d\\'un brise-glace russe (1\\\\/2)\",\"100098\":\"Veuillez ex\\\\u00e9cuter le porteur de la pr\\\\u00e9sente!. De L\\\\u00e9on B. Marjorie [= Michel Bory] (07\\\\/15)\",\"100099\":\"Veuillez ex\\\\u00e9cuter le porteur de la pr\\\\u00e9sente!. De L\\\\u00e9on B. Marjorie [= Michel Bory] (08\\\\/15)\"},\"variantIds\":{\"100000\":\"\",\"100001\":\"\",\"100002\":\"\",\"100003\":\"\",\"100004\":\"\",\"100005\":\"\",\"100006\":\"\",\"100007\":\"\",\"100008\":\"\",\"100009\":\"\",\"100010\":\"\",\"100011\":\"\",\"100012\":\"\",\"100013\":\"\",\"100014\":\"\",\"100015\":\"\",\"100016\":\"\",\"100017\":\"\",\"100018\":\"\",\"100019\":\"\",\"100020\":\"\",\"100021\":\"\",\"100022\":\"\",\"100023\":\"\",\"100024\":\"\",\"100025\":\"\",\"100026\":\"\",\"100027\":\"\",\"100028\":\"\",\"100029\":\"\",\"100030\":\"\",\"100031\":\"\",\"100032\":\"\",\"100033\":\"\",\"100034\":\"\",\"100035\":\"\",\"100036\":\"\",\"100037\":\"\",\"100038\":\"\",\"100039\":\"\",\"100040\":\"\",\"100041\":\"\",\"100042\":\"\",\"100043\":\"\",\"100044\":\"\",\"100045\":\"\",\"100046\":\"\",\"100047\":\"\",\"100048\":\"\",\"100049\":\"\",\"100050\":\"\",\"100051\":\"\",\"100052\":\"\",\"100053\":\"\",\"100054\":\"\",\"100055\":\"\",\"100056\":\"\",\"100057\":\"\",\"100058\":\"\",\"100059\":\"\",\"100060\":\"\",\"100061\":\"\",\"100062\":\"\",\"100063\":\"\",\"100064\":\"\",\"100065\":\"\",\"100066\":\"\",\"100067\":\"\",\"100068\":\"\",\"100069\":\"\",\"100070\":\"\",\"100071\":\"\",\"100072\":\"\",\"100073\":\"\",\"100074\":\"\",\"100075\":\"\",\"100076\":\"\",\"100077\":\"\",\"100078\":\"\",\"100079\":\"\",\"100080\":\"\",\"100081\":\"\",\"100082\":\"\",\"100083\":\"\",\"100084\":\"\",\"100085\":\"\",\"100086\":\"\",\"100087\":\"\",\"100088\":\"\",\"100089\":\"\",\"100090\":\"\",\"100091\":\"\",\"100092\":\"\",\"100093\":\"\",\"100094\":\"\",\"100095\":\"\",\"100096\":\"\",\"100097\":\"\",\"100098\":\"\",\"100099\":\"\"},\"visualCorporations\":{\"100000\":\"\",\"100001\":\"\",\"100002\":\"\",\"100003\":\"\",\"100004\":\"\",\"100005\":\"\",\"100006\":\"coop, coop, coop\",\"100007\":\"\",\"100008\":\"\",\"100009\":\"\",\"100010\":\"\",\"100011\":\"\",\"100012\":\"\",\"100013\":\"\",\"100014\":\"\",\"100015\":\"\",\"100016\":\"\",\"100017\":\"\",\"100018\":\"\",\"100019\":\"\",\"100020\":\"\",\"100021\":\"\",\"100022\":\"\",\"100023\":\"\",\"100024\":\"\",\"100025\":\"\",\"100026\":\"\",\"100027\":\"cff\",\"100028\":\"\",\"100029\":\"\",\"100030\":\"\",\"100031\":\"\",\"100032\":\"\",\"100033\":\"\",\"100034\":\"\",\"100035\":\"\",\"100036\":\"\",\"100037\":\"\",\"100038\":\"\",\"100039\":\"\",\"100040\":\"\",\"100041\":\"\",\"100042\":\"\",\"100043\":\"\",\"100044\":\"\",\"100045\":\"\",\"100046\":\"\",\"100047\":\"\",\"100048\":\"\",\"100049\":\"british airways, swissair, british airways, swissair\",\"100050\":\"\",\"100051\":\"\",\"100052\":\"\",\"100053\":\"\",\"100054\":\"\",\"100055\":\"orchestre de chambre de lausanne, orchestre de chambre de lausanne, orchestre de chambre de lausanne\",\"100056\":\"\",\"100057\":\"\",\"100058\":\"\",\"100059\":\"cicr, cff\",\"100060\":\"\",\"100061\":\"\",\"100062\":\"\",\"100063\":\"\",\"100064\":\"\",\"100065\":\"\",\"100066\":\"\",\"100067\":\"\",\"100068\":\"\",\"100069\":\"\",\"100070\":\"cff\",\"100071\":\"\",\"100072\":\"\",\"100073\":\"\",\"100074\":\"\",\"100075\":\"\",\"100076\":\"\",\"100077\":\"\",\"100078\":\"\",\"100079\":\"\",\"100080\":\"\",\"100081\":\"\",\"100082\":\"\",\"100083\":\"\",\"100084\":\"\",\"100085\":\"\",\"100086\":\"\",\"100087\":\"\",\"100088\":\"\",\"100089\":\"\",\"100090\":\"\",\"100091\":\"\",\"100092\":\"\",\"100093\":\"\",\"100094\":\"\",\"100095\":\"\",\"100096\":\"\",\"100097\":\"\",\"100098\":\"\",\"100099\":\"\"},\"visualGeographicals\":{\"100000\":\"geneve, suisse, neuchatel, suisse, vaud, suisse, leysin, jura (canton)\",\"100001\":\"\",\"100002\":\"\",\"100003\":\"\",\"100004\":\"\",\"100005\":\"\",\"100006\":\"geneve, suisse, geneve, suisse, bellinzone, bellinzone, bellinzone, bellinzone, geneve, suisse, irak, bagdad, irak, bagdad, geneve, suisse, geneve, suisse, geneve, suisse, geneve, suisse\",\"100007\":\"geneve, ardon, genthod, fully, avusy, suisse, conthey, evolene, saxon, valais, geneve, ardon, genthod, fully, avusy, suisse, conthey, evolene, saxon, valais, geneve, ardon, genthod, fully, avusy, suisse, conthey, evolene, saxon, valais\",\"100008\":\"\",\"100009\":\"bellinzone, bellinzone, bellinzone, bellinzone, bellinzone, bellinzone, bellinzone, bellinzone\",\"100010\":\"jura (canton), suisse, fribourg, suisse, neuchatel, neuchatel-ville, suisse, neuchatel, suisse, grandvillard, vaud, suisse, lausanne, suisse, verbier, suisse, valais\",\"100011\":\"\",\"100012\":\"\",\"100013\":\"\",\"100014\":\"\",\"100015\":\"\",\"100016\":\"\",\"100017\":\"st-imier, berne, suisse, geneve, suisse, anzere, suisse, valais, geneve, suisse, neuchatel, dombresson, suisse\",\"100018\":\"\",\"100019\":\"appenzell rhodes-ext\\\\u00e9rieures, inde, appenzell rhodes-ext\\\\u00e9rieures, inde\",\"100020\":\"geneve, usa, irak, suisse, geneve-ville, geneve, usa, irak, koweit, suisse, geneve-ville, geneve, irak, koweit, suisse, geneve, irak, koweit, suisse, geneve, usa, irak, koweit, suisse, geneve-ville, zoug, irak, suisse, suisse\",\"100021\":\"\",\"100022\":\"\",\"100023\":\"\",\"100024\":\"vaud, suisse, lausanne, geneve, suisse, geneve, suisse, geneve-ville, geneve-ville, fribourg, suisse, geneve-ville, berne, tavannes, suisse, jura (canton), delemont, suisse, jura (canton), delemont, suisse, jura (canton), suisse, porrentruy\",\"100025\":\"\",\"100026\":\"\",\"100027\":\"geneve, suisse, geneve-ville, geneve, suisse, geneve-ville, geneve, suisse, geneve-ville, usa, irak, geneve-ville, geneve, irak, suisse, geneve-ville, geneve, usa, irak, suisse, geneve-ville, berne, suisse\",\"100028\":\"paris, france, paris, france, paris, france\",\"100029\":\"\",\"100030\":\"\",\"100031\":\"\",\"100032\":\"\",\"100033\":\"\",\"100034\":\"\",\"100035\":\"\",\"100036\":\"\",\"100037\":\"\",\"100038\":\"geneve, usa, irak, suisse, geneve-ville, lieu ind\\\\u00e9termin\\\\u00e9, geneve, lac leman, suisse, geneve-ville, geneve, urss, armenie, berne, suisse, berne, suisse\",\"100039\":\"\",\"100040\":\"\",\"100041\":\"viege, suisse, valais, haiti, suisse, st-imier, berne, suisse, geneve, suisse, berne, tavannes, suisse, jura (canton), delemont, suisse, bienne, berne, suisse, neuchatel, serrieres, suisse\",\"100042\":\"\",\"100043\":\"\",\"100044\":\"\",\"100045\":\"\",\"100046\":\"\",\"100047\":\"\",\"100048\":\"\",\"100049\":\"suisse, valais, irlande, vaud, royaume-uni, suisse, israel, tel aviv, israel, tel aviv, thyon, suisse, veysonnaz, valais, thyon, suisse, veysonnaz, valais, geneve, suisse, geneve-ville, geneve, suisse, geneve-ville, geneve, suisse, geneve-ville, suisse, zurich, israel, israel\",\"100050\":\"\",\"100051\":\"\",\"100052\":\"\",\"100053\":\"\",\"100054\":\"bellinzone\",\"100055\":\"lausanne, lausanne, lausanne\",\"100056\":\"\",\"100057\":\"\",\"100058\":\"\",\"100059\":\"somalie, fribourg, suisse, fribourg, suisse, bulle, suisse, valais, tessin, suisse\",\"100060\":\"\",\"100061\":\"plateau\",\"100062\":\"\",\"100063\":\"\",\"100064\":\"\",\"100065\":\"\",\"100066\":\"\",\"100067\":\"\",\"100068\":\"\",\"100069\":\"\",\"100070\":\"vaud, suisse, lausanne, cressier (ne), cressier (ne), usa, canada, usa, canada, ovronnaz, suisse, valais, neuchatel, doubs, suisse, france, argovie, suisse, berne, suisse\",\"100071\":\"plateau, geneve-ville, geneve-ville\",\"100072\":\"\",\"100073\":\"\",\"100074\":\"papouasie-nouvelle-guinee, royaume-uni, irak, londres, usa, washington (etat usa), seattle, usa, washington (etat usa), seattle, gruy\\\\u00e8re, la (district), geneve, suisse, geneve-ville, colombie, suisse, zurich, suisse, thurgovie\",\"100075\":\"australie\",\"100076\":\"\",\"100077\":\"\",\"100078\":\"mali, mali, mali, fribourg, suisse, suisse, valais, nendaz, usa, washington (etat usa), seattle, usa, washington (etat usa), seattle, sion, suisse, valais, geneve, suisse, geneve-ville, sarnen, suisse\",\"100079\":\"\",\"100080\":\"\",\"100081\":\"\",\"100082\":\"fribourg, domdidier, suisse, fribourg, domdidier, suisse\",\"100083\":\"\",\"100084\":\"\",\"100085\":\"\",\"100086\":\"\",\"100087\":\"\",\"100088\":\"\",\"100089\":\"\",\"100090\":\"\",\"100091\":\"\",\"100092\":\"\",\"100093\":\"\",\"100094\":\"\",\"100095\":\"\",\"100096\":\"\",\"100097\":\"\",\"100098\":\"\",\"100099\":\"\"},\"visualPersons\":{\"100000\":\"\",\"100001\":\"\",\"100002\":\"\",\"100003\":\"\",\"100004\":\"\",\"100005\":\"\",\"100006\":\"aziz, tarek, baker, james, botta, mario, kopp, elisabeth, cotti, flavio, botta, mario, kopp, elisabeth, cotti, flavio, botta, mario, kopp, elisabeth, cotti, flavio, botta, mario, kopp, elisabeth, cotti, flavio, baker, james, aziz, tarek, felber, rene, felber, rene, felber, rene\",\"100007\":\"cuche, fernand\",\"100008\":\"dewarrat, marie-claire, dewarrat, marie-claire, dewarrat, marie-claire, dewarrat, marie-claire\",\"100009\":\"cotti, flavio\",\"100010\":\"clerc, denis, weber, franz\",\"100011\":\"\",\"100012\":\"\",\"100013\":\"\",\"100014\":\"\",\"100015\":\"\",\"100016\":\"amiguet, jean-francois, buache, freddy, koerfer, thomas, soutter, michel, vouillamoz, raymond, dindo, richard, schmid, daniel, amiguet, jean-francois, buache, freddy, koerfer, thomas, soutter, michel, vouillamoz, raymond, dindo, richard, schmid, daniel\",\"100017\":\"\",\"100018\":\"\",\"100019\":\"\",\"100020\":\"baker, james, aziz, tarek, felber, romain, baker, james, aziz, tarek, baker, james, aziz, tarek, felber, rene\",\"100021\":\"\",\"100022\":\"\",\"100023\":\"\",\"100024\":\"bertossa, bernard, bertossa, bernard\",\"100025\":\"\",\"100026\":\"\",\"100027\":\"baker, james, aziz, tarek, grab, amedee, felber, rene, baker, james, aziz, tarek, hediger, andre, hug, klaus\",\"100028\":\"dona, alice, dona, alice, dona, alice\",\"100029\":\"\",\"100030\":\"\",\"100031\":\"\",\"100032\":\"\",\"100033\":\"\",\"100034\":\"\",\"100035\":\"\",\"100036\":\"\",\"100037\":\"\",\"100038\":\"al ahmad al sabah, salem jaber, koller, arnold\",\"100039\":\"\",\"100040\":\"\",\"100041\":\"solari, marco, ziegler, bernard\",\"100042\":\"\",\"100043\":\"\",\"100044\":\"\",\"100045\":\"\",\"100046\":\"\",\"100047\":\"\",\"100048\":\"\",\"100049\":\"fournier, jean-marie, baker, james, aziz, tarek, baker, james, aziz, tarek, baker, james, aziz, tarek\",\"100050\":\"\",\"100051\":\"\",\"100052\":\"\",\"100053\":\"babel, henry, longchamp, albert, sevan, babel, henry, longchamp, albert, sevan, babel, henry, longchamp, albert, sevan\",\"100054\":\"botta, mario\",\"100055\":\"\",\"100056\":\"\",\"100057\":\"\",\"100058\":\"\",\"100059\":\"morard, paul-henri, martinelli, pietro\",\"100060\":\"\",\"100061\":\"\",\"100062\":\"\",\"100063\":\"\",\"100064\":\"\",\"100065\":\"\",\"100066\":\"\",\"100067\":\"\",\"100068\":\"\",\"100069\":\"\",\"100070\":\"marcel, andre\",\"100071\":\"\",\"100072\":\"\",\"100073\":\"\",\"100074\":\"felber, rene, baker, james, aziz, tarek, hussein de jordanie\",\"100075\":\"\",\"100076\":\"\",\"100077\":\"\",\"100078\":\"\",\"100079\":\"\",\"100080\":\"\",\"100081\":\"\",\"100082\":\"volery, francis, volery, francis\",\"100083\":\"\",\"100084\":\"\",\"100085\":\"\",\"100086\":\"\",\"100087\":\"\",\"100088\":\"\",\"100089\":\"\",\"100090\":\"\",\"100091\":\"\",\"100092\":\"\",\"100093\":\"\",\"100094\":\"\",\"100095\":\"\",\"100096\":\"\",\"100097\":\"\",\"100098\":\"\",\"100099\":\"\"},\"visualThemes\":{\"100000\":\"lutte antiterroriste, police, s\\\\u00e9curit\\\\u00e9 des personnes, am\\\\u00e9nagement du territoire, maison individuelle, vue a\\\\u00e9rienne, enseignement priv\\\\u00e9, coop\\\\u00e9rative agricole\",\"100001\":\"\",\"100002\":\"\",\"100003\":\"\",\"100004\":\"\",\"100005\":\"\",\"100006\":\"guerre du golfe, diplomatie, guerre du golfe, diplomatie, discours, c\\\\u00e9r\\\\u00e9monie publique, exposition universelle, inauguration, conseiller f\\\\u00e9d\\\\u00e9ral, manifestation politique, discours, institution politique, vue panoramique, c\\\\u00e9r\\\\u00e9monie publique, exposition universelle, inauguration, conseiller f\\\\u00e9d\\\\u00e9ral, manifestation politique, discours, institution politique, vue panoramique, c\\\\u00e9r\\\\u00e9monie publique, exposition universelle, inauguration, conseiller f\\\\u00e9d\\\\u00e9ral, manifestation politique, discours, institution politique, vue panoramique, c\\\\u00e9r\\\\u00e9monie publique, exposition universelle, inauguration, conseiller f\\\\u00e9d\\\\u00e9ral, manifestation politique, discours, institution politique, vue panoramique, diplomatie, carburant, enfant (\\\\u00e2ge), presse, file d\\'attente, sc\\\\u00e8ne de rue, carburant, enfant (\\\\u00e2ge), presse, file d\\'attente, sc\\\\u00e8ne de rue, entreprise, agriculture, interview, s\\\\u00e9curit\\\\u00e9 des personnes, grand magasin, terrorisme, entreprise, agriculture, interview, s\\\\u00e9curit\\\\u00e9 des personnes, grand magasin, terrorisme, entreprise, agriculture, interview, s\\\\u00e9curit\\\\u00e9 des personnes, grand magasin, terrorisme, \\\\u00e9conomie, guerre du golfe, kurdes, gr\\\\u00e8ve de la faim, r\\\\u00e9fugi\\\\u00e9\",\"100007\":\"logement, salaire, culture mara\\\\u00eech\\\\u00e8re, l\\\\u00e9gume, travailleur \\\\u00e9tranger, condition de travail, logement, salaire, culture mara\\\\u00eech\\\\u00e8re, l\\\\u00e9gume, travailleur \\\\u00e9tranger, condition de travail, logement, salaire, culture mara\\\\u00eech\\\\u00e8re, l\\\\u00e9gume, travailleur \\\\u00e9tranger, condition de travail\",\"100008\":\"\",\"100009\":\"c\\\\u00e9r\\\\u00e9monie publique, c\\\\u00e9r\\\\u00e9monie publique, c\\\\u00e9r\\\\u00e9monie publique, c\\\\u00e9r\\\\u00e9monie publique, c\\\\u00e9r\\\\u00e9monie publique, c\\\\u00e9r\\\\u00e9monie publique, c\\\\u00e9r\\\\u00e9monie publique, c\\\\u00e9r\\\\u00e9monie publique\",\"100010\":\"usine, b\\\\u00e2timent locatif, sc\\\\u00e8ne de rue, h\\\\u00f4pital, interview, taxi, reptile, jardin zoologique, vivarium, serpent, manifestation politique, agriculture, presse, panification, village\",\"100011\":\"\",\"100012\":\"\",\"100013\":\"\",\"100014\":\"\",\"100015\":\"\",\"100016\":\"\",\"100017\":\"chantier du b\\\\u00e2timent, industrie du b\\\\u00e2timent, vue panoramique, manifestation politique, squat, remont\\\\u00e9e m\\\\u00e9canique, ski alpin (loisir), \\\\u00e9colier, dessin, instrument de musique, \\\\u00e9difice religieux, temple\",\"100018\":\"\",\"100019\":\"musique, art et tradition populaires, carnaval, musique, art et tradition populaires, carnaval\",\"100020\":\"diplomatie, conflit arm\\\\u00e9, diplomatie, interview, conflit arm\\\\u00e9, enfant (\\\\u00e2ge), paix, dessin, drapeau, manifestation politique, conflit arm\\\\u00e9, enfant (\\\\u00e2ge), paix, dessin, drapeau, manifestation politique, conflit arm\\\\u00e9, diplomatie, conflit arm\\\\u00e9, missile, fabrication d\\'armes\",\"100021\":\"\",\"100022\":\"\",\"100023\":\"\",\"100024\":\"salaire, initiative populaire, police, circulation routi\\\\u00e8re, droit d\\'auteur, droit d\\'auteur, squat, squat, banque, proc\\\\u00e8s, \\\\u00e9difice religieux, initiative populaire, cloche, homicide, recensement, statistique d\\\\u00e9mographique, recensement, statistique d\\\\u00e9mographique, automobile, \\\\u00e9b\\\\u00e9nisterie\",\"100025\":\"\",\"100026\":\"\",\"100027\":\"mammif\\\\u00e8re, police, s\\\\u00e9curit\\\\u00e9 des personnes, terrorisme, h\\\\u00f4tellerie, h\\\\u00f4tellerie, enfant (\\\\u00e2ge), c\\\\u00e9r\\\\u00e9monie religieuse, mosqu\\\\u00e9e, \\\\u00e9difice religieux, paix, cloche, diplomatie, s\\\\u00e9curit\\\\u00e9 ferroviaire, incendie, vue a\\\\u00e9rienne, transport ferroviaire, interview, travail (activit\\\\u00e9), saisonnier\",\"100028\":\"grimage, artiste de rue, enseignement de la musique, m\\\\u00e9tro, transport public urbain, chanson, chanson de vari\\\\u00e9t\\\\u00e9s, show business, grimage, artiste de rue, enseignement de la musique, m\\\\u00e9tro, transport public urbain, chanson, chanson de vari\\\\u00e9t\\\\u00e9s, show business, grimage, artiste de rue, enseignement de la musique, m\\\\u00e9tro, transport public urbain, chanson, chanson de vari\\\\u00e9t\\\\u00e9s, show business\",\"100029\":\"\",\"100030\":\"\",\"100031\":\"\",\"100032\":\"\",\"100033\":\"\",\"100034\":\"\",\"100035\":\"\",\"100036\":\"\",\"100037\":\"\",\"100038\":\"paix, femme, manifestation politique, libert\\\\u00e9s individuelles, satellite de t\\\\u00e9l\\\\u00e9communication, h\\\\u00f4tellerie, alimentation des enfants, usine, femme, assurance sociale, machine, agriculture, \\\\u00e9cologisme\",\"100039\":\"\",\"100040\":\"\",\"100041\":\"conditionnement, fruit (denr\\\\u00e9e), lait, exposition universelle, foule, arm\\\\u00e9e, interview, chauffage, \\\\u00e9colier, b\\\\u00e2timent scolaire, automatisation, interview, transport public urbain, autobus, circulation routi\\\\u00e8re, autoroute, police, circulation routi\\\\u00e8re, recensement, statistique d\\\\u00e9mographique, jouet, clinique, poup\\\\u00e9e, chocolat, entreprise\",\"100042\":\"\",\"100043\":\"\",\"100044\":\"\",\"100045\":\"\",\"100046\":\"\",\"100047\":\"\",\"100048\":\"\",\"100049\":\"epiphanie, cr\\\\u00e8che de no\\\\u00ebl, no\\\\u00ebl, temp\\\\u00eate, a\\\\u00e9roport, entreprise, avion civil, agence de voyages, a\\\\u00e9roport, entreprise, avion civil, agence de voyages, remont\\\\u00e9e m\\\\u00e9canique, ski alpin (loisir), remont\\\\u00e9e m\\\\u00e9canique, ski alpin (loisir), diplomatie, s\\\\u00e9curit\\\\u00e9 des personnes, terrorisme, h\\\\u00f4tellerie, diplomatie, s\\\\u00e9curit\\\\u00e9 des personnes, terrorisme, h\\\\u00f4tellerie, diplomatie, s\\\\u00e9curit\\\\u00e9 des personnes, terrorisme, h\\\\u00f4tellerie, photographie, exposition d\\'art, bauhaus, courant artistique, guerre du golfe, interview, guerre du golfe, interview\",\"100050\":\"\",\"100051\":\"\",\"100052\":\"\",\"100053\":\"epiphanie, physique, science occulte, th\\\\u00e9ologie, voyance, astrologie, epiphanie, physique, science occulte, th\\\\u00e9ologie, voyance, astrologie, epiphanie, physique, science occulte, th\\\\u00e9ologie, voyance, astrologie\",\"100054\":\"\",\"100055\":\"symphonie, concert classique, concerto, violon, concert classique, symphonie, concert classique\",\"100056\":\"\",\"100057\":\"\",\"100058\":\"\",\"100059\":\"histoire, cin\\\\u00e9ma, interview, incendie, incendie, pyromanie, pompier, \\\\u00e9conomie, enfant (\\\\u00e2ge), neige, \\\\u00e9difice religieux, interview, imp\\\\u00f4t, imp\\\\u00f4t eccl\\\\u00e9siastique, incendie, transport ferroviaire, pompier\",\"100060\":\"\",\"100061\":\"jass\",\"100062\":\"bobsleigh, ski alpin (comp\\\\u00e9tition), hockey sur glace, basket-ball (comp\\\\u00e9tition), bobsleigh, ski alpin (comp\\\\u00e9tition), hockey sur glace, basket-ball (comp\\\\u00e9tition)\",\"100063\":\"\",\"100064\":\"\",\"100065\":\"\",\"100066\":\"\",\"100067\":\"\",\"100068\":\"\",\"100069\":\"\",\"100070\":\"op\\\\u00e9rette, raffinage du p\\\\u00e9trole, camionnage, vue panoramique, raffinage du p\\\\u00e9trole, camionnage, vue panoramique, jeunesse, vue a\\\\u00e9rienne, cadavre, police, arme portative, trafic de stup\\\\u00e9fiants, stup\\\\u00e9fiant, toxicomane, violence, jeunesse, vue a\\\\u00e9rienne, cadavre, police, arme portative, trafic de stup\\\\u00e9fiants, stup\\\\u00e9fiant, toxicomane, violence, hydroth\\\\u00e9rapie, truite, pluie, protection de la nature, poisson (zoologie), carburant, incendie, train de marchandises, transport ferroviaire, transport de mati\\\\u00e8res dangereuses, transport ferroviaire\",\"100071\":\"cadre, banquier, portrait, cadre, banquier, portrait\",\"100072\":\"\",\"100073\":\"\",\"100074\":\"diplomatie, interview, avion militaire, marine de guerre, nocturne, diplomatie, ambassade, arme portative, commerce d\\'armes, violence, arme portative, commerce d\\'armes, violence, \\\\u00e9levage de chevaux, arbre, prise d\\'otage, carnaval\",\"100075\":\"mammif\\\\u00e8re\",\"100076\":\"\",\"100077\":\"\",\"100078\":\"enfant (\\\\u00e2ge), touaregs, nomadisme, gu\\\\u00e9rilla, d\\\\u00e9sert, conflit arm\\\\u00e9, enfant (\\\\u00e2ge), touaregs, nomadisme, gu\\\\u00e9rilla, d\\\\u00e9sert, conflit arm\\\\u00e9, enfant (\\\\u00e2ge), touaregs, nomadisme, gu\\\\u00e9rilla, d\\\\u00e9sert, conflit arm\\\\u00e9, obs\\\\u00e8ques, neige, snowboard (loisir), h\\\\u00f4pital, police, arme portative, violence, h\\\\u00f4pital, police, arme portative, violence, \\\\u00e9checs, urbanisme, parc et jardin publics, \\\\u00e9checs, informatique, kurdes, gr\\\\u00e8ve de la faim, manifestation politique, r\\\\u00e9fugi\\\\u00e9\",\"100079\":\"chanson de vari\\\\u00e9t\\\\u00e9s, chanson de vari\\\\u00e9t\\\\u00e9s, chanson de vari\\\\u00e9t\\\\u00e9s\",\"100080\":\"\",\"100081\":\"humour, spectacle de vari\\\\u00e9t\\\\u00e9s\",\"100082\":\"musique classique, choeur, musique l\\\\u00e9g\\\\u00e8re, musique classique, choeur, musique l\\\\u00e9g\\\\u00e8re\",\"100083\":\"\",\"100084\":\"\",\"100085\":\"\",\"100086\":\"\",\"100087\":\"\",\"100088\":\"\",\"100089\":\"\",\"100090\":\"\",\"100091\":\"\",\"100092\":\"\",\"100093\":\"\",\"100094\":\"\",\"100095\":\"\",\"100096\":\"\",\"100097\":\"\",\"100098\":\"\",\"100099\":\"\"},\"publicationDateYear\":{\"100000\":1991,\"100001\":1991,\"100002\":1991,\"100003\":1991,\"100004\":1991,\"100005\":1991,\"100006\":1991,\"100007\":1991,\"100008\":1991,\"100009\":1991,\"100010\":1991,\"100011\":1991,\"100012\":1991,\"100013\":1991,\"100014\":1991,\"100015\":1991,\"100016\":1991,\"100017\":1991,\"100018\":1991,\"100019\":1991,\"100020\":1991,\"100021\":1991,\"100022\":1991,\"100023\":1991,\"100024\":1991,\"100025\":1991,\"100026\":1991,\"100027\":1991,\"100028\":1991,\"100029\":1991,\"100030\":1991,\"100031\":1991,\"100032\":1991,\"100033\":1991,\"100034\":1991,\"100035\":1991,\"100036\":1991,\"100037\":1991,\"100038\":1991,\"100039\":1991,\"100040\":1991,\"100041\":1991,\"100042\":1991,\"100043\":1991,\"100044\":1991,\"100045\":1991,\"100046\":1991,\"100047\":1991,\"100048\":1991,\"100049\":1991,\"100050\":1991,\"100051\":1991,\"100052\":1991,\"100053\":1991,\"100054\":1991,\"100055\":1991,\"100056\":1991,\"100057\":1991,\"100058\":1991,\"100059\":1991,\"100060\":1991,\"100061\":1991,\"100062\":1991,\"100063\":1991,\"100064\":1991,\"100065\":1991,\"100066\":1991,\"100067\":1991,\"100068\":1991,\"100069\":1991,\"100070\":1991,\"100071\":1991,\"100072\":1991,\"100073\":1991,\"100074\":1991,\"100075\":1991,\"100076\":1991,\"100077\":1991,\"100078\":1991,\"100079\":1991,\"100080\":1991,\"100081\":1991,\"100082\":1991,\"100083\":1991,\"100084\":1991,\"100085\":1991,\"100086\":1991,\"100087\":1991,\"100088\":1991,\"100089\":1991,\"100090\":1991,\"100091\":1991,\"100092\":1991,\"100093\":1991,\"100094\":1991,\"100095\":1991,\"100096\":1991,\"100097\":1991,\"100098\":1991,\"100099\":1991}}'"
      ]
     },
     "execution_count": 230,
     "metadata": {},
     "output_type": "execute_result"
    }
   ],
   "source": [
    "j"
   ]
  }
 ],
 "metadata": {
  "kernelspec": {
   "display_name": "Python 3",
   "language": "python",
   "name": "python3"
  },
  "language_info": {
   "codemirror_mode": {
    "name": "ipython",
    "version": 3
   },
   "file_extension": ".py",
   "mimetype": "text/x-python",
   "name": "python",
   "nbconvert_exporter": "python",
   "pygments_lexer": "ipython3",
   "version": "3.6.3"
  },
  "toc": {
   "nav_menu": {},
   "number_sections": true,
   "sideBar": true,
   "skip_h1_title": false,
   "toc_cell": false,
   "toc_position": {
    "height": "683px",
    "left": "0px",
    "right": "1659px",
    "top": "111px",
    "width": "189px"
   },
   "toc_section_display": "block",
   "toc_window_display": true
  },
  "varInspector": {
   "cols": {
    "lenName": 16,
    "lenType": 16,
    "lenVar": 40
   },
   "kernels_config": {
    "python": {
     "delete_cmd_postfix": "",
     "delete_cmd_prefix": "del ",
     "library": "var_list.py",
     "varRefreshCmd": "print(var_dic_list())"
    },
    "r": {
     "delete_cmd_postfix": ") ",
     "delete_cmd_prefix": "rm(",
     "library": "var_list.r",
     "varRefreshCmd": "cat(var_dic_list()) "
    }
   },
   "position": {
    "height": "654px",
    "left": "972px",
    "right": "20px",
    "top": "65px",
    "width": "565px"
   },
   "types_to_exclude": [
    "module",
    "function",
    "builtin_function_or_method",
    "instance",
    "_Feature"
   ],
   "window_display": false
  }
 },
 "nbformat": 4,
 "nbformat_minor": 2
}
